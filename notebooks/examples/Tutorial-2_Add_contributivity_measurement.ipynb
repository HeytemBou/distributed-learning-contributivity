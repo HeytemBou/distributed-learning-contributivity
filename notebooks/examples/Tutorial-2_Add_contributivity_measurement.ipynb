{
 "cells": [
  {
   "cell_type": "markdown",
   "metadata": {
    "colab_type": "text",
    "id": "CWSFYwBkp6x7"
   },
   "source": [
    "# Tutorial 2 : Exploring contributivity \n",
    "\n",
    "With this example, we dive deeper into the potential of the library, and the notion of contributivity."
   ]
  },
  {
   "cell_type": "markdown",
   "metadata": {},
   "source": [
    "## 1 - Prerequisites\n",
    "\n",
    "In order to run this example, you'll need to:\n",
    "\n",
    "* use python 3.7 +\n",
    "* install requirements from the requirements.txt file\n",
    "* install this package https://test.pypi.org/project/pkg-test-distributed-learning-contributivity/0.0.18/\n",
    "\n",
    "If you did not follow our first tutorial, it is recommended to [take a look at it !](https://github.com/SubstraFoundation/distributed-learning-contributivity/blob/master/notebooks/examples/1%20_INTRO_MNIST.ipynb) \n"
   ]
  },
  {
   "cell_type": "code",
   "execution_count": 1,
   "metadata": {},
   "outputs": [
    {
     "name": "stdout",
     "output_type": "stream",
     "text": [
      "Looking in indexes: https://test.pypi.org/simple/\n",
      "Requirement already satisfied: subtest==0.0.0.18 in c:\\users\\arthu\\anaconda3\\envs\\distributed-learning-contributivity\\lib\\site-packages (0.0.0.18)\n",
      "Requirement already satisfied: seaborn==0.10.0 in c:\\users\\arthu\\anaconda3\\envs\\distributed-learning-contributivity\\lib\\site-packages (from subtest==0.0.0.18) (0.10.0)\n",
      "Requirement already satisfied: scikit-learn==0.22.1 in c:\\users\\arthu\\anaconda3\\envs\\distributed-learning-contributivity\\lib\\site-packages (from subtest==0.0.0.18) (0.22.1)\n",
      "Requirement already satisfied: tensorflow==2.2.0 in c:\\users\\arthu\\anaconda3\\envs\\distributed-learning-contributivity\\lib\\site-packages (from subtest==0.0.0.18) (2.2.0)\n",
      "Requirement already satisfied: ruamel.yaml.clib==0.2.2 in c:\\users\\arthu\\anaconda3\\envs\\distributed-learning-contributivity\\lib\\site-packages (from subtest==0.0.0.18) (0.2.2)\n",
      "Requirement already satisfied: matplotlib==3.1.3 in c:\\users\\arthu\\anaconda3\\envs\\distributed-learning-contributivity\\lib\\site-packages (from subtest==0.0.0.18) (3.1.3)\n",
      "Requirement already satisfied: librosa==0.8.0 in c:\\users\\arthu\\anaconda3\\envs\\distributed-learning-contributivity\\lib\\site-packages (from subtest==0.0.0.18) (0.8.0)\n",
      "Requirement already satisfied: scipy==1.4.1 in c:\\users\\arthu\\anaconda3\\envs\\distributed-learning-contributivity\\lib\\site-packages (from subtest==0.0.0.18) (1.4.1)\n",
      "Requirement already satisfied: loguru==0.4.1 in c:\\users\\arthu\\anaconda3\\envs\\distributed-learning-contributivity\\lib\\site-packages (from subtest==0.0.0.18) (0.4.1)\n",
      "Requirement already satisfied: pandas==1.0.5 in c:\\users\\arthu\\anaconda3\\envs\\distributed-learning-contributivity\\lib\\site-packages (from subtest==0.0.0.18) (1.0.5)\n",
      "Requirement already satisfied: ruamel.yaml==0.16.10 in c:\\users\\arthu\\anaconda3\\envs\\distributed-learning-contributivity\\lib\\site-packages (from subtest==0.0.0.18) (0.16.10)\n",
      "Requirement already satisfied: numpy==1.19.0 in c:\\users\\arthu\\anaconda3\\envs\\distributed-learning-contributivity\\lib\\site-packages (from subtest==0.0.0.18) (1.19.0)\n",
      "Requirement already satisfied: Keras==2.3.1 in c:\\users\\arthu\\anaconda3\\envs\\distributed-learning-contributivity\\lib\\site-packages (from subtest==0.0.0.18) (2.3.1)\n",
      "Requirement already satisfied: joblib>=0.11 in c:\\users\\arthu\\anaconda3\\envs\\distributed-learning-contributivity\\lib\\site-packages (from scikit-learn==0.22.1->subtest==0.0.0.18) (0.15.1)\n",
      "Requirement already satisfied: wheel>=0.26; python_version >= \"3\" in c:\\users\\arthu\\anaconda3\\envs\\distributed-learning-contributivity\\lib\\site-packages (from tensorflow==2.2.0->subtest==0.0.0.18) (0.35.1)\n",
      "Requirement already satisfied: google-pasta>=0.1.8 in c:\\users\\arthu\\anaconda3\\envs\\distributed-learning-contributivity\\lib\\site-packages (from tensorflow==2.2.0->subtest==0.0.0.18) (0.2.0)\n",
      "Requirement already satisfied: opt-einsum>=2.3.2 in c:\\users\\arthu\\anaconda3\\envs\\distributed-learning-contributivity\\lib\\site-packages (from tensorflow==2.2.0->subtest==0.0.0.18) (3.3.0)\n",
      "Requirement already satisfied: grpcio>=1.8.6 in c:\\users\\arthu\\anaconda3\\envs\\distributed-learning-contributivity\\lib\\site-packages (from tensorflow==2.2.0->subtest==0.0.0.18) (1.27.2)\n",
      "Requirement already satisfied: wrapt>=1.11.1 in c:\\users\\arthu\\anaconda3\\envs\\distributed-learning-contributivity\\lib\\site-packages (from tensorflow==2.2.0->subtest==0.0.0.18) (1.12.1)\n",
      "Requirement already satisfied: termcolor>=1.1.0 in c:\\users\\arthu\\anaconda3\\envs\\distributed-learning-contributivity\\lib\\site-packages (from tensorflow==2.2.0->subtest==0.0.0.18) (1.1.0)\n",
      "Requirement already satisfied: gast==0.3.3 in c:\\users\\arthu\\anaconda3\\envs\\distributed-learning-contributivity\\lib\\site-packages (from tensorflow==2.2.0->subtest==0.0.0.18) (0.3.3)\n",
      "Requirement already satisfied: astunparse==1.6.3 in c:\\users\\arthu\\anaconda3\\envs\\distributed-learning-contributivity\\lib\\site-packages (from tensorflow==2.2.0->subtest==0.0.0.18) (1.6.3)\n",
      "Requirement already satisfied: protobuf>=3.8.0 in c:\\users\\arthu\\anaconda3\\envs\\distributed-learning-contributivity\\lib\\site-packages (from tensorflow==2.2.0->subtest==0.0.0.18) (3.12.1)\n",
      "Requirement already satisfied: keras-preprocessing>=1.1.0 in c:\\users\\arthu\\anaconda3\\envs\\distributed-learning-contributivity\\lib\\site-packages (from tensorflow==2.2.0->subtest==0.0.0.18) (1.1.0)\n",
      "Requirement already satisfied: h5py<2.11.0,>=2.10.0 in c:\\users\\arthu\\anaconda3\\envs\\distributed-learning-contributivity\\lib\\site-packages (from tensorflow==2.2.0->subtest==0.0.0.18) (2.10.0)\n",
      "Requirement already satisfied: absl-py>=0.7.0 in c:\\users\\arthu\\anaconda3\\envs\\distributed-learning-contributivity\\lib\\site-packages (from tensorflow==2.2.0->subtest==0.0.0.18) (0.9.0)\n",
      "Requirement already satisfied: tensorboard<2.3.0,>=2.2.0 in c:\\users\\arthu\\anaconda3\\envs\\distributed-learning-contributivity\\lib\\site-packages (from tensorflow==2.2.0->subtest==0.0.0.18) (2.2.2)\n",
      "Requirement already satisfied: six>=1.12.0 in c:\\users\\arthu\\anaconda3\\envs\\distributed-learning-contributivity\\lib\\site-packages (from tensorflow==2.2.0->subtest==0.0.0.18) (1.15.0)\n",
      "Requirement already satisfied: tensorflow-estimator<2.3.0,>=2.2.0 in c:\\users\\arthu\\anaconda3\\envs\\distributed-learning-contributivity\\lib\\site-packages (from tensorflow==2.2.0->subtest==0.0.0.18) (2.2.0)\n",
      "Requirement already satisfied: kiwisolver>=1.0.1 in c:\\users\\arthu\\anaconda3\\envs\\distributed-learning-contributivity\\lib\\site-packages (from matplotlib==3.1.3->subtest==0.0.0.18) (1.2.0)\n",
      "Requirement already satisfied: pyparsing!=2.0.4,!=2.1.2,!=2.1.6,>=2.0.1 in c:\\users\\arthu\\anaconda3\\envs\\distributed-learning-contributivity\\lib\\site-packages (from matplotlib==3.1.3->subtest==0.0.0.18) (2.4.7)\n",
      "Requirement already satisfied: python-dateutil>=2.1 in c:\\users\\arthu\\anaconda3\\envs\\distributed-learning-contributivity\\lib\\site-packages (from matplotlib==3.1.3->subtest==0.0.0.18) (2.8.1)\n",
      "Requirement already satisfied: cycler>=0.10 in c:\\users\\arthu\\anaconda3\\envs\\distributed-learning-contributivity\\lib\\site-packages (from matplotlib==3.1.3->subtest==0.0.0.18) (0.10.0)\n",
      "Requirement already satisfied: numba>=0.43.0 in c:\\users\\arthu\\anaconda3\\envs\\distributed-learning-contributivity\\lib\\site-packages (from librosa==0.8.0->subtest==0.0.0.18) (0.51.2)\n",
      "Requirement already satisfied: audioread>=2.0.0 in c:\\users\\arthu\\anaconda3\\envs\\distributed-learning-contributivity\\lib\\site-packages (from librosa==0.8.0->subtest==0.0.0.18) (2.1.8)\n",
      "Requirement already satisfied: pooch>=1.0 in c:\\users\\arthu\\anaconda3\\envs\\distributed-learning-contributivity\\lib\\site-packages (from librosa==0.8.0->subtest==0.0.0.18) (1.1.1)\n",
      "Requirement already satisfied: resampy>=0.2.2 in c:\\users\\arthu\\anaconda3\\envs\\distributed-learning-contributivity\\lib\\site-packages (from librosa==0.8.0->subtest==0.0.0.18) (0.2.2)\n",
      "Requirement already satisfied: decorator>=3.0.0 in c:\\users\\arthu\\anaconda3\\envs\\distributed-learning-contributivity\\lib\\site-packages (from librosa==0.8.0->subtest==0.0.0.18) (4.4.2)\n",
      "Requirement already satisfied: soundfile>=0.9.0 in c:\\users\\arthu\\anaconda3\\envs\\distributed-learning-contributivity\\lib\\site-packages (from librosa==0.8.0->subtest==0.0.0.18) (0.10.3.post1)\n",
      "Requirement already satisfied: win32-setctime>=1.0.0; sys_platform == \"win32\" in c:\\users\\arthu\\anaconda3\\envs\\distributed-learning-contributivity\\lib\\site-packages (from loguru==0.4.1->subtest==0.0.0.18) (1.0.1)\n",
      "Requirement already satisfied: colorama>=0.3.4; sys_platform == \"win32\" in c:\\users\\arthu\\anaconda3\\envs\\distributed-learning-contributivity\\lib\\site-packages (from loguru==0.4.1->subtest==0.0.0.18) (0.4.3)\n",
      "Requirement already satisfied: pytz>=2017.2 in c:\\users\\arthu\\anaconda3\\envs\\distributed-learning-contributivity\\lib\\site-packages (from pandas==1.0.5->subtest==0.0.0.18) (2020.1)\n",
      "Requirement already satisfied: keras-applications>=1.0.6 in c:\\users\\arthu\\anaconda3\\envs\\distributed-learning-contributivity\\lib\\site-packages (from Keras==2.3.1->subtest==0.0.0.18) (1.0.8)\n",
      "Requirement already satisfied: pyyaml in c:\\users\\arthu\\anaconda3\\envs\\distributed-learning-contributivity\\lib\\site-packages (from Keras==2.3.1->subtest==0.0.0.18) (5.3.1)\n",
      "Requirement already satisfied: setuptools in c:\\users\\arthu\\anaconda3\\envs\\distributed-learning-contributivity\\lib\\site-packages (from protobuf>=3.8.0->tensorflow==2.2.0->subtest==0.0.0.18) (50.3.0)\n",
      "Requirement already satisfied: werkzeug>=0.11.15 in c:\\users\\arthu\\anaconda3\\envs\\distributed-learning-contributivity\\lib\\site-packages (from tensorboard<2.3.0,>=2.2.0->tensorflow==2.2.0->subtest==0.0.0.18) (0.16.1)\n",
      "Requirement already satisfied: google-auth-oauthlib<0.5,>=0.4.1 in c:\\users\\arthu\\anaconda3\\envs\\distributed-learning-contributivity\\lib\\site-packages (from tensorboard<2.3.0,>=2.2.0->tensorflow==2.2.0->subtest==0.0.0.18) (0.4.1)\n",
      "Requirement already satisfied: tensorboard-plugin-wit>=1.6.0 in c:\\users\\arthu\\anaconda3\\envs\\distributed-learning-contributivity\\lib\\site-packages (from tensorboard<2.3.0,>=2.2.0->tensorflow==2.2.0->subtest==0.0.0.18) (1.7.0)\n",
      "Requirement already satisfied: requests<3,>=2.21.0 in c:\\users\\arthu\\anaconda3\\envs\\distributed-learning-contributivity\\lib\\site-packages (from tensorboard<2.3.0,>=2.2.0->tensorflow==2.2.0->subtest==0.0.0.18) (2.23.0)\n",
      "Requirement already satisfied: markdown>=2.6.8 in c:\\users\\arthu\\anaconda3\\envs\\distributed-learning-contributivity\\lib\\site-packages (from tensorboard<2.3.0,>=2.2.0->tensorflow==2.2.0->subtest==0.0.0.18) (3.2.2)\n",
      "Requirement already satisfied: google-auth<2,>=1.6.3 in c:\\users\\arthu\\anaconda3\\envs\\distributed-learning-contributivity\\lib\\site-packages (from tensorboard<2.3.0,>=2.2.0->tensorflow==2.2.0->subtest==0.0.0.18) (1.14.3)\n",
      "Requirement already satisfied: llvmlite<0.35,>=0.34.0.dev0 in c:\\users\\arthu\\anaconda3\\envs\\distributed-learning-contributivity\\lib\\site-packages (from numba>=0.43.0->librosa==0.8.0->subtest==0.0.0.18) (0.34.0)\n",
      "Requirement already satisfied: appdirs in c:\\users\\arthu\\anaconda3\\envs\\distributed-learning-contributivity\\lib\\site-packages (from pooch>=1.0->librosa==0.8.0->subtest==0.0.0.18) (1.4.4)\n",
      "Requirement already satisfied: packaging in c:\\users\\arthu\\anaconda3\\envs\\distributed-learning-contributivity\\lib\\site-packages (from pooch>=1.0->librosa==0.8.0->subtest==0.0.0.18) (20.4)\n",
      "Requirement already satisfied: cffi>=1.0 in c:\\users\\arthu\\anaconda3\\envs\\distributed-learning-contributivity\\lib\\site-packages (from soundfile>=0.9.0->librosa==0.8.0->subtest==0.0.0.18) (1.14.0)\n",
      "Requirement already satisfied: requests-oauthlib>=0.7.0 in c:\\users\\arthu\\anaconda3\\envs\\distributed-learning-contributivity\\lib\\site-packages (from google-auth-oauthlib<0.5,>=0.4.1->tensorboard<2.3.0,>=2.2.0->tensorflow==2.2.0->subtest==0.0.0.18) (1.2.0)\n",
      "Requirement already satisfied: idna<3,>=2.5 in c:\\users\\arthu\\anaconda3\\envs\\distributed-learning-contributivity\\lib\\site-packages (from requests<3,>=2.21.0->tensorboard<2.3.0,>=2.2.0->tensorflow==2.2.0->subtest==0.0.0.18) (2.9)\n",
      "Requirement already satisfied: chardet<4,>=3.0.2 in c:\\users\\arthu\\anaconda3\\envs\\distributed-learning-contributivity\\lib\\site-packages (from requests<3,>=2.21.0->tensorboard<2.3.0,>=2.2.0->tensorflow==2.2.0->subtest==0.0.0.18) (3.0.4)\n",
      "Requirement already satisfied: certifi>=2017.4.17 in c:\\users\\arthu\\anaconda3\\envs\\distributed-learning-contributivity\\lib\\site-packages (from requests<3,>=2.21.0->tensorboard<2.3.0,>=2.2.0->tensorflow==2.2.0->subtest==0.0.0.18) (2020.6.20)\n",
      "Requirement already satisfied: urllib3!=1.25.0,!=1.25.1,<1.26,>=1.21.1 in c:\\users\\arthu\\anaconda3\\envs\\distributed-learning-contributivity\\lib\\site-packages (from requests<3,>=2.21.0->tensorboard<2.3.0,>=2.2.0->tensorflow==2.2.0->subtest==0.0.0.18) (1.25.9)\n",
      "Requirement already satisfied: importlib-metadata; python_version < \"3.8\" in c:\\users\\arthu\\anaconda3\\envs\\distributed-learning-contributivity\\lib\\site-packages (from markdown>=2.6.8->tensorboard<2.3.0,>=2.2.0->tensorflow==2.2.0->subtest==0.0.0.18) (1.6.0)\n",
      "Requirement already satisfied: pyasn1-modules>=0.2.1 in c:\\users\\arthu\\anaconda3\\envs\\distributed-learning-contributivity\\lib\\site-packages (from google-auth<2,>=1.6.3->tensorboard<2.3.0,>=2.2.0->tensorflow==2.2.0->subtest==0.0.0.18) (0.2.7)\n",
      "Requirement already satisfied: rsa<4.1,>=3.1.4 in c:\\users\\arthu\\anaconda3\\envs\\distributed-learning-contributivity\\lib\\site-packages (from google-auth<2,>=1.6.3->tensorboard<2.3.0,>=2.2.0->tensorflow==2.2.0->subtest==0.0.0.18) (4.0)\n",
      "Requirement already satisfied: cachetools<5.0,>=2.0.0 in c:\\users\\arthu\\anaconda3\\envs\\distributed-learning-contributivity\\lib\\site-packages (from google-auth<2,>=1.6.3->tensorboard<2.3.0,>=2.2.0->tensorflow==2.2.0->subtest==0.0.0.18) (4.1.0)\n",
      "Requirement already satisfied: pycparser in c:\\users\\arthu\\anaconda3\\envs\\distributed-learning-contributivity\\lib\\site-packages (from cffi>=1.0->soundfile>=0.9.0->librosa==0.8.0->subtest==0.0.0.18) (2.20)\n",
      "Requirement already satisfied: oauthlib>=3.0.0 in c:\\users\\arthu\\anaconda3\\envs\\distributed-learning-contributivity\\lib\\site-packages (from requests-oauthlib>=0.7.0->google-auth-oauthlib<0.5,>=0.4.1->tensorboard<2.3.0,>=2.2.0->tensorflow==2.2.0->subtest==0.0.0.18) (3.0.1)\n",
      "Requirement already satisfied: zipp>=0.5 in c:\\users\\arthu\\anaconda3\\envs\\distributed-learning-contributivity\\lib\\site-packages (from importlib-metadata; python_version < \"3.8\"->markdown>=2.6.8->tensorboard<2.3.0,>=2.2.0->tensorflow==2.2.0->subtest==0.0.0.18) (3.1.0)\n",
      "Requirement already satisfied: pyasn1<0.5.0,>=0.4.6 in c:\\users\\arthu\\anaconda3\\envs\\distributed-learning-contributivity\\lib\\site-packages (from pyasn1-modules>=0.2.1->google-auth<2,>=1.6.3->tensorboard<2.3.0,>=2.2.0->tensorflow==2.2.0->subtest==0.0.0.18) (0.4.8)\n"
     ]
    }
   ],
   "source": [
    "import sys\n",
    "import subprocess\n",
    "\n",
    "requirements = ['librosa==0.8.0',\n",
    " 'Keras==2.3.1',\n",
    " 'matplotlib==3.1.3',\n",
    " 'numpy==1.19.0',\n",
    " 'scipy==1.4.1',\n",
    " 'scikit-learn==0.22.1',\n",
    " 'pandas==1.0.5',\n",
    " 'seaborn==0.10.0',\n",
    " 'loguru==0.4.1',\n",
    " 'tensorflow==2.2.0',\n",
    " 'ruamel.yaml==0.16.10']\n",
    "\n",
    "def pip_install(package_name):\n",
    "    subprocess.call(\n",
    "        [sys.executable, '-m', 'pip', 'install', package_name]\n",
    "    )\n",
    "\n",
    "\n",
    "for package in requirements:\n",
    "    pip_install(package)\n",
    "\n",
    "\n",
    "!pip install -i https://test.pypi.org/simple/ subtest==0.0.0.18\n"
   ]
  },
  {
   "cell_type": "markdown",
   "metadata": {},
   "source": [
    "## 2 - Context \n",
    "\n",
    "In collaborative data science projects partners sometimes need to train a model on multiple datasets, contributed by different data providing partners. In such cases the partners might have to measure how much each dataset involved contributed to the performance of the model. This is useful for example as a basis to agree on how to share the reward of the ML challenge or the future revenues derived from the predictive model, or to detect possible corrupted datasets or partners not playing by the rules. The library explores this question and the opportunity to implement some mechanisms helping partners in such scenarios to measure each dataset's *contributivity* (as *contribution to the performance of the model*).\n",
    "\n",
    "In the first tutorial, you learnt how to parametrize and run a scenario.\n",
    "In this tutorial, you will learn how to add one of the contributivity measurement implemented to your scenario run.  "
   ]
  },
  {
   "cell_type": "code",
   "execution_count": 2,
   "metadata": {
    "colab": {
     "base_uri": "https://localhost:8080/",
     "height": 160
    },
    "colab_type": "code",
    "id": "S2CY2M0Hp6x8",
    "outputId": "46e760e1-2e02-4ed3-d031-0701a3661822"
   },
   "outputs": [],
   "source": [
    "# imports\n",
    "import pandas as pd\n",
    "import seaborn as sns\n",
    "sns.set()\n",
    "\n"
   ]
  },
  {
   "cell_type": "markdown",
   "metadata": {
    "colab_type": "text",
    "id": "esSTt9Qrp6yC"
   },
   "source": [
    "## 2 -  Setup and run the scenario\n",
    "\n",
    "We will use the same dataset, and overall setup for the scenario. The main change relies on the contributivity parameter, which is a list of the contributivity methods that will be tested. As these methods are time-consuming, the parameter is set empty. \n",
    "\n",
    "All methods available are:\n",
    "\n",
    "```python\n",
    "- \"Shapley values\"\n",
    "- \"Independent scores\"\n",
    "- \"TMCS\"\n",
    "- \"ITMCS\"\n",
    "- \"IS_lin_S\"\n",
    "- \"IS_reg_S\"\n",
    "- \"AIS_Kriging_S\"\n",
    "- \"SMCS\"\n",
    "- \"WR_SMC\"\n",
    "```\n",
    "\n",
    "See in the documentation the [dedicated section](https://github.com/SubstraFoundation/distributed-learning-contributivity/blob/master/subtest/docs/documentation.md#contributivity-measurement-approaches-studied-and-implemented) for explanation of the different methods.  \n",
    "\n",
    "Here we will use the Shapley value, a contributivity measurement which came from cooperative game theory."
   ]
  },
  {
   "cell_type": "code",
   "execution_count": 3,
   "metadata": {
    "colab": {},
    "colab_type": "code",
    "id": "M4ZdwGV3p6yD"
   },
   "outputs": [
    {
     "name": "stderr",
     "output_type": "stream",
     "text": [
      "Using TensorFlow backend.\n",
      "C:\\Users\\arthu\\Anaconda3\\envs\\distributed-learning-contributivity\\lib\\site-packages\\sklearn\\externals\\joblib\\__init__.py:15: FutureWarning: sklearn.externals.joblib is deprecated in 0.21 and will be removed in 0.23. Please import this functionality directly from joblib, which can be installed with: pip install joblib. If this warning is raised when loading pickled models, you may need to re-serialize those models with scikit-learn 0.21+.\n",
      "  warnings.warn(msg, category=FutureWarning)\n",
      "2020-09-21 10:48:22.197 | DEBUG    | subtest.scenario:__init__:88 - Dataset selected: mnist\n",
      "2020-09-21 10:48:22.199 | DEBUG    | subtest.scenario:__init__:101 - Computation use the full dataset for scenario #1\n",
      "2020-09-21 10:48:22.200 | INFO     | subtest.scenario:__init__:262 - ### Description of data scenario configured:\n",
      "2020-09-21 10:48:22.201 | INFO     | subtest.scenario:__init__:263 -    Number of partners defined: 3\n",
      "2020-09-21 10:48:22.202 | INFO     | subtest.scenario:__init__:264 -    Data distribution scenario chosen: random\n",
      "2020-09-21 10:48:22.202 | INFO     | subtest.scenario:__init__:265 -    Multi-partner learning approach: fedavg\n",
      "2020-09-21 10:48:22.203 | INFO     | subtest.scenario:__init__:266 -    Weighting option: uniform\n",
      "2020-09-21 10:48:22.203 | INFO     | subtest.scenario:__init__:267 -    Iterations parameters: 10 epochs > 3 mini-batches > 8 gradient updates per pass\n",
      "2020-09-21 10:48:22.204 | INFO     | subtest.scenario:__init__:273 - ### Data loaded: mnist\n",
      "2020-09-21 10:48:22.205 | INFO     | subtest.scenario:__init__:274 -    54000 train data with 54000 labels\n",
      "2020-09-21 10:48:22.206 | INFO     | subtest.scenario:__init__:275 -    6000 val data with 6000 labels\n",
      "2020-09-21 10:48:22.206 | INFO     | subtest.scenario:__init__:276 -    10000 test data with 10000 labels\n"
     ]
    }
   ],
   "source": [
    "from subtest.scenario import Scenario\n",
    "\n",
    "my_scenario = Scenario(partners_count=3,\n",
    "                            amounts_per_partner=[0.001, 0.699, 0.3],\n",
    "                            epoch_count=10,\n",
    "                            minibatch_count=3,\n",
    "                            dataset_name='mnist',\n",
    "                            methods=[\"Shapley values\"])  # <- Here is the difference"
   ]
  },
  {
   "cell_type": "code",
   "execution_count": 4,
   "metadata": {
    "colab": {
     "base_uri": "https://localhost:8080/",
     "height": 1000
    },
    "colab_type": "code",
    "id": "tr2Bf8vSp6yP",
    "outputId": "637edbf3-c120-450c-c7b9-1abf06f83602",
    "scrolled": true
   },
   "outputs": [
    {
     "name": "stderr",
     "output_type": "stream",
     "text": [
      "2020-09-21 10:48:22.559 | INFO     | subtest.scenario:split_data:521 - ### Splitting data among partners:\n",
      "2020-09-21 10:48:22.560 | INFO     | subtest.scenario:split_data:522 -    Simple split performed.\n",
      "2020-09-21 10:48:22.561 | INFO     | subtest.scenario:split_data:523 -    Nb of samples split amongst partners: 43738\n",
      "2020-09-21 10:48:22.564 | INFO     | subtest.scenario:split_data:525 -    Partner #0: 43 samples with labels [1, 2, 3, 4, 5, 6, 7, 8, 9]\n",
      "2020-09-21 10:48:22.565 | INFO     | subtest.scenario:split_data:525 -    Partner #1: 30573 samples with labels [0, 1, 2, 3, 4, 5, 6, 7, 8, 9]\n",
      "2020-09-21 10:48:22.565 | INFO     | subtest.scenario:split_data:525 -    Partner #2: 13122 samples with labels [0, 1, 2, 3, 4, 5, 6, 7, 8, 9]\n",
      "2020-09-21 10:48:22.957 | DEBUG    | subtest.scenario:compute_batch_sizes:569 -    Compute batch sizes, partner #0: 1\n",
      "2020-09-21 10:48:22.958 | DEBUG    | subtest.scenario:compute_batch_sizes:569 -    Compute batch sizes, partner #1: 1273\n",
      "2020-09-21 10:48:22.959 | DEBUG    | subtest.scenario:compute_batch_sizes:569 -    Compute batch sizes, partner #2: 546\n",
      "2020-09-21 10:48:22.960 | DEBUG    | subtest.scenario:preprocess_scenarios_data:574 - ## Pre-processing datasets of the scenario for keras CNN:\n",
      "2020-09-21 10:48:22.961 | DEBUG    | subtest.scenario:preprocess_scenarios_data:578 -    Central early stopping validation set: done.\n",
      "2020-09-21 10:48:22.962 | DEBUG    | subtest.scenario:preprocess_scenarios_data:580 -    Central testset: done.\n",
      "2020-09-21 10:48:22.963 | DEBUG    | subtest.scenario:preprocess_scenarios_data:602 -    Partner #0: done.\n",
      "2020-09-21 10:48:22.966 | DEBUG    | subtest.scenario:preprocess_scenarios_data:602 -    Partner #1: done.\n",
      "2020-09-21 10:48:22.967 | DEBUG    | subtest.scenario:preprocess_scenarios_data:602 -    Partner #2: done.\n",
      "2020-09-21 10:48:22.968 | DEBUG    | subtest.multi_partner_learning:__init__:78 - MultiPartnerLearning object instantiated.\n",
      "2020-09-21 10:48:22.968 | INFO     | subtest.multi_partner_learning:compute_test_score:136 - ## Training and evaluating model on partners with ids: ['#0', '#1', '#2']\n",
      "2020-09-21 10:48:23.135 | DEBUG    | subtest.multi_partner_learning:compute_collaborative_round_fedavg:289 - Start new fedavg collaborative round ...\n",
      "2020-09-21 10:48:23.136 | INFO     | subtest.multi_partner_learning:compute_collaborative_round_fedavg:301 - (fedavg) Very first minibatch of epoch n°0, init new models for each partner\n",
      "2020-09-21 10:48:36.081 | DEBUG    | subtest.multi_partner_learning:log_collaborative_round_partner_result:628 - Epoch 00/09 > Minibatch 00/02 > Partner id #0 (0/2) > val_acc: 0.24\n",
      "2020-09-21 10:48:52.563 | DEBUG    | subtest.multi_partner_learning:log_collaborative_round_partner_result:628 - Epoch 00/09 > Minibatch 00/02 > Partner id #1 (1/2) > val_acc: 0.77\n",
      "2020-09-21 10:48:59.839 | DEBUG    | subtest.multi_partner_learning:log_collaborative_round_partner_result:628 - Epoch 00/09 > Minibatch 00/02 > Partner id #2 (2/2) > val_acc: 0.73\n",
      "2020-09-21 10:48:59.847 | DEBUG    | subtest.multi_partner_learning:compute_collaborative_round_fedavg:336 - End of fedavg collaborative round.\n",
      "2020-09-21 10:48:59.849 | DEBUG    | subtest.multi_partner_learning:compute_collaborative_round_fedavg:289 - Start new fedavg collaborative round ...\n",
      "2020-09-21 10:48:59.850 | INFO     | subtest.multi_partner_learning:compute_collaborative_round_fedavg:304 - (fedavg) Minibatch n°1 of epoch n°0, init aggregated model for each partner with models from previous round\n",
      "2020-09-21 10:49:12.211 | DEBUG    | subtest.multi_partner_learning:log_collaborative_round_partner_result:628 - Epoch 00/09 > Minibatch 01/02 > Partner id #0 (0/2) > val_acc: 0.31\n",
      "2020-09-21 10:49:26.136 | DEBUG    | subtest.multi_partner_learning:log_collaborative_round_partner_result:628 - Epoch 00/09 > Minibatch 01/02 > Partner id #1 (1/2) > val_acc: 0.82\n",
      "2020-09-21 10:49:33.034 | DEBUG    | subtest.multi_partner_learning:log_collaborative_round_partner_result:628 - Epoch 00/09 > Minibatch 01/02 > Partner id #2 (2/2) > val_acc: 0.8\n",
      "2020-09-21 10:49:33.041 | DEBUG    | subtest.multi_partner_learning:compute_collaborative_round_fedavg:336 - End of fedavg collaborative round.\n",
      "2020-09-21 10:49:33.043 | DEBUG    | subtest.multi_partner_learning:compute_collaborative_round_fedavg:289 - Start new fedavg collaborative round ...\n",
      "2020-09-21 10:49:33.044 | INFO     | subtest.multi_partner_learning:compute_collaborative_round_fedavg:304 - (fedavg) Minibatch n°2 of epoch n°0, init aggregated model for each partner with models from previous round\n",
      "2020-09-21 10:49:44.638 | DEBUG    | subtest.multi_partner_learning:log_collaborative_round_partner_result:628 - Epoch 00/09 > Minibatch 02/02 > Partner id #0 (0/2) > val_acc: 0.47\n",
      "2020-09-21 10:49:57.008 | DEBUG    | subtest.multi_partner_learning:log_collaborative_round_partner_result:628 - Epoch 00/09 > Minibatch 02/02 > Partner id #1 (1/2) > val_acc: 0.87\n",
      "2020-09-21 10:50:04.906 | DEBUG    | subtest.multi_partner_learning:log_collaborative_round_partner_result:628 - Epoch 00/09 > Minibatch 02/02 > Partner id #2 (2/2) > val_acc: 0.85\n",
      "2020-09-21 10:50:04.914 | DEBUG    | subtest.multi_partner_learning:compute_collaborative_round_fedavg:336 - End of fedavg collaborative round.\n",
      "2020-09-21 10:50:06.845 | INFO     | subtest.multi_partner_learning:compute_test_score:188 -    Model evaluation at the end of the epoch: ['0.564', '0.831']\n",
      "2020-09-21 10:50:06.846 | DEBUG    | subtest.multi_partner_learning:compute_test_score:191 -       Checking if early stopping criteria are met:\n",
      "2020-09-21 10:50:06.847 | DEBUG    | subtest.multi_partner_learning:compute_test_score:201 -          -> Early stopping criteria are not met, continuing with training.\n",
      "2020-09-21 10:50:07.518 | DEBUG    | subtest.multi_partner_learning:compute_collaborative_round_fedavg:289 - Start new fedavg collaborative round ...\n",
      "2020-09-21 10:50:07.519 | INFO     | subtest.multi_partner_learning:compute_collaborative_round_fedavg:304 - (fedavg) Minibatch n°0 of epoch n°1, init aggregated model for each partner with models from previous round\n",
      "2020-09-21 10:50:19.967 | DEBUG    | subtest.multi_partner_learning:log_collaborative_round_partner_result:628 - Epoch 01/09 > Minibatch 00/02 > Partner id #0 (0/2) > val_acc: 0.64\n",
      "2020-09-21 10:50:33.610 | DEBUG    | subtest.multi_partner_learning:log_collaborative_round_partner_result:628 - Epoch 01/09 > Minibatch 00/02 > Partner id #1 (1/2) > val_acc: 0.91\n",
      "2020-09-21 10:50:40.991 | DEBUG    | subtest.multi_partner_learning:log_collaborative_round_partner_result:628 - Epoch 01/09 > Minibatch 00/02 > Partner id #2 (2/2) > val_acc: 0.9\n",
      "2020-09-21 10:50:41.000 | DEBUG    | subtest.multi_partner_learning:compute_collaborative_round_fedavg:336 - End of fedavg collaborative round.\n",
      "2020-09-21 10:50:41.001 | DEBUG    | subtest.multi_partner_learning:compute_collaborative_round_fedavg:289 - Start new fedavg collaborative round ...\n",
      "2020-09-21 10:50:41.003 | INFO     | subtest.multi_partner_learning:compute_collaborative_round_fedavg:304 - (fedavg) Minibatch n°1 of epoch n°1, init aggregated model for each partner with models from previous round\n",
      "2020-09-21 10:50:54.583 | DEBUG    | subtest.multi_partner_learning:log_collaborative_round_partner_result:628 - Epoch 01/09 > Minibatch 01/02 > Partner id #0 (0/2) > val_acc: 0.7\n",
      "2020-09-21 10:51:07.929 | DEBUG    | subtest.multi_partner_learning:log_collaborative_round_partner_result:628 - Epoch 01/09 > Minibatch 01/02 > Partner id #1 (1/2) > val_acc: 0.93\n",
      "2020-09-21 10:51:15.386 | DEBUG    | subtest.multi_partner_learning:log_collaborative_round_partner_result:628 - Epoch 01/09 > Minibatch 01/02 > Partner id #2 (2/2) > val_acc: 0.9\n",
      "2020-09-21 10:51:15.396 | DEBUG    | subtest.multi_partner_learning:compute_collaborative_round_fedavg:336 - End of fedavg collaborative round.\n",
      "2020-09-21 10:51:15.398 | DEBUG    | subtest.multi_partner_learning:compute_collaborative_round_fedavg:289 - Start new fedavg collaborative round ...\n",
      "2020-09-21 10:51:15.399 | INFO     | subtest.multi_partner_learning:compute_collaborative_round_fedavg:304 - (fedavg) Minibatch n°2 of epoch n°1, init aggregated model for each partner with models from previous round\n",
      "2020-09-21 10:51:28.891 | DEBUG    | subtest.multi_partner_learning:log_collaborative_round_partner_result:628 - Epoch 01/09 > Minibatch 02/02 > Partner id #0 (0/2) > val_acc: 0.65\n"
     ]
    },
    {
     "name": "stderr",
     "output_type": "stream",
     "text": [
      "2020-09-21 10:51:43.878 | DEBUG    | subtest.multi_partner_learning:log_collaborative_round_partner_result:628 - Epoch 01/09 > Minibatch 02/02 > Partner id #1 (1/2) > val_acc: 0.93\n",
      "2020-09-21 10:51:51.106 | DEBUG    | subtest.multi_partner_learning:log_collaborative_round_partner_result:628 - Epoch 01/09 > Minibatch 02/02 > Partner id #2 (2/2) > val_acc: 0.93\n",
      "2020-09-21 10:51:51.112 | DEBUG    | subtest.multi_partner_learning:compute_collaborative_round_fedavg:336 - End of fedavg collaborative round.\n",
      "2020-09-21 10:51:53.052 | INFO     | subtest.multi_partner_learning:compute_test_score:188 -    Model evaluation at the end of the epoch: ['0.285', '0.920']\n",
      "2020-09-21 10:51:53.054 | DEBUG    | subtest.multi_partner_learning:compute_test_score:191 -       Checking if early stopping criteria are met:\n",
      "2020-09-21 10:51:53.056 | DEBUG    | subtest.multi_partner_learning:compute_test_score:201 -          -> Early stopping criteria are not met, continuing with training.\n",
      "2020-09-21 10:51:53.207 | DEBUG    | subtest.multi_partner_learning:compute_collaborative_round_fedavg:289 - Start new fedavg collaborative round ...\n",
      "2020-09-21 10:51:53.208 | INFO     | subtest.multi_partner_learning:compute_collaborative_round_fedavg:304 - (fedavg) Minibatch n°0 of epoch n°2, init aggregated model for each partner with models from previous round\n",
      "2020-09-21 10:52:06.724 | DEBUG    | subtest.multi_partner_learning:log_collaborative_round_partner_result:628 - Epoch 02/09 > Minibatch 00/02 > Partner id #0 (0/2) > val_acc: 0.63\n",
      "2020-09-21 10:52:20.941 | DEBUG    | subtest.multi_partner_learning:log_collaborative_round_partner_result:628 - Epoch 02/09 > Minibatch 00/02 > Partner id #1 (1/2) > val_acc: 0.95\n",
      "2020-09-21 10:52:29.319 | DEBUG    | subtest.multi_partner_learning:log_collaborative_round_partner_result:628 - Epoch 02/09 > Minibatch 00/02 > Partner id #2 (2/2) > val_acc: 0.93\n",
      "2020-09-21 10:52:29.330 | DEBUG    | subtest.multi_partner_learning:compute_collaborative_round_fedavg:336 - End of fedavg collaborative round.\n",
      "2020-09-21 10:52:29.331 | DEBUG    | subtest.multi_partner_learning:compute_collaborative_round_fedavg:289 - Start new fedavg collaborative round ...\n",
      "2020-09-21 10:52:29.333 | INFO     | subtest.multi_partner_learning:compute_collaborative_round_fedavg:304 - (fedavg) Minibatch n°1 of epoch n°2, init aggregated model for each partner with models from previous round\n",
      "2020-09-21 10:52:42.969 | DEBUG    | subtest.multi_partner_learning:log_collaborative_round_partner_result:628 - Epoch 02/09 > Minibatch 01/02 > Partner id #0 (0/2) > val_acc: 0.69\n",
      "2020-09-21 10:53:02.734 | DEBUG    | subtest.multi_partner_learning:log_collaborative_round_partner_result:628 - Epoch 02/09 > Minibatch 01/02 > Partner id #1 (1/2) > val_acc: 0.95\n",
      "2020-09-21 10:53:13.539 | DEBUG    | subtest.multi_partner_learning:log_collaborative_round_partner_result:628 - Epoch 02/09 > Minibatch 01/02 > Partner id #2 (2/2) > val_acc: 0.95\n",
      "2020-09-21 10:53:13.547 | DEBUG    | subtest.multi_partner_learning:compute_collaborative_round_fedavg:336 - End of fedavg collaborative round.\n",
      "2020-09-21 10:53:13.549 | DEBUG    | subtest.multi_partner_learning:compute_collaborative_round_fedavg:289 - Start new fedavg collaborative round ...\n",
      "2020-09-21 10:53:13.550 | INFO     | subtest.multi_partner_learning:compute_collaborative_round_fedavg:304 - (fedavg) Minibatch n°2 of epoch n°2, init aggregated model for each partner with models from previous round\n",
      "2020-09-21 10:53:26.963 | DEBUG    | subtest.multi_partner_learning:log_collaborative_round_partner_result:628 - Epoch 02/09 > Minibatch 02/02 > Partner id #0 (0/2) > val_acc: 0.74\n",
      "2020-09-21 10:53:42.359 | DEBUG    | subtest.multi_partner_learning:log_collaborative_round_partner_result:628 - Epoch 02/09 > Minibatch 02/02 > Partner id #1 (1/2) > val_acc: 0.96\n",
      "2020-09-21 10:53:50.728 | DEBUG    | subtest.multi_partner_learning:log_collaborative_round_partner_result:628 - Epoch 02/09 > Minibatch 02/02 > Partner id #2 (2/2) > val_acc: 0.96\n",
      "2020-09-21 10:53:50.738 | DEBUG    | subtest.multi_partner_learning:compute_collaborative_round_fedavg:336 - End of fedavg collaborative round.\n",
      "2020-09-21 10:53:53.110 | INFO     | subtest.multi_partner_learning:compute_test_score:188 -    Model evaluation at the end of the epoch: ['0.196', '0.940']\n",
      "2020-09-21 10:53:53.112 | DEBUG    | subtest.multi_partner_learning:compute_test_score:191 -       Checking if early stopping criteria are met:\n",
      "2020-09-21 10:53:53.113 | DEBUG    | subtest.multi_partner_learning:compute_test_score:201 -          -> Early stopping criteria are not met, continuing with training.\n",
      "2020-09-21 10:53:53.255 | DEBUG    | subtest.multi_partner_learning:compute_collaborative_round_fedavg:289 - Start new fedavg collaborative round ...\n",
      "2020-09-21 10:53:53.256 | INFO     | subtest.multi_partner_learning:compute_collaborative_round_fedavg:304 - (fedavg) Minibatch n°0 of epoch n°3, init aggregated model for each partner with models from previous round\n",
      "2020-09-21 10:54:08.000 | DEBUG    | subtest.multi_partner_learning:log_collaborative_round_partner_result:628 - Epoch 03/09 > Minibatch 00/02 > Partner id #0 (0/2) > val_acc: 0.88\n",
      "2020-09-21 10:54:22.211 | DEBUG    | subtest.multi_partner_learning:log_collaborative_round_partner_result:628 - Epoch 03/09 > Minibatch 00/02 > Partner id #1 (1/2) > val_acc: 0.96\n",
      "2020-09-21 10:54:30.715 | DEBUG    | subtest.multi_partner_learning:log_collaborative_round_partner_result:628 - Epoch 03/09 > Minibatch 00/02 > Partner id #2 (2/2) > val_acc: 0.96\n",
      "2020-09-21 10:54:30.724 | DEBUG    | subtest.multi_partner_learning:compute_collaborative_round_fedavg:336 - End of fedavg collaborative round.\n",
      "2020-09-21 10:54:30.727 | DEBUG    | subtest.multi_partner_learning:compute_collaborative_round_fedavg:289 - Start new fedavg collaborative round ...\n",
      "2020-09-21 10:54:30.730 | INFO     | subtest.multi_partner_learning:compute_collaborative_round_fedavg:304 - (fedavg) Minibatch n°1 of epoch n°3, init aggregated model for each partner with models from previous round\n",
      "2020-09-21 10:54:45.064 | DEBUG    | subtest.multi_partner_learning:log_collaborative_round_partner_result:628 - Epoch 03/09 > Minibatch 01/02 > Partner id #0 (0/2) > val_acc: 0.92\n",
      "2020-09-21 10:54:59.527 | DEBUG    | subtest.multi_partner_learning:log_collaborative_round_partner_result:628 - Epoch 03/09 > Minibatch 01/02 > Partner id #1 (1/2) > val_acc: 0.97\n",
      "2020-09-21 10:55:07.049 | DEBUG    | subtest.multi_partner_learning:log_collaborative_round_partner_result:628 - Epoch 03/09 > Minibatch 01/02 > Partner id #2 (2/2) > val_acc: 0.95\n",
      "2020-09-21 10:55:07.056 | DEBUG    | subtest.multi_partner_learning:compute_collaborative_round_fedavg:336 - End of fedavg collaborative round.\n",
      "2020-09-21 10:55:07.057 | DEBUG    | subtest.multi_partner_learning:compute_collaborative_round_fedavg:289 - Start new fedavg collaborative round ...\n",
      "2020-09-21 10:55:07.059 | INFO     | subtest.multi_partner_learning:compute_collaborative_round_fedavg:304 - (fedavg) Minibatch n°2 of epoch n°3, init aggregated model for each partner with models from previous round\n",
      "2020-09-21 10:55:21.000 | DEBUG    | subtest.multi_partner_learning:log_collaborative_round_partner_result:628 - Epoch 03/09 > Minibatch 02/02 > Partner id #0 (0/2) > val_acc: 0.84\n",
      "2020-09-21 10:55:34.553 | DEBUG    | subtest.multi_partner_learning:log_collaborative_round_partner_result:628 - Epoch 03/09 > Minibatch 02/02 > Partner id #1 (1/2) > val_acc: 0.97\n",
      "2020-09-21 10:55:41.963 | DEBUG    | subtest.multi_partner_learning:log_collaborative_round_partner_result:628 - Epoch 03/09 > Minibatch 02/02 > Partner id #2 (2/2) > val_acc: 0.97\n",
      "2020-09-21 10:55:41.972 | DEBUG    | subtest.multi_partner_learning:compute_collaborative_round_fedavg:336 - End of fedavg collaborative round.\n",
      "2020-09-21 10:55:44.275 | INFO     | subtest.multi_partner_learning:compute_test_score:188 -    Model evaluation at the end of the epoch: ['0.119', '0.962']\n",
      "2020-09-21 10:55:44.278 | DEBUG    | subtest.multi_partner_learning:compute_test_score:191 -       Checking if early stopping criteria are met:\n",
      "2020-09-21 10:55:44.280 | DEBUG    | subtest.multi_partner_learning:compute_test_score:201 -          -> Early stopping criteria are not met, continuing with training.\n"
     ]
    },
    {
     "name": "stderr",
     "output_type": "stream",
     "text": [
      "2020-09-21 10:55:44.478 | DEBUG    | subtest.multi_partner_learning:compute_collaborative_round_fedavg:289 - Start new fedavg collaborative round ...\n",
      "2020-09-21 10:55:44.480 | INFO     | subtest.multi_partner_learning:compute_collaborative_round_fedavg:304 - (fedavg) Minibatch n°0 of epoch n°4, init aggregated model for each partner with models from previous round\n",
      "2020-09-21 10:55:59.631 | DEBUG    | subtest.multi_partner_learning:log_collaborative_round_partner_result:628 - Epoch 04/09 > Minibatch 00/02 > Partner id #0 (0/2) > val_acc: 0.94\n",
      "2020-09-21 10:56:14.163 | DEBUG    | subtest.multi_partner_learning:log_collaborative_round_partner_result:628 - Epoch 04/09 > Minibatch 00/02 > Partner id #1 (1/2) > val_acc: 0.97\n",
      "2020-09-21 10:56:21.668 | DEBUG    | subtest.multi_partner_learning:log_collaborative_round_partner_result:628 - Epoch 04/09 > Minibatch 00/02 > Partner id #2 (2/2) > val_acc: 0.97\n",
      "2020-09-21 10:56:21.675 | DEBUG    | subtest.multi_partner_learning:compute_collaborative_round_fedavg:336 - End of fedavg collaborative round.\n",
      "2020-09-21 10:56:21.676 | DEBUG    | subtest.multi_partner_learning:compute_collaborative_round_fedavg:289 - Start new fedavg collaborative round ...\n",
      "2020-09-21 10:56:21.678 | INFO     | subtest.multi_partner_learning:compute_collaborative_round_fedavg:304 - (fedavg) Minibatch n°1 of epoch n°4, init aggregated model for each partner with models from previous round\n",
      "2020-09-21 10:56:34.877 | DEBUG    | subtest.multi_partner_learning:log_collaborative_round_partner_result:628 - Epoch 04/09 > Minibatch 01/02 > Partner id #0 (0/2) > val_acc: 0.89\n",
      "2020-09-21 10:56:48.913 | DEBUG    | subtest.multi_partner_learning:log_collaborative_round_partner_result:628 - Epoch 04/09 > Minibatch 01/02 > Partner id #1 (1/2) > val_acc: 0.97\n",
      "2020-09-21 10:56:56.222 | DEBUG    | subtest.multi_partner_learning:log_collaborative_round_partner_result:628 - Epoch 04/09 > Minibatch 01/02 > Partner id #2 (2/2) > val_acc: 0.97\n",
      "2020-09-21 10:56:56.229 | DEBUG    | subtest.multi_partner_learning:compute_collaborative_round_fedavg:336 - End of fedavg collaborative round.\n",
      "2020-09-21 10:56:56.231 | DEBUG    | subtest.multi_partner_learning:compute_collaborative_round_fedavg:289 - Start new fedavg collaborative round ...\n",
      "2020-09-21 10:56:56.231 | INFO     | subtest.multi_partner_learning:compute_collaborative_round_fedavg:304 - (fedavg) Minibatch n°2 of epoch n°4, init aggregated model for each partner with models from previous round\n",
      "2020-09-21 10:57:08.590 | DEBUG    | subtest.multi_partner_learning:log_collaborative_round_partner_result:628 - Epoch 04/09 > Minibatch 02/02 > Partner id #0 (0/2) > val_acc: 0.96\n",
      "2020-09-21 10:57:21.473 | DEBUG    | subtest.multi_partner_learning:log_collaborative_round_partner_result:628 - Epoch 04/09 > Minibatch 02/02 > Partner id #1 (1/2) > val_acc: 0.97\n",
      "2020-09-21 10:57:28.874 | DEBUG    | subtest.multi_partner_learning:log_collaborative_round_partner_result:628 - Epoch 04/09 > Minibatch 02/02 > Partner id #2 (2/2) > val_acc: 0.97\n",
      "2020-09-21 10:57:28.882 | DEBUG    | subtest.multi_partner_learning:compute_collaborative_round_fedavg:336 - End of fedavg collaborative round.\n",
      "2020-09-21 10:57:31.053 | INFO     | subtest.multi_partner_learning:compute_test_score:188 -    Model evaluation at the end of the epoch: ['0.079', '0.977']\n",
      "2020-09-21 10:57:31.055 | DEBUG    | subtest.multi_partner_learning:compute_test_score:191 -       Checking if early stopping criteria are met:\n",
      "2020-09-21 10:57:31.061 | DEBUG    | subtest.multi_partner_learning:compute_test_score:201 -          -> Early stopping criteria are not met, continuing with training.\n",
      "2020-09-21 10:57:31.203 | DEBUG    | subtest.multi_partner_learning:compute_collaborative_round_fedavg:289 - Start new fedavg collaborative round ...\n",
      "2020-09-21 10:57:31.204 | INFO     | subtest.multi_partner_learning:compute_collaborative_round_fedavg:304 - (fedavg) Minibatch n°0 of epoch n°5, init aggregated model for each partner with models from previous round\n",
      "2020-09-21 10:57:44.329 | DEBUG    | subtest.multi_partner_learning:log_collaborative_round_partner_result:628 - Epoch 05/09 > Minibatch 00/02 > Partner id #0 (0/2) > val_acc: 0.88\n",
      "2020-09-21 10:57:58.846 | DEBUG    | subtest.multi_partner_learning:log_collaborative_round_partner_result:628 - Epoch 05/09 > Minibatch 00/02 > Partner id #1 (1/2) > val_acc: 0.98\n",
      "2020-09-21 10:58:06.074 | DEBUG    | subtest.multi_partner_learning:log_collaborative_round_partner_result:628 - Epoch 05/09 > Minibatch 00/02 > Partner id #2 (2/2) > val_acc: 0.97\n",
      "2020-09-21 10:58:06.080 | DEBUG    | subtest.multi_partner_learning:compute_collaborative_round_fedavg:336 - End of fedavg collaborative round.\n",
      "2020-09-21 10:58:06.081 | DEBUG    | subtest.multi_partner_learning:compute_collaborative_round_fedavg:289 - Start new fedavg collaborative round ...\n",
      "2020-09-21 10:58:06.082 | INFO     | subtest.multi_partner_learning:compute_collaborative_round_fedavg:304 - (fedavg) Minibatch n°1 of epoch n°5, init aggregated model for each partner with models from previous round\n",
      "2020-09-21 10:58:18.907 | DEBUG    | subtest.multi_partner_learning:log_collaborative_round_partner_result:628 - Epoch 05/09 > Minibatch 01/02 > Partner id #0 (0/2) > val_acc: 0.87\n",
      "2020-09-21 10:58:32.904 | DEBUG    | subtest.multi_partner_learning:log_collaborative_round_partner_result:628 - Epoch 05/09 > Minibatch 01/02 > Partner id #1 (1/2) > val_acc: 0.98\n",
      "2020-09-21 10:58:41.964 | DEBUG    | subtest.multi_partner_learning:log_collaborative_round_partner_result:628 - Epoch 05/09 > Minibatch 01/02 > Partner id #2 (2/2) > val_acc: 0.98\n",
      "2020-09-21 10:58:41.971 | DEBUG    | subtest.multi_partner_learning:compute_collaborative_round_fedavg:336 - End of fedavg collaborative round.\n",
      "2020-09-21 10:58:41.973 | DEBUG    | subtest.multi_partner_learning:compute_collaborative_round_fedavg:289 - Start new fedavg collaborative round ...\n",
      "2020-09-21 10:58:41.974 | INFO     | subtest.multi_partner_learning:compute_collaborative_round_fedavg:304 - (fedavg) Minibatch n°2 of epoch n°5, init aggregated model for each partner with models from previous round\n",
      "2020-09-21 10:58:55.423 | DEBUG    | subtest.multi_partner_learning:log_collaborative_round_partner_result:628 - Epoch 05/09 > Minibatch 02/02 > Partner id #0 (0/2) > val_acc: 0.86\n",
      "2020-09-21 10:59:09.591 | DEBUG    | subtest.multi_partner_learning:log_collaborative_round_partner_result:628 - Epoch 05/09 > Minibatch 02/02 > Partner id #1 (1/2) > val_acc: 0.98\n",
      "2020-09-21 10:59:17.191 | DEBUG    | subtest.multi_partner_learning:log_collaborative_round_partner_result:628 - Epoch 05/09 > Minibatch 02/02 > Partner id #2 (2/2) > val_acc: 0.98\n",
      "2020-09-21 10:59:17.199 | DEBUG    | subtest.multi_partner_learning:compute_collaborative_round_fedavg:336 - End of fedavg collaborative round.\n",
      "2020-09-21 10:59:19.150 | INFO     | subtest.multi_partner_learning:compute_test_score:188 -    Model evaluation at the end of the epoch: ['0.078', '0.978']\n",
      "2020-09-21 10:59:19.152 | DEBUG    | subtest.multi_partner_learning:compute_test_score:191 -       Checking if early stopping criteria are met:\n",
      "2020-09-21 10:59:19.153 | DEBUG    | subtest.multi_partner_learning:compute_test_score:201 -          -> Early stopping criteria are not met, continuing with training.\n",
      "2020-09-21 10:59:19.289 | DEBUG    | subtest.multi_partner_learning:compute_collaborative_round_fedavg:289 - Start new fedavg collaborative round ...\n",
      "2020-09-21 10:59:19.291 | INFO     | subtest.multi_partner_learning:compute_collaborative_round_fedavg:304 - (fedavg) Minibatch n°0 of epoch n°6, init aggregated model for each partner with models from previous round\n",
      "2020-09-21 10:59:32.460 | DEBUG    | subtest.multi_partner_learning:log_collaborative_round_partner_result:628 - Epoch 06/09 > Minibatch 00/02 > Partner id #0 (0/2) > val_acc: 0.78\n",
      "2020-09-21 10:59:45.836 | DEBUG    | subtest.multi_partner_learning:log_collaborative_round_partner_result:628 - Epoch 06/09 > Minibatch 00/02 > Partner id #1 (1/2) > val_acc: 0.98\n",
      "2020-09-21 10:59:53.620 | DEBUG    | subtest.multi_partner_learning:log_collaborative_round_partner_result:628 - Epoch 06/09 > Minibatch 00/02 > Partner id #2 (2/2) > val_acc: 0.97\n",
      "2020-09-21 10:59:53.628 | DEBUG    | subtest.multi_partner_learning:compute_collaborative_round_fedavg:336 - End of fedavg collaborative round.\n"
     ]
    },
    {
     "name": "stderr",
     "output_type": "stream",
     "text": [
      "2020-09-21 10:59:53.630 | DEBUG    | subtest.multi_partner_learning:compute_collaborative_round_fedavg:289 - Start new fedavg collaborative round ...\n",
      "2020-09-21 10:59:53.631 | INFO     | subtest.multi_partner_learning:compute_collaborative_round_fedavg:304 - (fedavg) Minibatch n°1 of epoch n°6, init aggregated model for each partner with models from previous round\n",
      "2020-09-21 11:00:06.307 | DEBUG    | subtest.multi_partner_learning:log_collaborative_round_partner_result:628 - Epoch 06/09 > Minibatch 01/02 > Partner id #0 (0/2) > val_acc: 0.9\n",
      "2020-09-21 11:00:19.673 | DEBUG    | subtest.multi_partner_learning:log_collaborative_round_partner_result:628 - Epoch 06/09 > Minibatch 01/02 > Partner id #1 (1/2) > val_acc: 0.98\n",
      "2020-09-21 11:00:27.724 | DEBUG    | subtest.multi_partner_learning:log_collaborative_round_partner_result:628 - Epoch 06/09 > Minibatch 01/02 > Partner id #2 (2/2) > val_acc: 0.98\n",
      "2020-09-21 11:00:27.730 | DEBUG    | subtest.multi_partner_learning:compute_collaborative_round_fedavg:336 - End of fedavg collaborative round.\n",
      "2020-09-21 11:00:27.732 | DEBUG    | subtest.multi_partner_learning:compute_collaborative_round_fedavg:289 - Start new fedavg collaborative round ...\n",
      "2020-09-21 11:00:27.733 | INFO     | subtest.multi_partner_learning:compute_collaborative_round_fedavg:304 - (fedavg) Minibatch n°2 of epoch n°6, init aggregated model for each partner with models from previous round\n",
      "2020-09-21 11:00:42.719 | DEBUG    | subtest.multi_partner_learning:log_collaborative_round_partner_result:628 - Epoch 06/09 > Minibatch 02/02 > Partner id #0 (0/2) > val_acc: 0.84\n",
      "2020-09-21 11:00:56.948 | DEBUG    | subtest.multi_partner_learning:log_collaborative_round_partner_result:628 - Epoch 06/09 > Minibatch 02/02 > Partner id #1 (1/2) > val_acc: 0.98\n",
      "2020-09-21 11:01:05.595 | DEBUG    | subtest.multi_partner_learning:log_collaborative_round_partner_result:628 - Epoch 06/09 > Minibatch 02/02 > Partner id #2 (2/2) > val_acc: 0.98\n",
      "2020-09-21 11:01:05.603 | DEBUG    | subtest.multi_partner_learning:compute_collaborative_round_fedavg:336 - End of fedavg collaborative round.\n",
      "2020-09-21 11:01:07.486 | INFO     | subtest.multi_partner_learning:compute_test_score:188 -    Model evaluation at the end of the epoch: ['0.073', '0.979']\n",
      "2020-09-21 11:01:07.487 | DEBUG    | subtest.multi_partner_learning:compute_test_score:191 -       Checking if early stopping criteria are met:\n",
      "2020-09-21 11:01:07.488 | DEBUG    | subtest.multi_partner_learning:compute_test_score:201 -          -> Early stopping criteria are not met, continuing with training.\n",
      "2020-09-21 11:01:07.610 | DEBUG    | subtest.multi_partner_learning:compute_collaborative_round_fedavg:289 - Start new fedavg collaborative round ...\n",
      "2020-09-21 11:01:07.611 | INFO     | subtest.multi_partner_learning:compute_collaborative_round_fedavg:304 - (fedavg) Minibatch n°0 of epoch n°7, init aggregated model for each partner with models from previous round\n",
      "2020-09-21 11:01:20.696 | DEBUG    | subtest.multi_partner_learning:log_collaborative_round_partner_result:628 - Epoch 07/09 > Minibatch 00/02 > Partner id #0 (0/2) > val_acc: 0.95\n",
      "2020-09-21 11:01:33.775 | DEBUG    | subtest.multi_partner_learning:log_collaborative_round_partner_result:628 - Epoch 07/09 > Minibatch 00/02 > Partner id #1 (1/2) > val_acc: 0.98\n",
      "2020-09-21 11:01:42.341 | DEBUG    | subtest.multi_partner_learning:log_collaborative_round_partner_result:628 - Epoch 07/09 > Minibatch 00/02 > Partner id #2 (2/2) > val_acc: 0.97\n",
      "2020-09-21 11:01:42.350 | DEBUG    | subtest.multi_partner_learning:compute_collaborative_round_fedavg:336 - End of fedavg collaborative round.\n",
      "2020-09-21 11:01:42.352 | DEBUG    | subtest.multi_partner_learning:compute_collaborative_round_fedavg:289 - Start new fedavg collaborative round ...\n",
      "2020-09-21 11:01:42.353 | INFO     | subtest.multi_partner_learning:compute_collaborative_round_fedavg:304 - (fedavg) Minibatch n°1 of epoch n°7, init aggregated model for each partner with models from previous round\n",
      "2020-09-21 11:01:57.894 | DEBUG    | subtest.multi_partner_learning:log_collaborative_round_partner_result:628 - Epoch 07/09 > Minibatch 01/02 > Partner id #0 (0/2) > val_acc: 0.94\n",
      "2020-09-21 11:02:12.909 | DEBUG    | subtest.multi_partner_learning:log_collaborative_round_partner_result:628 - Epoch 07/09 > Minibatch 01/02 > Partner id #1 (1/2) > val_acc: 0.98\n",
      "2020-09-21 11:02:20.475 | DEBUG    | subtest.multi_partner_learning:log_collaborative_round_partner_result:628 - Epoch 07/09 > Minibatch 01/02 > Partner id #2 (2/2) > val_acc: 0.98\n",
      "2020-09-21 11:02:20.481 | DEBUG    | subtest.multi_partner_learning:compute_collaborative_round_fedavg:336 - End of fedavg collaborative round.\n",
      "2020-09-21 11:02:20.482 | DEBUG    | subtest.multi_partner_learning:compute_collaborative_round_fedavg:289 - Start new fedavg collaborative round ...\n",
      "2020-09-21 11:02:20.483 | INFO     | subtest.multi_partner_learning:compute_collaborative_round_fedavg:304 - (fedavg) Minibatch n°2 of epoch n°7, init aggregated model for each partner with models from previous round\n",
      "2020-09-21 11:02:33.373 | DEBUG    | subtest.multi_partner_learning:log_collaborative_round_partner_result:628 - Epoch 07/09 > Minibatch 02/02 > Partner id #0 (0/2) > val_acc: 0.9\n",
      "2020-09-21 11:02:46.076 | DEBUG    | subtest.multi_partner_learning:log_collaborative_round_partner_result:628 - Epoch 07/09 > Minibatch 02/02 > Partner id #1 (1/2) > val_acc: 0.98\n",
      "2020-09-21 11:02:53.848 | DEBUG    | subtest.multi_partner_learning:log_collaborative_round_partner_result:628 - Epoch 07/09 > Minibatch 02/02 > Partner id #2 (2/2) > val_acc: 0.98\n",
      "2020-09-21 11:02:53.857 | DEBUG    | subtest.multi_partner_learning:compute_collaborative_round_fedavg:336 - End of fedavg collaborative round.\n",
      "2020-09-21 11:02:55.825 | INFO     | subtest.multi_partner_learning:compute_test_score:188 -    Model evaluation at the end of the epoch: ['0.067', '0.980']\n",
      "2020-09-21 11:02:55.827 | DEBUG    | subtest.multi_partner_learning:compute_test_score:191 -       Checking if early stopping criteria are met:\n",
      "2020-09-21 11:02:55.828 | DEBUG    | subtest.multi_partner_learning:compute_test_score:201 -          -> Early stopping criteria are not met, continuing with training.\n",
      "2020-09-21 11:02:55.962 | DEBUG    | subtest.multi_partner_learning:compute_collaborative_round_fedavg:289 - Start new fedavg collaborative round ...\n",
      "2020-09-21 11:02:55.963 | INFO     | subtest.multi_partner_learning:compute_collaborative_round_fedavg:304 - (fedavg) Minibatch n°0 of epoch n°8, init aggregated model for each partner with models from previous round\n",
      "2020-09-21 11:03:08.256 | DEBUG    | subtest.multi_partner_learning:log_collaborative_round_partner_result:628 - Epoch 08/09 > Minibatch 00/02 > Partner id #0 (0/2) > val_acc: 0.88\n",
      "2020-09-21 11:03:20.756 | DEBUG    | subtest.multi_partner_learning:log_collaborative_round_partner_result:628 - Epoch 08/09 > Minibatch 00/02 > Partner id #1 (1/2) > val_acc: 0.98\n",
      "2020-09-21 11:03:27.439 | DEBUG    | subtest.multi_partner_learning:log_collaborative_round_partner_result:628 - Epoch 08/09 > Minibatch 00/02 > Partner id #2 (2/2) > val_acc: 0.98\n",
      "2020-09-21 11:03:27.446 | DEBUG    | subtest.multi_partner_learning:compute_collaborative_round_fedavg:336 - End of fedavg collaborative round.\n",
      "2020-09-21 11:03:27.447 | DEBUG    | subtest.multi_partner_learning:compute_collaborative_round_fedavg:289 - Start new fedavg collaborative round ...\n",
      "2020-09-21 11:03:27.448 | INFO     | subtest.multi_partner_learning:compute_collaborative_round_fedavg:304 - (fedavg) Minibatch n°1 of epoch n°8, init aggregated model for each partner with models from previous round\n",
      "2020-09-21 11:03:39.601 | DEBUG    | subtest.multi_partner_learning:log_collaborative_round_partner_result:628 - Epoch 08/09 > Minibatch 01/02 > Partner id #0 (0/2) > val_acc: 0.97\n",
      "2020-09-21 11:03:52.375 | DEBUG    | subtest.multi_partner_learning:log_collaborative_round_partner_result:628 - Epoch 08/09 > Minibatch 01/02 > Partner id #1 (1/2) > val_acc: 0.98\n",
      "2020-09-21 11:03:59.319 | DEBUG    | subtest.multi_partner_learning:log_collaborative_round_partner_result:628 - Epoch 08/09 > Minibatch 01/02 > Partner id #2 (2/2) > val_acc: 0.98\n",
      "2020-09-21 11:03:59.328 | DEBUG    | subtest.multi_partner_learning:compute_collaborative_round_fedavg:336 - End of fedavg collaborative round.\n"
     ]
    },
    {
     "name": "stderr",
     "output_type": "stream",
     "text": [
      "2020-09-21 11:03:59.330 | DEBUG    | subtest.multi_partner_learning:compute_collaborative_round_fedavg:289 - Start new fedavg collaborative round ...\n",
      "2020-09-21 11:03:59.331 | INFO     | subtest.multi_partner_learning:compute_collaborative_round_fedavg:304 - (fedavg) Minibatch n°2 of epoch n°8, init aggregated model for each partner with models from previous round\n",
      "2020-09-21 11:04:11.741 | DEBUG    | subtest.multi_partner_learning:log_collaborative_round_partner_result:628 - Epoch 08/09 > Minibatch 02/02 > Partner id #0 (0/2) > val_acc: 0.94\n",
      "2020-09-21 11:04:24.672 | DEBUG    | subtest.multi_partner_learning:log_collaborative_round_partner_result:628 - Epoch 08/09 > Minibatch 02/02 > Partner id #1 (1/2) > val_acc: 0.98\n",
      "2020-09-21 11:04:31.641 | DEBUG    | subtest.multi_partner_learning:log_collaborative_round_partner_result:628 - Epoch 08/09 > Minibatch 02/02 > Partner id #2 (2/2) > val_acc: 0.98\n",
      "2020-09-21 11:04:31.648 | DEBUG    | subtest.multi_partner_learning:compute_collaborative_round_fedavg:336 - End of fedavg collaborative round.\n",
      "2020-09-21 11:04:33.474 | INFO     | subtest.multi_partner_learning:compute_test_score:188 -    Model evaluation at the end of the epoch: ['0.065', '0.981']\n",
      "2020-09-21 11:04:33.476 | DEBUG    | subtest.multi_partner_learning:compute_test_score:191 -       Checking if early stopping criteria are met:\n",
      "2020-09-21 11:04:33.477 | DEBUG    | subtest.multi_partner_learning:compute_test_score:201 -          -> Early stopping criteria are not met, continuing with training.\n",
      "2020-09-21 11:04:33.602 | DEBUG    | subtest.multi_partner_learning:compute_collaborative_round_fedavg:289 - Start new fedavg collaborative round ...\n",
      "2020-09-21 11:04:33.603 | INFO     | subtest.multi_partner_learning:compute_collaborative_round_fedavg:304 - (fedavg) Minibatch n°0 of epoch n°9, init aggregated model for each partner with models from previous round\n",
      "2020-09-21 11:04:45.892 | DEBUG    | subtest.multi_partner_learning:log_collaborative_round_partner_result:628 - Epoch 09/09 > Minibatch 00/02 > Partner id #0 (0/2) > val_acc: 0.93\n",
      "2020-09-21 11:04:58.946 | DEBUG    | subtest.multi_partner_learning:log_collaborative_round_partner_result:628 - Epoch 09/09 > Minibatch 00/02 > Partner id #1 (1/2) > val_acc: 0.98\n",
      "2020-09-21 11:05:05.801 | DEBUG    | subtest.multi_partner_learning:log_collaborative_round_partner_result:628 - Epoch 09/09 > Minibatch 00/02 > Partner id #2 (2/2) > val_acc: 0.98\n",
      "2020-09-21 11:05:05.809 | DEBUG    | subtest.multi_partner_learning:compute_collaborative_round_fedavg:336 - End of fedavg collaborative round.\n",
      "2020-09-21 11:05:05.811 | DEBUG    | subtest.multi_partner_learning:compute_collaborative_round_fedavg:289 - Start new fedavg collaborative round ...\n",
      "2020-09-21 11:05:05.813 | INFO     | subtest.multi_partner_learning:compute_collaborative_round_fedavg:304 - (fedavg) Minibatch n°1 of epoch n°9, init aggregated model for each partner with models from previous round\n",
      "2020-09-21 11:05:17.838 | DEBUG    | subtest.multi_partner_learning:log_collaborative_round_partner_result:628 - Epoch 09/09 > Minibatch 01/02 > Partner id #0 (0/2) > val_acc: 0.95\n",
      "2020-09-21 11:05:30.425 | DEBUG    | subtest.multi_partner_learning:log_collaborative_round_partner_result:628 - Epoch 09/09 > Minibatch 01/02 > Partner id #1 (1/2) > val_acc: 0.98\n",
      "2020-09-21 11:05:37.498 | DEBUG    | subtest.multi_partner_learning:log_collaborative_round_partner_result:628 - Epoch 09/09 > Minibatch 01/02 > Partner id #2 (2/2) > val_acc: 0.98\n",
      "2020-09-21 11:05:37.508 | DEBUG    | subtest.multi_partner_learning:compute_collaborative_round_fedavg:336 - End of fedavg collaborative round.\n",
      "2020-09-21 11:05:37.511 | DEBUG    | subtest.multi_partner_learning:compute_collaborative_round_fedavg:289 - Start new fedavg collaborative round ...\n",
      "2020-09-21 11:05:37.513 | INFO     | subtest.multi_partner_learning:compute_collaborative_round_fedavg:304 - (fedavg) Minibatch n°2 of epoch n°9, init aggregated model for each partner with models from previous round\n",
      "2020-09-21 11:05:50.990 | DEBUG    | subtest.multi_partner_learning:log_collaborative_round_partner_result:628 - Epoch 09/09 > Minibatch 02/02 > Partner id #0 (0/2) > val_acc: 0.9\n",
      "2020-09-21 11:06:04.718 | DEBUG    | subtest.multi_partner_learning:log_collaborative_round_partner_result:628 - Epoch 09/09 > Minibatch 02/02 > Partner id #1 (1/2) > val_acc: 0.98\n",
      "2020-09-21 11:06:11.965 | DEBUG    | subtest.multi_partner_learning:log_collaborative_round_partner_result:628 - Epoch 09/09 > Minibatch 02/02 > Partner id #2 (2/2) > val_acc: 0.98\n",
      "2020-09-21 11:06:11.972 | DEBUG    | subtest.multi_partner_learning:compute_collaborative_round_fedavg:336 - End of fedavg collaborative round.\n",
      "2020-09-21 11:06:14.516 | INFO     | subtest.multi_partner_learning:compute_test_score:188 -    Model evaluation at the end of the epoch: ['0.069', '0.979']\n",
      "2020-09-21 11:06:14.518 | DEBUG    | subtest.multi_partner_learning:compute_test_score:191 -       Checking if early stopping criteria are met:\n",
      "2020-09-21 11:06:14.519 | DEBUG    | subtest.multi_partner_learning:compute_test_score:201 -          -> Early stopping criteria are not met, continuing with training.\n",
      "2020-09-21 11:06:14.520 | INFO     | subtest.multi_partner_learning:compute_test_score:204 - ### Evaluating model on test data:\n",
      "2020-09-21 11:06:17.475 | INFO     | subtest.multi_partner_learning:compute_test_score:206 -    Model metrics names: ['loss', 'accuracy']\n",
      "2020-09-21 11:06:17.477 | INFO     | subtest.multi_partner_learning:compute_test_score:207 -    Model metrics values: ['0.065', '0.980']\n",
      "C:\\Users\\arthu\\Anaconda3\\envs\\distributed-learning-contributivity\\lib\\site-packages\\numpy\\core\\_asarray.py:136: VisibleDeprecationWarning: Creating an ndarray from ragged nested sequences (which is a list-or-tuple of lists-or-tuples-or ndarrays with different lengths or shapes) is deprecated. If you meant to do this, you must specify 'dtype=object' when creating the ndarray\n",
      "  return array(a, dtype, copy=False, order=order, subok=True)\n",
      "2020-09-21 11:06:18.132 | INFO     | subtest.multi_partner_learning:compute_test_score:218 - Training and evaluation on multiple partners: done.\n",
      "2020-09-21 11:06:18.133 | INFO     | subtest.scenario:run:686 - Shapley values\n",
      "2020-09-21 11:06:18.135 | INFO     | subtest.contributivity:compute_SV:143 - # Launching computation of Shapley Value of all partners\n",
      "2020-09-21 11:06:18.136 | DEBUG    | subtest.multi_partner_learning:__init__:78 - MultiPartnerLearning object instantiated.\n",
      "2020-09-21 11:06:18.138 | INFO     | subtest.multi_partner_learning:compute_test_score_for_single_partner:84 - ## Training and evaluating model on partner with id #0\n",
      "2020-09-21 11:06:18.290 | INFO     | subtest.multi_partner_learning:compute_test_score_for_single_partner:97 -    Training model...\n",
      "2020-09-21 11:08:09.401 | INFO     | subtest.multi_partner_learning:compute_test_score_for_single_partner:107 -    Model evaluation on test data: [('loss', '3.813'), ('accuracy', '0.624')]\n",
      "2020-09-21 11:08:09.403 | DEBUG    | subtest.multi_partner_learning:__init__:78 - MultiPartnerLearning object instantiated.\n",
      "2020-09-21 11:08:09.405 | INFO     | subtest.multi_partner_learning:compute_test_score_for_single_partner:84 - ## Training and evaluating model on partner with id #1\n",
      "2020-09-21 11:08:09.515 | INFO     | subtest.multi_partner_learning:compute_test_score_for_single_partner:97 -    Training model...\n",
      "2020-09-21 11:13:47.715 | INFO     | subtest.multi_partner_learning:compute_test_score_for_single_partner:107 -    Model evaluation on test data: [('loss', '0.088'), ('accuracy', '0.971')]\n",
      "2020-09-21 11:13:47.719 | DEBUG    | subtest.multi_partner_learning:__init__:78 - MultiPartnerLearning object instantiated.\n",
      "2020-09-21 11:13:47.721 | INFO     | subtest.multi_partner_learning:compute_test_score_for_single_partner:84 - ## Training and evaluating model on partner with id #2\n",
      "2020-09-21 11:13:47.887 | INFO     | subtest.multi_partner_learning:compute_test_score_for_single_partner:97 -    Training model...\n",
      "2020-09-21 11:16:29.467 | INFO     | subtest.multi_partner_learning:compute_test_score_for_single_partner:107 -    Model evaluation on test data: [('loss', '0.075'), ('accuracy', '0.975')]\n",
      "2020-09-21 11:16:29.470 | DEBUG    | subtest.multi_partner_learning:__init__:78 - MultiPartnerLearning object instantiated.\n"
     ]
    },
    {
     "name": "stderr",
     "output_type": "stream",
     "text": [
      "2020-09-21 11:16:29.471 | INFO     | subtest.multi_partner_learning:compute_test_score:136 - ## Training and evaluating model on partners with ids: ['#0', '#1']\n",
      "2020-09-21 11:16:29.559 | DEBUG    | subtest.multi_partner_learning:compute_collaborative_round_fedavg:289 - Start new fedavg collaborative round ...\n",
      "2020-09-21 11:16:29.560 | INFO     | subtest.multi_partner_learning:compute_collaborative_round_fedavg:301 - (fedavg) Very first minibatch of epoch n°0, init new models for each partner\n",
      "2020-09-21 11:16:41.709 | DEBUG    | subtest.multi_partner_learning:log_collaborative_round_partner_result:628 - Epoch 00/09 > Minibatch 00/02 > Partner id #0 (0/1) > val_acc: 0.15\n",
      "2020-09-21 11:16:54.884 | DEBUG    | subtest.multi_partner_learning:log_collaborative_round_partner_result:628 - Epoch 00/09 > Minibatch 00/02 > Partner id #1 (1/1) > val_acc: 0.75\n",
      "2020-09-21 11:16:54.893 | DEBUG    | subtest.multi_partner_learning:compute_collaborative_round_fedavg:336 - End of fedavg collaborative round.\n",
      "2020-09-21 11:16:54.895 | DEBUG    | subtest.multi_partner_learning:compute_collaborative_round_fedavg:289 - Start new fedavg collaborative round ...\n",
      "2020-09-21 11:16:54.897 | INFO     | subtest.multi_partner_learning:compute_collaborative_round_fedavg:304 - (fedavg) Minibatch n°1 of epoch n°0, init aggregated model for each partner with models from previous round\n",
      "2020-09-21 11:17:11.729 | DEBUG    | subtest.multi_partner_learning:log_collaborative_round_partner_result:628 - Epoch 00/09 > Minibatch 01/02 > Partner id #0 (0/1) > val_acc: 0.49\n",
      "2020-09-21 11:17:29.348 | DEBUG    | subtest.multi_partner_learning:log_collaborative_round_partner_result:628 - Epoch 00/09 > Minibatch 01/02 > Partner id #1 (1/1) > val_acc: 0.81\n",
      "2020-09-21 11:17:29.358 | DEBUG    | subtest.multi_partner_learning:compute_collaborative_round_fedavg:336 - End of fedavg collaborative round.\n",
      "2020-09-21 11:17:29.361 | DEBUG    | subtest.multi_partner_learning:compute_collaborative_round_fedavg:289 - Start new fedavg collaborative round ...\n",
      "2020-09-21 11:17:29.363 | INFO     | subtest.multi_partner_learning:compute_collaborative_round_fedavg:304 - (fedavg) Minibatch n°2 of epoch n°0, init aggregated model for each partner with models from previous round\n",
      "2020-09-21 11:17:45.947 | DEBUG    | subtest.multi_partner_learning:log_collaborative_round_partner_result:628 - Epoch 00/09 > Minibatch 02/02 > Partner id #0 (0/1) > val_acc: 0.36\n",
      "2020-09-21 11:18:05.209 | DEBUG    | subtest.multi_partner_learning:log_collaborative_round_partner_result:628 - Epoch 00/09 > Minibatch 02/02 > Partner id #1 (1/1) > val_acc: 0.83\n",
      "2020-09-21 11:18:05.217 | DEBUG    | subtest.multi_partner_learning:compute_collaborative_round_fedavg:336 - End of fedavg collaborative round.\n",
      "2020-09-21 11:18:07.113 | INFO     | subtest.multi_partner_learning:compute_test_score:188 -    Model evaluation at the end of the epoch: ['0.907', '0.692']\n",
      "2020-09-21 11:18:07.115 | DEBUG    | subtest.multi_partner_learning:compute_test_score:191 -       Checking if early stopping criteria are met:\n",
      "2020-09-21 11:18:07.116 | DEBUG    | subtest.multi_partner_learning:compute_test_score:201 -          -> Early stopping criteria are not met, continuing with training.\n",
      "2020-09-21 11:18:07.213 | DEBUG    | subtest.multi_partner_learning:compute_collaborative_round_fedavg:289 - Start new fedavg collaborative round ...\n",
      "2020-09-21 11:18:07.214 | INFO     | subtest.multi_partner_learning:compute_collaborative_round_fedavg:304 - (fedavg) Minibatch n°0 of epoch n°1, init aggregated model for each partner with models from previous round\n",
      "2020-09-21 11:18:23.646 | DEBUG    | subtest.multi_partner_learning:log_collaborative_round_partner_result:628 - Epoch 01/09 > Minibatch 00/02 > Partner id #0 (0/1) > val_acc: 0.69\n",
      "2020-09-21 11:18:36.457 | DEBUG    | subtest.multi_partner_learning:log_collaborative_round_partner_result:628 - Epoch 01/09 > Minibatch 00/02 > Partner id #1 (1/1) > val_acc: 0.89\n",
      "2020-09-21 11:18:36.464 | DEBUG    | subtest.multi_partner_learning:compute_collaborative_round_fedavg:336 - End of fedavg collaborative round.\n",
      "2020-09-21 11:18:36.465 | DEBUG    | subtest.multi_partner_learning:compute_collaborative_round_fedavg:289 - Start new fedavg collaborative round ...\n",
      "2020-09-21 11:18:36.466 | INFO     | subtest.multi_partner_learning:compute_collaborative_round_fedavg:304 - (fedavg) Minibatch n°1 of epoch n°1, init aggregated model for each partner with models from previous round\n",
      "2020-09-21 11:18:48.626 | DEBUG    | subtest.multi_partner_learning:log_collaborative_round_partner_result:628 - Epoch 01/09 > Minibatch 01/02 > Partner id #0 (0/1) > val_acc: 0.57\n",
      "2020-09-21 11:19:02.419 | DEBUG    | subtest.multi_partner_learning:log_collaborative_round_partner_result:628 - Epoch 01/09 > Minibatch 01/02 > Partner id #1 (1/1) > val_acc: 0.9\n",
      "2020-09-21 11:19:02.426 | DEBUG    | subtest.multi_partner_learning:compute_collaborative_round_fedavg:336 - End of fedavg collaborative round.\n",
      "2020-09-21 11:19:02.427 | DEBUG    | subtest.multi_partner_learning:compute_collaborative_round_fedavg:289 - Start new fedavg collaborative round ...\n",
      "2020-09-21 11:19:02.429 | INFO     | subtest.multi_partner_learning:compute_collaborative_round_fedavg:304 - (fedavg) Minibatch n°2 of epoch n°1, init aggregated model for each partner with models from previous round\n",
      "2020-09-21 11:19:14.559 | DEBUG    | subtest.multi_partner_learning:log_collaborative_round_partner_result:628 - Epoch 01/09 > Minibatch 02/02 > Partner id #0 (0/1) > val_acc: 0.76\n",
      "2020-09-21 11:19:27.659 | DEBUG    | subtest.multi_partner_learning:log_collaborative_round_partner_result:628 - Epoch 01/09 > Minibatch 02/02 > Partner id #1 (1/1) > val_acc: 0.92\n",
      "2020-09-21 11:19:27.666 | DEBUG    | subtest.multi_partner_learning:compute_collaborative_round_fedavg:336 - End of fedavg collaborative round.\n",
      "2020-09-21 11:19:29.584 | INFO     | subtest.multi_partner_learning:compute_test_score:188 -    Model evaluation at the end of the epoch: ['0.388', '0.882']\n",
      "2020-09-21 11:19:29.586 | DEBUG    | subtest.multi_partner_learning:compute_test_score:191 -       Checking if early stopping criteria are met:\n",
      "2020-09-21 11:19:29.587 | DEBUG    | subtest.multi_partner_learning:compute_test_score:201 -          -> Early stopping criteria are not met, continuing with training.\n",
      "2020-09-21 11:19:29.694 | DEBUG    | subtest.multi_partner_learning:compute_collaborative_round_fedavg:289 - Start new fedavg collaborative round ...\n",
      "2020-09-21 11:19:29.695 | INFO     | subtest.multi_partner_learning:compute_collaborative_round_fedavg:304 - (fedavg) Minibatch n°0 of epoch n°2, init aggregated model for each partner with models from previous round\n",
      "2020-09-21 11:19:41.769 | DEBUG    | subtest.multi_partner_learning:log_collaborative_round_partner_result:628 - Epoch 02/09 > Minibatch 00/02 > Partner id #0 (0/1) > val_acc: 0.71\n",
      "2020-09-21 11:19:54.754 | DEBUG    | subtest.multi_partner_learning:log_collaborative_round_partner_result:628 - Epoch 02/09 > Minibatch 00/02 > Partner id #1 (1/1) > val_acc: 0.94\n",
      "2020-09-21 11:19:54.761 | DEBUG    | subtest.multi_partner_learning:compute_collaborative_round_fedavg:336 - End of fedavg collaborative round.\n",
      "2020-09-21 11:19:54.763 | DEBUG    | subtest.multi_partner_learning:compute_collaborative_round_fedavg:289 - Start new fedavg collaborative round ...\n",
      "2020-09-21 11:19:54.764 | INFO     | subtest.multi_partner_learning:compute_collaborative_round_fedavg:304 - (fedavg) Minibatch n°1 of epoch n°2, init aggregated model for each partner with models from previous round\n",
      "2020-09-21 11:20:06.667 | DEBUG    | subtest.multi_partner_learning:log_collaborative_round_partner_result:628 - Epoch 02/09 > Minibatch 01/02 > Partner id #0 (0/1) > val_acc: 0.75\n",
      "2020-09-21 11:20:19.357 | DEBUG    | subtest.multi_partner_learning:log_collaborative_round_partner_result:628 - Epoch 02/09 > Minibatch 01/02 > Partner id #1 (1/1) > val_acc: 0.94\n",
      "2020-09-21 11:20:19.364 | DEBUG    | subtest.multi_partner_learning:compute_collaborative_round_fedavg:336 - End of fedavg collaborative round.\n",
      "2020-09-21 11:20:19.366 | DEBUG    | subtest.multi_partner_learning:compute_collaborative_round_fedavg:289 - Start new fedavg collaborative round ...\n"
     ]
    },
    {
     "name": "stderr",
     "output_type": "stream",
     "text": [
      "2020-09-21 11:20:19.367 | INFO     | subtest.multi_partner_learning:compute_collaborative_round_fedavg:304 - (fedavg) Minibatch n°2 of epoch n°2, init aggregated model for each partner with models from previous round\n",
      "2020-09-21 11:20:31.047 | DEBUG    | subtest.multi_partner_learning:log_collaborative_round_partner_result:628 - Epoch 02/09 > Minibatch 02/02 > Partner id #0 (0/1) > val_acc: 0.86\n",
      "2020-09-21 11:20:44.024 | DEBUG    | subtest.multi_partner_learning:log_collaborative_round_partner_result:628 - Epoch 02/09 > Minibatch 02/02 > Partner id #1 (1/1) > val_acc: 0.95\n",
      "2020-09-21 11:20:44.031 | DEBUG    | subtest.multi_partner_learning:compute_collaborative_round_fedavg:336 - End of fedavg collaborative round.\n",
      "2020-09-21 11:20:45.888 | INFO     | subtest.multi_partner_learning:compute_test_score:188 -    Model evaluation at the end of the epoch: ['0.233', '0.929']\n",
      "2020-09-21 11:20:45.890 | DEBUG    | subtest.multi_partner_learning:compute_test_score:191 -       Checking if early stopping criteria are met:\n",
      "2020-09-21 11:20:45.891 | DEBUG    | subtest.multi_partner_learning:compute_test_score:201 -          -> Early stopping criteria are not met, continuing with training.\n",
      "2020-09-21 11:20:45.979 | DEBUG    | subtest.multi_partner_learning:compute_collaborative_round_fedavg:289 - Start new fedavg collaborative round ...\n",
      "2020-09-21 11:20:45.980 | INFO     | subtest.multi_partner_learning:compute_collaborative_round_fedavg:304 - (fedavg) Minibatch n°0 of epoch n°3, init aggregated model for each partner with models from previous round\n",
      "2020-09-21 11:20:58.460 | DEBUG    | subtest.multi_partner_learning:log_collaborative_round_partner_result:628 - Epoch 03/09 > Minibatch 00/02 > Partner id #0 (0/1) > val_acc: 0.75\n",
      "2020-09-21 11:21:11.171 | DEBUG    | subtest.multi_partner_learning:log_collaborative_round_partner_result:628 - Epoch 03/09 > Minibatch 00/02 > Partner id #1 (1/1) > val_acc: 0.95\n",
      "2020-09-21 11:21:11.178 | DEBUG    | subtest.multi_partner_learning:compute_collaborative_round_fedavg:336 - End of fedavg collaborative round.\n",
      "2020-09-21 11:21:11.180 | DEBUG    | subtest.multi_partner_learning:compute_collaborative_round_fedavg:289 - Start new fedavg collaborative round ...\n",
      "2020-09-21 11:21:11.182 | INFO     | subtest.multi_partner_learning:compute_collaborative_round_fedavg:304 - (fedavg) Minibatch n°1 of epoch n°3, init aggregated model for each partner with models from previous round\n",
      "2020-09-21 11:21:24.764 | DEBUG    | subtest.multi_partner_learning:log_collaborative_round_partner_result:628 - Epoch 03/09 > Minibatch 01/02 > Partner id #0 (0/1) > val_acc: 0.83\n",
      "2020-09-21 11:21:38.435 | DEBUG    | subtest.multi_partner_learning:log_collaborative_round_partner_result:628 - Epoch 03/09 > Minibatch 01/02 > Partner id #1 (1/1) > val_acc: 0.96\n",
      "2020-09-21 11:21:38.443 | DEBUG    | subtest.multi_partner_learning:compute_collaborative_round_fedavg:336 - End of fedavg collaborative round.\n",
      "2020-09-21 11:21:38.444 | DEBUG    | subtest.multi_partner_learning:compute_collaborative_round_fedavg:289 - Start new fedavg collaborative round ...\n",
      "2020-09-21 11:21:38.445 | INFO     | subtest.multi_partner_learning:compute_collaborative_round_fedavg:304 - (fedavg) Minibatch n°2 of epoch n°3, init aggregated model for each partner with models from previous round\n",
      "2020-09-21 11:21:51.227 | DEBUG    | subtest.multi_partner_learning:log_collaborative_round_partner_result:628 - Epoch 03/09 > Minibatch 02/02 > Partner id #0 (0/1) > val_acc: 0.85\n",
      "2020-09-21 11:22:04.035 | DEBUG    | subtest.multi_partner_learning:log_collaborative_round_partner_result:628 - Epoch 03/09 > Minibatch 02/02 > Partner id #1 (1/1) > val_acc: 0.96\n",
      "2020-09-21 11:22:04.042 | DEBUG    | subtest.multi_partner_learning:compute_collaborative_round_fedavg:336 - End of fedavg collaborative round.\n",
      "2020-09-21 11:22:05.904 | INFO     | subtest.multi_partner_learning:compute_test_score:188 -    Model evaluation at the end of the epoch: ['0.173', '0.943']\n",
      "2020-09-21 11:22:05.906 | DEBUG    | subtest.multi_partner_learning:compute_test_score:191 -       Checking if early stopping criteria are met:\n",
      "2020-09-21 11:22:05.908 | DEBUG    | subtest.multi_partner_learning:compute_test_score:201 -          -> Early stopping criteria are not met, continuing with training.\n",
      "2020-09-21 11:22:06.002 | DEBUG    | subtest.multi_partner_learning:compute_collaborative_round_fedavg:289 - Start new fedavg collaborative round ...\n",
      "2020-09-21 11:22:06.003 | INFO     | subtest.multi_partner_learning:compute_collaborative_round_fedavg:304 - (fedavg) Minibatch n°0 of epoch n°4, init aggregated model for each partner with models from previous round\n",
      "2020-09-21 11:22:18.095 | DEBUG    | subtest.multi_partner_learning:log_collaborative_round_partner_result:628 - Epoch 04/09 > Minibatch 00/02 > Partner id #0 (0/1) > val_acc: 0.89\n",
      "2020-09-21 11:22:31.020 | DEBUG    | subtest.multi_partner_learning:log_collaborative_round_partner_result:628 - Epoch 04/09 > Minibatch 00/02 > Partner id #1 (1/1) > val_acc: 0.96\n",
      "2020-09-21 11:22:31.027 | DEBUG    | subtest.multi_partner_learning:compute_collaborative_round_fedavg:336 - End of fedavg collaborative round.\n",
      "2020-09-21 11:22:31.029 | DEBUG    | subtest.multi_partner_learning:compute_collaborative_round_fedavg:289 - Start new fedavg collaborative round ...\n",
      "2020-09-21 11:22:31.031 | INFO     | subtest.multi_partner_learning:compute_collaborative_round_fedavg:304 - (fedavg) Minibatch n°1 of epoch n°4, init aggregated model for each partner with models from previous round\n",
      "2020-09-21 11:22:42.930 | DEBUG    | subtest.multi_partner_learning:log_collaborative_round_partner_result:628 - Epoch 04/09 > Minibatch 01/02 > Partner id #0 (0/1) > val_acc: 0.88\n",
      "2020-09-21 11:22:55.869 | DEBUG    | subtest.multi_partner_learning:log_collaborative_round_partner_result:628 - Epoch 04/09 > Minibatch 01/02 > Partner id #1 (1/1) > val_acc: 0.96\n",
      "2020-09-21 11:22:55.876 | DEBUG    | subtest.multi_partner_learning:compute_collaborative_round_fedavg:336 - End of fedavg collaborative round.\n",
      "2020-09-21 11:22:55.877 | DEBUG    | subtest.multi_partner_learning:compute_collaborative_round_fedavg:289 - Start new fedavg collaborative round ...\n",
      "2020-09-21 11:22:55.879 | INFO     | subtest.multi_partner_learning:compute_collaborative_round_fedavg:304 - (fedavg) Minibatch n°2 of epoch n°4, init aggregated model for each partner with models from previous round\n",
      "2020-09-21 11:23:08.169 | DEBUG    | subtest.multi_partner_learning:log_collaborative_round_partner_result:628 - Epoch 04/09 > Minibatch 02/02 > Partner id #0 (0/1) > val_acc: 0.88\n",
      "2020-09-21 11:23:21.155 | DEBUG    | subtest.multi_partner_learning:log_collaborative_round_partner_result:628 - Epoch 04/09 > Minibatch 02/02 > Partner id #1 (1/1) > val_acc: 0.97\n",
      "2020-09-21 11:23:21.162 | DEBUG    | subtest.multi_partner_learning:compute_collaborative_round_fedavg:336 - End of fedavg collaborative round.\n",
      "2020-09-21 11:23:23.077 | INFO     | subtest.multi_partner_learning:compute_test_score:188 -    Model evaluation at the end of the epoch: ['0.155', '0.954']\n",
      "2020-09-21 11:23:23.079 | DEBUG    | subtest.multi_partner_learning:compute_test_score:191 -       Checking if early stopping criteria are met:\n",
      "2020-09-21 11:23:23.080 | DEBUG    | subtest.multi_partner_learning:compute_test_score:201 -          -> Early stopping criteria are not met, continuing with training.\n",
      "2020-09-21 11:23:23.176 | DEBUG    | subtest.multi_partner_learning:compute_collaborative_round_fedavg:289 - Start new fedavg collaborative round ...\n",
      "2020-09-21 11:23:23.177 | INFO     | subtest.multi_partner_learning:compute_collaborative_round_fedavg:304 - (fedavg) Minibatch n°0 of epoch n°5, init aggregated model for each partner with models from previous round\n",
      "2020-09-21 11:23:34.883 | DEBUG    | subtest.multi_partner_learning:log_collaborative_round_partner_result:628 - Epoch 05/09 > Minibatch 00/02 > Partner id #0 (0/1) > val_acc: 0.79\n",
      "2020-09-21 11:23:47.856 | DEBUG    | subtest.multi_partner_learning:log_collaborative_round_partner_result:628 - Epoch 05/09 > Minibatch 00/02 > Partner id #1 (1/1) > val_acc: 0.97\n",
      "2020-09-21 11:23:47.863 | DEBUG    | subtest.multi_partner_learning:compute_collaborative_round_fedavg:336 - End of fedavg collaborative round.\n"
     ]
    },
    {
     "name": "stderr",
     "output_type": "stream",
     "text": [
      "2020-09-21 11:23:47.865 | DEBUG    | subtest.multi_partner_learning:compute_collaborative_round_fedavg:289 - Start new fedavg collaborative round ...\n",
      "2020-09-21 11:23:47.866 | INFO     | subtest.multi_partner_learning:compute_collaborative_round_fedavg:304 - (fedavg) Minibatch n°1 of epoch n°5, init aggregated model for each partner with models from previous round\n",
      "2020-09-21 11:24:00.379 | DEBUG    | subtest.multi_partner_learning:log_collaborative_round_partner_result:628 - Epoch 05/09 > Minibatch 01/02 > Partner id #0 (0/1) > val_acc: 0.79\n",
      "2020-09-21 11:24:13.239 | DEBUG    | subtest.multi_partner_learning:log_collaborative_round_partner_result:628 - Epoch 05/09 > Minibatch 01/02 > Partner id #1 (1/1) > val_acc: 0.97\n",
      "2020-09-21 11:24:13.245 | DEBUG    | subtest.multi_partner_learning:compute_collaborative_round_fedavg:336 - End of fedavg collaborative round.\n",
      "2020-09-21 11:24:13.247 | DEBUG    | subtest.multi_partner_learning:compute_collaborative_round_fedavg:289 - Start new fedavg collaborative round ...\n",
      "2020-09-21 11:24:13.247 | INFO     | subtest.multi_partner_learning:compute_collaborative_round_fedavg:304 - (fedavg) Minibatch n°2 of epoch n°5, init aggregated model for each partner with models from previous round\n",
      "2020-09-21 11:24:25.563 | DEBUG    | subtest.multi_partner_learning:log_collaborative_round_partner_result:628 - Epoch 05/09 > Minibatch 02/02 > Partner id #0 (0/1) > val_acc: 0.94\n",
      "2020-09-21 11:24:39.071 | DEBUG    | subtest.multi_partner_learning:log_collaborative_round_partner_result:628 - Epoch 05/09 > Minibatch 02/02 > Partner id #1 (1/1) > val_acc: 0.97\n",
      "2020-09-21 11:24:39.078 | DEBUG    | subtest.multi_partner_learning:compute_collaborative_round_fedavg:336 - End of fedavg collaborative round.\n",
      "2020-09-21 11:24:40.980 | INFO     | subtest.multi_partner_learning:compute_test_score:188 -    Model evaluation at the end of the epoch: ['0.116', '0.965']\n",
      "2020-09-21 11:24:40.982 | DEBUG    | subtest.multi_partner_learning:compute_test_score:191 -       Checking if early stopping criteria are met:\n",
      "2020-09-21 11:24:40.984 | DEBUG    | subtest.multi_partner_learning:compute_test_score:201 -          -> Early stopping criteria are not met, continuing with training.\n",
      "2020-09-21 11:24:41.071 | DEBUG    | subtest.multi_partner_learning:compute_collaborative_round_fedavg:289 - Start new fedavg collaborative round ...\n",
      "2020-09-21 11:24:41.072 | INFO     | subtest.multi_partner_learning:compute_collaborative_round_fedavg:304 - (fedavg) Minibatch n°0 of epoch n°6, init aggregated model for each partner with models from previous round\n",
      "2020-09-21 11:24:53.497 | DEBUG    | subtest.multi_partner_learning:log_collaborative_round_partner_result:628 - Epoch 06/09 > Minibatch 00/02 > Partner id #0 (0/1) > val_acc: 0.89\n"
     ]
    },
    {
     "ename": "KeyboardInterrupt",
     "evalue": "",
     "output_type": "error",
     "traceback": [
      "\u001b[1;31m---------------------------------------------------------------------------\u001b[0m",
      "\u001b[1;31mKeyboardInterrupt\u001b[0m                         Traceback (most recent call last)",
      "\u001b[1;32m<ipython-input-4-7ca3ebc78e3e>\u001b[0m in \u001b[0;36m<module>\u001b[1;34m\u001b[0m\n\u001b[1;32m----> 1\u001b[1;33m \u001b[0mmy_scenario\u001b[0m\u001b[1;33m.\u001b[0m\u001b[0mrun\u001b[0m\u001b[1;33m(\u001b[0m\u001b[1;33m)\u001b[0m\u001b[1;33m\u001b[0m\u001b[1;33m\u001b[0m\u001b[0m\n\u001b[0m",
      "\u001b[1;32m~\\Anaconda3\\envs\\distributed-learning-contributivity\\lib\\site-packages\\subtest\\scenario.py\u001b[0m in \u001b[0;36mrun\u001b[1;34m(self)\u001b[0m\n\u001b[0;32m    686\u001b[0m             \u001b[0mlogger\u001b[0m\u001b[1;33m.\u001b[0m\u001b[0minfo\u001b[0m\u001b[1;33m(\u001b[0m\u001b[1;34mf\"{method}\"\u001b[0m\u001b[1;33m)\u001b[0m\u001b[1;33m\u001b[0m\u001b[1;33m\u001b[0m\u001b[0m\n\u001b[0;32m    687\u001b[0m             \u001b[0mcontrib\u001b[0m \u001b[1;33m=\u001b[0m \u001b[0mcontributivity\u001b[0m\u001b[1;33m.\u001b[0m\u001b[0mContributivity\u001b[0m\u001b[1;33m(\u001b[0m\u001b[0mscenario\u001b[0m\u001b[1;33m=\u001b[0m\u001b[0mself\u001b[0m\u001b[1;33m)\u001b[0m\u001b[1;33m\u001b[0m\u001b[1;33m\u001b[0m\u001b[0m\n\u001b[1;32m--> 688\u001b[1;33m             \u001b[0mcontrib\u001b[0m\u001b[1;33m.\u001b[0m\u001b[0mcompute_contributivity\u001b[0m\u001b[1;33m(\u001b[0m\u001b[0mmethod\u001b[0m\u001b[1;33m,\u001b[0m \u001b[0mself\u001b[0m\u001b[1;33m)\u001b[0m\u001b[1;33m\u001b[0m\u001b[1;33m\u001b[0m\u001b[0m\n\u001b[0m\u001b[0;32m    689\u001b[0m             \u001b[0mself\u001b[0m\u001b[1;33m.\u001b[0m\u001b[0mappend_contributivity\u001b[0m\u001b[1;33m(\u001b[0m\u001b[0mcontrib\u001b[0m\u001b[1;33m)\u001b[0m\u001b[1;33m\u001b[0m\u001b[1;33m\u001b[0m\u001b[0m\n\u001b[0;32m    690\u001b[0m             \u001b[0mlogger\u001b[0m\u001b[1;33m.\u001b[0m\u001b[0minfo\u001b[0m\u001b[1;33m(\u001b[0m\u001b[1;34mf\"## Evaluating contributivity with {method}: {contrib}\"\u001b[0m\u001b[1;33m)\u001b[0m\u001b[1;33m\u001b[0m\u001b[1;33m\u001b[0m\u001b[0m\n",
      "\u001b[1;32m~\\Anaconda3\\envs\\distributed-learning-contributivity\\lib\\site-packages\\subtest\\contributivity.py\u001b[0m in \u001b[0;36mcompute_contributivity\u001b[1;34m(self, method_to_compute, current_scenario, sv_accuracy, alpha, truncation, update)\u001b[0m\n\u001b[0;32m    951\u001b[0m         \u001b[1;32mif\u001b[0m \u001b[0mmethod_to_compute\u001b[0m \u001b[1;33m==\u001b[0m \u001b[1;34m\"Shapley values\"\u001b[0m\u001b[1;33m:\u001b[0m\u001b[1;33m\u001b[0m\u001b[1;33m\u001b[0m\u001b[0m\n\u001b[0;32m    952\u001b[0m             \u001b[1;31m# Contributivity 1: Baseline contributivity measurement (Shapley Value)\u001b[0m\u001b[1;33m\u001b[0m\u001b[1;33m\u001b[0m\u001b[1;33m\u001b[0m\u001b[0m\n\u001b[1;32m--> 953\u001b[1;33m             \u001b[0mself\u001b[0m\u001b[1;33m.\u001b[0m\u001b[0mcompute_SV\u001b[0m\u001b[1;33m(\u001b[0m\u001b[0mcurrent_scenario\u001b[0m\u001b[1;33m)\u001b[0m\u001b[1;33m\u001b[0m\u001b[1;33m\u001b[0m\u001b[0m\n\u001b[0m\u001b[0;32m    954\u001b[0m         \u001b[1;32melif\u001b[0m \u001b[0mmethod_to_compute\u001b[0m \u001b[1;33m==\u001b[0m \u001b[1;34m\"Independent scores\"\u001b[0m\u001b[1;33m:\u001b[0m\u001b[1;33m\u001b[0m\u001b[1;33m\u001b[0m\u001b[0m\n\u001b[0;32m    955\u001b[0m             \u001b[1;31m# Contributivity 2: Performance scores of models trained independently on each partner\u001b[0m\u001b[1;33m\u001b[0m\u001b[1;33m\u001b[0m\u001b[1;33m\u001b[0m\u001b[0m\n",
      "\u001b[1;32m~\\Anaconda3\\envs\\distributed-learning-contributivity\\lib\\site-packages\\subtest\\contributivity.py\u001b[0m in \u001b[0;36mcompute_SV\u001b[1;34m(self, the_scenario)\u001b[0m\n\u001b[0;32m    157\u001b[0m \u001b[1;33m\u001b[0m\u001b[0m\n\u001b[0;32m    158\u001b[0m         \u001b[1;32mfor\u001b[0m \u001b[0mcoalition\u001b[0m \u001b[1;32min\u001b[0m \u001b[0mcoalitions\u001b[0m\u001b[1;33m:\u001b[0m\u001b[1;33m\u001b[0m\u001b[1;33m\u001b[0m\u001b[0m\n\u001b[1;32m--> 159\u001b[1;33m             \u001b[0mcharacteristic_function\u001b[0m\u001b[1;33m.\u001b[0m\u001b[0mappend\u001b[0m\u001b[1;33m(\u001b[0m\u001b[0mself\u001b[0m\u001b[1;33m.\u001b[0m\u001b[0mnot_twice_characteristic\u001b[0m\u001b[1;33m(\u001b[0m\u001b[0mcoalition\u001b[0m\u001b[1;33m,\u001b[0m \u001b[0mthe_scenario\u001b[0m\u001b[1;33m)\u001b[0m\u001b[1;33m)\u001b[0m\u001b[1;33m\u001b[0m\u001b[1;33m\u001b[0m\u001b[0m\n\u001b[0m\u001b[0;32m    160\u001b[0m \u001b[1;33m\u001b[0m\u001b[0m\n\u001b[0;32m    161\u001b[0m         \u001b[1;31m# Compute Shapley Value for each partner\u001b[0m\u001b[1;33m\u001b[0m\u001b[1;33m\u001b[0m\u001b[1;33m\u001b[0m\u001b[0m\n",
      "\u001b[1;32m~\\Anaconda3\\envs\\distributed-learning-contributivity\\lib\\site-packages\\subtest\\contributivity.py\u001b[0m in \u001b[0;36mnot_twice_characteristic\u001b[1;34m(self, subset, the_scenario)\u001b[0m\n\u001b[0;32m    112\u001b[0m                 \u001b[0msave_folder\u001b[0m\u001b[1;33m=\u001b[0m\u001b[0mthe_scenario\u001b[0m\u001b[1;33m.\u001b[0m\u001b[0msave_folder\u001b[0m\u001b[1;33m,\u001b[0m\u001b[1;33m\u001b[0m\u001b[1;33m\u001b[0m\u001b[0m\n\u001b[0;32m    113\u001b[0m             )\n\u001b[1;32m--> 114\u001b[1;33m             \u001b[0mmpl\u001b[0m\u001b[1;33m.\u001b[0m\u001b[0mcompute_test_score\u001b[0m\u001b[1;33m(\u001b[0m\u001b[1;33m)\u001b[0m\u001b[1;33m\u001b[0m\u001b[1;33m\u001b[0m\u001b[0m\n\u001b[0m\u001b[0;32m    115\u001b[0m             \u001b[0mself\u001b[0m\u001b[1;33m.\u001b[0m\u001b[0mcharac_fct_values\u001b[0m\u001b[1;33m[\u001b[0m\u001b[0mtuple\u001b[0m\u001b[1;33m(\u001b[0m\u001b[0msubset\u001b[0m\u001b[1;33m)\u001b[0m\u001b[1;33m]\u001b[0m \u001b[1;33m=\u001b[0m \u001b[0mmpl\u001b[0m\u001b[1;33m.\u001b[0m\u001b[0mtest_score\u001b[0m\u001b[1;33m\u001b[0m\u001b[1;33m\u001b[0m\u001b[0m\n\u001b[0;32m    116\u001b[0m             \u001b[1;31m# we add the new increments\u001b[0m\u001b[1;33m\u001b[0m\u001b[1;33m\u001b[0m\u001b[1;33m\u001b[0m\u001b[0m\n",
      "\u001b[1;32m~\\Anaconda3\\envs\\distributed-learning-contributivity\\lib\\site-packages\\subtest\\multi_partner_learning.py\u001b[0m in \u001b[0;36mcompute_test_score\u001b[1;34m(self)\u001b[0m\n\u001b[0;32m    163\u001b[0m \u001b[1;33m\u001b[0m\u001b[0m\n\u001b[0;32m    164\u001b[0m                 \u001b[1;32mif\u001b[0m \u001b[0mself\u001b[0m\u001b[1;33m.\u001b[0m\u001b[0mlearning_approach\u001b[0m \u001b[1;33m==\u001b[0m \u001b[1;34m'fedavg'\u001b[0m\u001b[1;33m:\u001b[0m\u001b[1;33m\u001b[0m\u001b[1;33m\u001b[0m\u001b[0m\n\u001b[1;32m--> 165\u001b[1;33m                     \u001b[0mself\u001b[0m\u001b[1;33m.\u001b[0m\u001b[0mcompute_collaborative_round_fedavg\u001b[0m\u001b[1;33m(\u001b[0m\u001b[1;33m)\u001b[0m\u001b[1;33m\u001b[0m\u001b[1;33m\u001b[0m\u001b[0m\n\u001b[0m\u001b[0;32m    166\u001b[0m \u001b[1;33m\u001b[0m\u001b[0m\n\u001b[0;32m    167\u001b[0m                 \u001b[1;32melif\u001b[0m \u001b[0mself\u001b[0m\u001b[1;33m.\u001b[0m\u001b[0mlearning_approach\u001b[0m \u001b[1;32min\u001b[0m \u001b[1;33m[\u001b[0m\u001b[1;34m'seq-pure'\u001b[0m\u001b[1;33m,\u001b[0m \u001b[1;34m'seq-with-final-agg'\u001b[0m\u001b[1;33m]\u001b[0m\u001b[1;33m:\u001b[0m\u001b[1;33m\u001b[0m\u001b[1;33m\u001b[0m\u001b[0m\n",
      "\u001b[1;32m~\\Anaconda3\\envs\\distributed-learning-contributivity\\lib\\site-packages\\subtest\\multi_partner_learning.py\u001b[0m in \u001b[0;36mcompute_collaborative_round_fedavg\u001b[1;34m(self)\u001b[0m\n\u001b[0;32m    322\u001b[0m             )\n\u001b[0;32m    323\u001b[0m             history = self.fit_model(\n\u001b[1;32m--> 324\u001b[1;33m                 partner_model, train_data_for_fit_iteration, self.val_data, partner.batch_size)\n\u001b[0m\u001b[0;32m    325\u001b[0m \u001b[1;33m\u001b[0m\u001b[0m\n\u001b[0;32m    326\u001b[0m             \u001b[1;31m# Log results of the round\u001b[0m\u001b[1;33m\u001b[0m\u001b[1;33m\u001b[0m\u001b[1;33m\u001b[0m\u001b[0m\n",
      "\u001b[1;32m~\\Anaconda3\\envs\\distributed-learning-contributivity\\lib\\site-packages\\subtest\\multi_partner_learning.py\u001b[0m in \u001b[0;36mfit_model\u001b[1;34m(model_to_fit, train_data, val_data, batch_size, epoch_count)\u001b[0m\n\u001b[0;32m    593\u001b[0m                 \u001b[0mepochs\u001b[0m\u001b[1;33m=\u001b[0m\u001b[0mepoch_count\u001b[0m\u001b[1;33m,\u001b[0m\u001b[1;33m\u001b[0m\u001b[1;33m\u001b[0m\u001b[0m\n\u001b[0;32m    594\u001b[0m                 \u001b[0mverbose\u001b[0m\u001b[1;33m=\u001b[0m\u001b[1;36m0\u001b[0m\u001b[1;33m,\u001b[0m\u001b[1;33m\u001b[0m\u001b[1;33m\u001b[0m\u001b[0m\n\u001b[1;32m--> 595\u001b[1;33m                 \u001b[0mvalidation_data\u001b[0m\u001b[1;33m=\u001b[0m\u001b[0mval_data\u001b[0m\u001b[1;33m,\u001b[0m\u001b[1;33m\u001b[0m\u001b[1;33m\u001b[0m\u001b[0m\n\u001b[0m\u001b[0;32m    596\u001b[0m             )\n\u001b[0;32m    597\u001b[0m         \u001b[1;32mreturn\u001b[0m \u001b[0mhistory\u001b[0m\u001b[1;33m\u001b[0m\u001b[1;33m\u001b[0m\u001b[0m\n",
      "\u001b[1;32m~\\Anaconda3\\envs\\distributed-learning-contributivity\\lib\\site-packages\\keras\\engine\\training.py\u001b[0m in \u001b[0;36mfit\u001b[1;34m(self, x, y, batch_size, epochs, verbose, callbacks, validation_split, validation_data, shuffle, class_weight, sample_weight, initial_epoch, steps_per_epoch, validation_steps, validation_freq, max_queue_size, workers, use_multiprocessing, **kwargs)\u001b[0m\n\u001b[0;32m   1237\u001b[0m                                         \u001b[0msteps_per_epoch\u001b[0m\u001b[1;33m=\u001b[0m\u001b[0msteps_per_epoch\u001b[0m\u001b[1;33m,\u001b[0m\u001b[1;33m\u001b[0m\u001b[1;33m\u001b[0m\u001b[0m\n\u001b[0;32m   1238\u001b[0m                                         \u001b[0mvalidation_steps\u001b[0m\u001b[1;33m=\u001b[0m\u001b[0mvalidation_steps\u001b[0m\u001b[1;33m,\u001b[0m\u001b[1;33m\u001b[0m\u001b[1;33m\u001b[0m\u001b[0m\n\u001b[1;32m-> 1239\u001b[1;33m                                         validation_freq=validation_freq)\n\u001b[0m\u001b[0;32m   1240\u001b[0m \u001b[1;33m\u001b[0m\u001b[0m\n\u001b[0;32m   1241\u001b[0m     def evaluate(self,\n",
      "\u001b[1;32m~\\Anaconda3\\envs\\distributed-learning-contributivity\\lib\\site-packages\\keras\\engine\\training_arrays.py\u001b[0m in \u001b[0;36mfit_loop\u001b[1;34m(model, fit_function, fit_inputs, out_labels, batch_size, epochs, verbose, callbacks, val_function, val_inputs, shuffle, initial_epoch, steps_per_epoch, validation_steps, validation_freq)\u001b[0m\n\u001b[0;32m    194\u001b[0m                     \u001b[0mins_batch\u001b[0m\u001b[1;33m[\u001b[0m\u001b[0mi\u001b[0m\u001b[1;33m]\u001b[0m \u001b[1;33m=\u001b[0m \u001b[0mins_batch\u001b[0m\u001b[1;33m[\u001b[0m\u001b[0mi\u001b[0m\u001b[1;33m]\u001b[0m\u001b[1;33m.\u001b[0m\u001b[0mtoarray\u001b[0m\u001b[1;33m(\u001b[0m\u001b[1;33m)\u001b[0m\u001b[1;33m\u001b[0m\u001b[1;33m\u001b[0m\u001b[0m\n\u001b[0;32m    195\u001b[0m \u001b[1;33m\u001b[0m\u001b[0m\n\u001b[1;32m--> 196\u001b[1;33m                 \u001b[0mouts\u001b[0m \u001b[1;33m=\u001b[0m \u001b[0mfit_function\u001b[0m\u001b[1;33m(\u001b[0m\u001b[0mins_batch\u001b[0m\u001b[1;33m)\u001b[0m\u001b[1;33m\u001b[0m\u001b[1;33m\u001b[0m\u001b[0m\n\u001b[0m\u001b[0;32m    197\u001b[0m                 \u001b[0mouts\u001b[0m \u001b[1;33m=\u001b[0m \u001b[0mto_list\u001b[0m\u001b[1;33m(\u001b[0m\u001b[0mouts\u001b[0m\u001b[1;33m)\u001b[0m\u001b[1;33m\u001b[0m\u001b[1;33m\u001b[0m\u001b[0m\n\u001b[0;32m    198\u001b[0m                 \u001b[1;32mfor\u001b[0m \u001b[0ml\u001b[0m\u001b[1;33m,\u001b[0m \u001b[0mo\u001b[0m \u001b[1;32min\u001b[0m \u001b[0mzip\u001b[0m\u001b[1;33m(\u001b[0m\u001b[0mout_labels\u001b[0m\u001b[1;33m,\u001b[0m \u001b[0mouts\u001b[0m\u001b[1;33m)\u001b[0m\u001b[1;33m:\u001b[0m\u001b[1;33m\u001b[0m\u001b[1;33m\u001b[0m\u001b[0m\n",
      "\u001b[1;32m~\\Anaconda3\\envs\\distributed-learning-contributivity\\lib\\site-packages\\tensorflow\\python\\keras\\backend.py\u001b[0m in \u001b[0;36m__call__\u001b[1;34m(self, inputs)\u001b[0m\n\u001b[0;32m   3790\u001b[0m         \u001b[0mvalue\u001b[0m \u001b[1;33m=\u001b[0m \u001b[0mmath_ops\u001b[0m\u001b[1;33m.\u001b[0m\u001b[0mcast\u001b[0m\u001b[1;33m(\u001b[0m\u001b[0mvalue\u001b[0m\u001b[1;33m,\u001b[0m \u001b[0mtensor\u001b[0m\u001b[1;33m.\u001b[0m\u001b[0mdtype\u001b[0m\u001b[1;33m)\u001b[0m\u001b[1;33m\u001b[0m\u001b[1;33m\u001b[0m\u001b[0m\n\u001b[0;32m   3791\u001b[0m       \u001b[0mconverted_inputs\u001b[0m\u001b[1;33m.\u001b[0m\u001b[0mappend\u001b[0m\u001b[1;33m(\u001b[0m\u001b[0mvalue\u001b[0m\u001b[1;33m)\u001b[0m\u001b[1;33m\u001b[0m\u001b[1;33m\u001b[0m\u001b[0m\n\u001b[1;32m-> 3792\u001b[1;33m     \u001b[0moutputs\u001b[0m \u001b[1;33m=\u001b[0m \u001b[0mself\u001b[0m\u001b[1;33m.\u001b[0m\u001b[0m_graph_fn\u001b[0m\u001b[1;33m(\u001b[0m\u001b[1;33m*\u001b[0m\u001b[0mconverted_inputs\u001b[0m\u001b[1;33m)\u001b[0m\u001b[1;33m\u001b[0m\u001b[1;33m\u001b[0m\u001b[0m\n\u001b[0m\u001b[0;32m   3793\u001b[0m \u001b[1;33m\u001b[0m\u001b[0m\n\u001b[0;32m   3794\u001b[0m     \u001b[1;31m# EagerTensor.numpy() will often make a copy to ensure memory safety.\u001b[0m\u001b[1;33m\u001b[0m\u001b[1;33m\u001b[0m\u001b[1;33m\u001b[0m\u001b[0m\n",
      "\u001b[1;32m~\\Anaconda3\\envs\\distributed-learning-contributivity\\lib\\site-packages\\tensorflow\\python\\eager\\function.py\u001b[0m in \u001b[0;36m__call__\u001b[1;34m(self, *args, **kwargs)\u001b[0m\n\u001b[0;32m   1603\u001b[0m       \u001b[0mTypeError\u001b[0m\u001b[1;33m:\u001b[0m \u001b[0mFor\u001b[0m \u001b[0minvalid\u001b[0m \u001b[0mpositional\u001b[0m\u001b[1;33m/\u001b[0m\u001b[0mkeyword\u001b[0m \u001b[0margument\u001b[0m \u001b[0mcombinations\u001b[0m\u001b[1;33m.\u001b[0m\u001b[1;33m\u001b[0m\u001b[1;33m\u001b[0m\u001b[0m\n\u001b[0;32m   1604\u001b[0m     \"\"\"\n\u001b[1;32m-> 1605\u001b[1;33m     \u001b[1;32mreturn\u001b[0m \u001b[0mself\u001b[0m\u001b[1;33m.\u001b[0m\u001b[0m_call_impl\u001b[0m\u001b[1;33m(\u001b[0m\u001b[0margs\u001b[0m\u001b[1;33m,\u001b[0m \u001b[0mkwargs\u001b[0m\u001b[1;33m)\u001b[0m\u001b[1;33m\u001b[0m\u001b[1;33m\u001b[0m\u001b[0m\n\u001b[0m\u001b[0;32m   1606\u001b[0m \u001b[1;33m\u001b[0m\u001b[0m\n\u001b[0;32m   1607\u001b[0m   \u001b[1;32mdef\u001b[0m \u001b[0m_call_impl\u001b[0m\u001b[1;33m(\u001b[0m\u001b[0mself\u001b[0m\u001b[1;33m,\u001b[0m \u001b[0margs\u001b[0m\u001b[1;33m,\u001b[0m \u001b[0mkwargs\u001b[0m\u001b[1;33m,\u001b[0m \u001b[0mcancellation_manager\u001b[0m\u001b[1;33m=\u001b[0m\u001b[1;32mNone\u001b[0m\u001b[1;33m)\u001b[0m\u001b[1;33m:\u001b[0m\u001b[1;33m\u001b[0m\u001b[1;33m\u001b[0m\u001b[0m\n",
      "\u001b[1;32m~\\Anaconda3\\envs\\distributed-learning-contributivity\\lib\\site-packages\\tensorflow\\python\\eager\\function.py\u001b[0m in \u001b[0;36m_call_impl\u001b[1;34m(self, args, kwargs, cancellation_manager)\u001b[0m\n\u001b[0;32m   1643\u001b[0m       raise TypeError(\"Keyword arguments {} unknown. Expected {}.\".format(\n\u001b[0;32m   1644\u001b[0m           list(kwargs.keys()), list(self._arg_keywords)))\n\u001b[1;32m-> 1645\u001b[1;33m     \u001b[1;32mreturn\u001b[0m \u001b[0mself\u001b[0m\u001b[1;33m.\u001b[0m\u001b[0m_call_flat\u001b[0m\u001b[1;33m(\u001b[0m\u001b[0margs\u001b[0m\u001b[1;33m,\u001b[0m \u001b[0mself\u001b[0m\u001b[1;33m.\u001b[0m\u001b[0mcaptured_inputs\u001b[0m\u001b[1;33m,\u001b[0m \u001b[0mcancellation_manager\u001b[0m\u001b[1;33m)\u001b[0m\u001b[1;33m\u001b[0m\u001b[1;33m\u001b[0m\u001b[0m\n\u001b[0m\u001b[0;32m   1646\u001b[0m \u001b[1;33m\u001b[0m\u001b[0m\n\u001b[0;32m   1647\u001b[0m   \u001b[1;32mdef\u001b[0m \u001b[0m_filtered_call\u001b[0m\u001b[1;33m(\u001b[0m\u001b[0mself\u001b[0m\u001b[1;33m,\u001b[0m \u001b[0margs\u001b[0m\u001b[1;33m,\u001b[0m \u001b[0mkwargs\u001b[0m\u001b[1;33m)\u001b[0m\u001b[1;33m:\u001b[0m\u001b[1;33m\u001b[0m\u001b[1;33m\u001b[0m\u001b[0m\n",
      "\u001b[1;32m~\\Anaconda3\\envs\\distributed-learning-contributivity\\lib\\site-packages\\tensorflow\\python\\eager\\function.py\u001b[0m in \u001b[0;36m_call_flat\u001b[1;34m(self, args, captured_inputs, cancellation_manager)\u001b[0m\n\u001b[0;32m   1744\u001b[0m       \u001b[1;31m# No tape is watching; skip to running the function.\u001b[0m\u001b[1;33m\u001b[0m\u001b[1;33m\u001b[0m\u001b[1;33m\u001b[0m\u001b[0m\n\u001b[0;32m   1745\u001b[0m       return self._build_call_outputs(self._inference_function.call(\n\u001b[1;32m-> 1746\u001b[1;33m           ctx, args, cancellation_manager=cancellation_manager))\n\u001b[0m\u001b[0;32m   1747\u001b[0m     forward_backward = self._select_forward_and_backward_functions(\n\u001b[0;32m   1748\u001b[0m         \u001b[0margs\u001b[0m\u001b[1;33m,\u001b[0m\u001b[1;33m\u001b[0m\u001b[1;33m\u001b[0m\u001b[0m\n",
      "\u001b[1;32m~\\Anaconda3\\envs\\distributed-learning-contributivity\\lib\\site-packages\\tensorflow\\python\\eager\\function.py\u001b[0m in \u001b[0;36mcall\u001b[1;34m(self, ctx, args, cancellation_manager)\u001b[0m\n\u001b[0;32m    596\u001b[0m               \u001b[0minputs\u001b[0m\u001b[1;33m=\u001b[0m\u001b[0margs\u001b[0m\u001b[1;33m,\u001b[0m\u001b[1;33m\u001b[0m\u001b[1;33m\u001b[0m\u001b[0m\n\u001b[0;32m    597\u001b[0m               \u001b[0mattrs\u001b[0m\u001b[1;33m=\u001b[0m\u001b[0mattrs\u001b[0m\u001b[1;33m,\u001b[0m\u001b[1;33m\u001b[0m\u001b[1;33m\u001b[0m\u001b[0m\n\u001b[1;32m--> 598\u001b[1;33m               ctx=ctx)\n\u001b[0m\u001b[0;32m    599\u001b[0m         \u001b[1;32melse\u001b[0m\u001b[1;33m:\u001b[0m\u001b[1;33m\u001b[0m\u001b[1;33m\u001b[0m\u001b[0m\n\u001b[0;32m    600\u001b[0m           outputs = execute.execute_with_cancellation(\n",
      "\u001b[1;32m~\\Anaconda3\\envs\\distributed-learning-contributivity\\lib\\site-packages\\tensorflow\\python\\eager\\execute.py\u001b[0m in \u001b[0;36mquick_execute\u001b[1;34m(op_name, num_outputs, inputs, attrs, ctx, name)\u001b[0m\n\u001b[0;32m     58\u001b[0m     \u001b[0mctx\u001b[0m\u001b[1;33m.\u001b[0m\u001b[0mensure_initialized\u001b[0m\u001b[1;33m(\u001b[0m\u001b[1;33m)\u001b[0m\u001b[1;33m\u001b[0m\u001b[1;33m\u001b[0m\u001b[0m\n\u001b[0;32m     59\u001b[0m     tensors = pywrap_tfe.TFE_Py_Execute(ctx._handle, device_name, op_name,\n\u001b[1;32m---> 60\u001b[1;33m                                         inputs, attrs, num_outputs)\n\u001b[0m\u001b[0;32m     61\u001b[0m   \u001b[1;32mexcept\u001b[0m \u001b[0mcore\u001b[0m\u001b[1;33m.\u001b[0m\u001b[0m_NotOkStatusException\u001b[0m \u001b[1;32mas\u001b[0m \u001b[0me\u001b[0m\u001b[1;33m:\u001b[0m\u001b[1;33m\u001b[0m\u001b[1;33m\u001b[0m\u001b[0m\n\u001b[0;32m     62\u001b[0m     \u001b[1;32mif\u001b[0m \u001b[0mname\u001b[0m \u001b[1;32mis\u001b[0m \u001b[1;32mnot\u001b[0m \u001b[1;32mNone\u001b[0m\u001b[1;33m:\u001b[0m\u001b[1;33m\u001b[0m\u001b[1;33m\u001b[0m\u001b[0m\n",
      "\u001b[1;31mKeyboardInterrupt\u001b[0m: "
     ]
    }
   ],
   "source": [
    "my_scenario.run()"
   ]
  },
  {
   "cell_type": "markdown",
   "metadata": {
    "colab_type": "text",
    "id": "Xx9DUyR6p6yR"
   },
   "source": [
    "## 3 - Accuracy score between each partner and comparison with aggregated model performance\n",
    "\n",
    "Like in the first tutorial, we take a look at the scores, local and global."
   ]
  },
  {
   "cell_type": "code",
   "execution_count": null,
   "metadata": {},
   "outputs": [],
   "source": [
    "scores = my_scenario.mpl.score_matrix_per_partner.mean(axis = 1)\n",
    "score_collective = my_scenario.mpl.score_matrix_collective_models.mean(axis=1)\n",
    "\n",
    "scores_df = pd.DataFrame({\n",
    "    f'partner {i}':scores[:,i] for i in range(my_scenario.partners_count) })\n",
    "scores_df['collective model'] = score_collective\n",
    "\n",
    "scores_df"
   ]
  },
  {
   "cell_type": "markdown",
   "metadata": {
    "colab_type": "text",
    "id": "KsDY6LcYp6yU"
   },
   "source": [
    "We can plot the evolution of the accuracy through the epochs. "
   ]
  },
  {
   "cell_type": "code",
   "execution_count": null,
   "metadata": {
    "pycharm": {
     "name": "#%%\n"
    }
   },
   "outputs": [],
   "source": [
    "sns.relplot(data = scores_df.iloc[2:], kind=\"line\")"
   ]
  },
  {
   "cell_type": "markdown",
   "metadata": {
    "pycharm": {
     "name": "#%% md\n"
    }
   },
   "source": [
    "## 4 - Contributivity scores\n",
    "\n",
    "We have set our scenario with Shapley values as a contributivity measurement method.\n",
    "\n",
    "While being quite heavy on computing resources, it provides a great measuring tool. \n",
    "\n"
   ]
  },
  {
   "cell_type": "code",
   "execution_count": null,
   "metadata": {
    "colab": {},
    "colab_type": "code",
    "id": "aqoho7oFp6yU"
   },
   "outputs": [],
   "source": [
    "contributivity_score = my_scenario.contributivity_list"
   ]
  },
  {
   "cell_type": "code",
   "execution_count": null,
   "metadata": {
    "colab": {
     "base_uri": "https://localhost:8080/",
     "height": 158
    },
    "colab_type": "code",
    "id": "7IpNbZDqp6yW",
    "outputId": "e1d811e1-6d1f-4435-f4ba-7d2c1b140643"
   },
   "outputs": [],
   "source": [
    "print(contributivity_score[0])"
   ]
  },
  {
   "cell_type": "markdown",
   "metadata": {
    "colab_type": "text",
    "id": "goGzd4ePp6yY"
   },
   "source": [
    "Since we have artificially set our first partner to only have .1% of the total data set, it obviously contributes less in the final model. Because we are using the MNIST dataset, even with .1% of the total data, the model is still able to perform reasonably well according to our Accuracy values\n",
    "\n",
    "There is other way to artificially generate poor contributors. For instance, we can shuffle the labels of one partner, which will mislabel the whole dataset of this particular partner.  \n",
    "To do so, we use the `corrupted_partner`of the scenario object. It must be a list, with size equal to the number of partner. For each partner , a string indicates the state of its dataset. \n",
    "\n",
    "``` python\n",
    "corrupted_partner=['shuffled', 'not corrupted', 'not corrupted']\n",
    "\n",
    "```\n",
    "Here, with 3 partners, the first one will see its labels shuffled, and the two others will have their dataset untouched. \n"
   ]
  },
  {
   "cell_type": "code",
   "execution_count": 10,
   "metadata": {
    "colab": {},
    "colab_type": "code",
    "id": "b0XHWBPxp6yY"
   },
   "outputs": [],
   "source": [
    "my_second_scenario = Scenario(partners_count=3,\n",
    "                        amounts_per_partner=[0.2, 0.5, 0.3],                             # <- The repartition is more regular\n",
    "                        corrupted_partner=['shuffled', 'not corrupted', 'not corrupted'] # <- Here is the true difference\n",
    "                        epoch_count=10,\n",
    "                        minibatch_count=3,\n",
    "                        dataset_name='mnist',\n",
    "                        methods=[\"Shapley values\"])  \n",
    "\n",
    "my_second_scenario.run()"
   ]
  },
  {
   "cell_type": "code",
   "execution_count": null,
   "metadata": {},
   "outputs": [],
   "source": [
    "contributivity_score = my_second_scenario.contributivity_list"
   ]
  },
  {
   "cell_type": "markdown",
   "metadata": {},
   "source": [
    "#TODO commentary on the result\n",
    "\n",
    "\n",
    "# That's it !\n",
    "\n",
    "Now you can explore our other tutorials for a better snapshot of what can be done with our library!\n",
    "\n",
    "This work is collaborative, enthusiasts are welcome to comment open issues and PRs or open new ones.\n",
    "\n",
    "Should you be interested in this open effort and would like to share any question, suggestion or input, you can use the following channels:\n",
    "\n",
    "- This Github repository (issues or PRs)\n",
    "- Substra Foundation's [Slack workspace](https://substra-workspace.slack.com/join/shared_invite/zt-cpyedcab-FHYgpy08efKJ2FCadE2yCA), channel `#workgroup-mpl-contributivity`\n",
    "- Email: hello@substra.org\n",
    "- Come meet with us at La Paillasse (Paris, France), Le Palace (Nantes, France) or Studio Iconosquare (Limoges, France)\n",
    "\n",
    " ![logo Substra Foundation](./img/substra_logo_couleur_rvb_w150px.png)"
   ]
  }
 ],
 "metadata": {
  "accelerator": "GPU",
  "colab": {
   "name": "4_Exploring_contributivity.ipynb",
   "provenance": []
  },
  "kernelspec": {
   "display_name": "Python 3",
   "language": "python",
   "name": "python3"
  },
  "language_info": {
   "codemirror_mode": {
    "name": "ipython",
    "version": 3
   },
   "file_extension": ".py",
   "mimetype": "text/x-python",
   "name": "python",
   "nbconvert_exporter": "python",
   "pygments_lexer": "ipython3",
   "version": "3.7.6"
  },
  "pycharm": {
   "stem_cell": {
    "cell_type": "raw",
    "source": [],
    "metadata": {
     "collapsed": false
    }
   }
  }
 },
 "nbformat": 4,
 "nbformat_minor": 1
}