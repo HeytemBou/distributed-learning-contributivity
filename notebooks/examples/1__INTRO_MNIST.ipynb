{
 "cells": [
  {
   "cell_type": "markdown",
   "metadata": {
    "colab_type": "text",
    "id": "1H1pfmz1ddPG"
   },
   "source": [
    "# Tutorial 1 : Run a first scenario\n",
    "\n",
    "## -1 - Prerequisites\n",
    "\n",
    "In order to run this example, you'll need to:\n",
    "\n",
    "* use python 3.7 +\n",
    "* install requierements from the requirements.txt file\n",
    "* install this package https://test.pypi.org/project/pkg-test-distributed-learning-contributivity/0.0.18/\n",
    "\n"
   ]
  },
  {
   "cell_type": "code",
   "execution_count": 3,
   "metadata": {
    "colab": {
     "base_uri": "https://localhost:8080/",
     "height": 1000
    },
    "colab_type": "code",
    "id": "NXZm5jUGdpt6",
    "outputId": "a0a45b64-be7b-45a0-8b05-bb9a230ae020"
   },
   "outputs": [
    {
     "name": "stdout",
     "output_type": "stream",
     "text": [
      "Looking in indexes: https://test.pypi.org/simple/\n",
      "Collecting subtest==0.0.0.18\n",
      "\u001b[?25l  Downloading https://test-files.pythonhosted.org/packages/eb/55/4fef125b99c7afef579749dbc7b6b0904144bd5f6620e76d64a7c3145dea/subtest-0.0.0.18-py3-none-any.whl (51kB)\n",
      "\u001b[K     |████████████████████████████████| 61kB 3.0MB/s \n",
      "\u001b[?25hRequirement already satisfied: loguru==0.4.1 in /usr/local/lib/python3.6/dist-packages (from subtest==0.0.0.18) (0.4.1)\n",
      "Requirement already satisfied: librosa==0.8.0 in /usr/local/lib/python3.6/dist-packages (from subtest==0.0.0.18) (0.8.0)\n",
      "Requirement already satisfied: pandas==1.0.5 in /usr/local/lib/python3.6/dist-packages (from subtest==0.0.0.18) (1.0.5)\n",
      "Requirement already satisfied: tensorflow==2.2.0 in /usr/local/lib/python3.6/dist-packages (from subtest==0.0.0.18) (2.2.0)\n",
      "Requirement already satisfied: ruamel.yaml.clib==0.2.2 in /usr/local/lib/python3.6/dist-packages (from subtest==0.0.0.18) (0.2.2)\n",
      "Requirement already satisfied: matplotlib==3.1.3 in /usr/local/lib/python3.6/dist-packages (from subtest==0.0.0.18) (3.1.3)\n",
      "Requirement already satisfied: numpy==1.19.0 in /usr/local/lib/python3.6/dist-packages (from subtest==0.0.0.18) (1.19.0)\n",
      "Requirement already satisfied: ruamel.yaml==0.16.10 in /usr/local/lib/python3.6/dist-packages (from subtest==0.0.0.18) (0.16.10)\n",
      "Requirement already satisfied: seaborn==0.10.0 in /usr/local/lib/python3.6/dist-packages (from subtest==0.0.0.18) (0.10.0)\n",
      "Requirement already satisfied: Keras==2.3.1 in /usr/local/lib/python3.6/dist-packages (from subtest==0.0.0.18) (2.3.1)\n",
      "Requirement already satisfied: scikit-learn==0.22.1 in /usr/local/lib/python3.6/dist-packages (from subtest==0.0.0.18) (0.22.1)\n",
      "Requirement already satisfied: scipy==1.4.1 in /usr/local/lib/python3.6/dist-packages (from subtest==0.0.0.18) (1.4.1)\n",
      "Requirement already satisfied: aiocontextvars>=0.2.0; python_version < \"3.7\" in /usr/local/lib/python3.6/dist-packages (from loguru==0.4.1->subtest==0.0.0.18) (0.2.2)\n",
      "Requirement already satisfied: decorator>=3.0.0 in /usr/local/lib/python3.6/dist-packages (from librosa==0.8.0->subtest==0.0.0.18) (4.4.2)\n",
      "Requirement already satisfied: pooch>=1.0 in /usr/local/lib/python3.6/dist-packages (from librosa==0.8.0->subtest==0.0.0.18) (1.2.0)\n",
      "Requirement already satisfied: numba>=0.43.0 in /usr/local/lib/python3.6/dist-packages (from librosa==0.8.0->subtest==0.0.0.18) (0.48.0)\n",
      "Requirement already satisfied: soundfile>=0.9.0 in /usr/local/lib/python3.6/dist-packages (from librosa==0.8.0->subtest==0.0.0.18) (0.10.3.post1)\n",
      "Requirement already satisfied: joblib>=0.14 in /usr/local/lib/python3.6/dist-packages (from librosa==0.8.0->subtest==0.0.0.18) (0.16.0)\n",
      "Requirement already satisfied: resampy>=0.2.2 in /usr/local/lib/python3.6/dist-packages (from librosa==0.8.0->subtest==0.0.0.18) (0.2.2)\n",
      "Requirement already satisfied: audioread>=2.0.0 in /usr/local/lib/python3.6/dist-packages (from librosa==0.8.0->subtest==0.0.0.18) (2.1.8)\n",
      "Requirement already satisfied: pytz>=2017.2 in /usr/local/lib/python3.6/dist-packages (from pandas==1.0.5->subtest==0.0.0.18) (2018.9)\n",
      "Requirement already satisfied: python-dateutil>=2.6.1 in /usr/local/lib/python3.6/dist-packages (from pandas==1.0.5->subtest==0.0.0.18) (2.8.1)\n",
      "Requirement already satisfied: opt-einsum>=2.3.2 in /usr/local/lib/python3.6/dist-packages (from tensorflow==2.2.0->subtest==0.0.0.18) (3.3.0)\n",
      "Requirement already satisfied: astunparse==1.6.3 in /usr/local/lib/python3.6/dist-packages (from tensorflow==2.2.0->subtest==0.0.0.18) (1.6.3)\n",
      "Requirement already satisfied: gast==0.3.3 in /usr/local/lib/python3.6/dist-packages (from tensorflow==2.2.0->subtest==0.0.0.18) (0.3.3)\n",
      "Requirement already satisfied: keras-preprocessing>=1.1.0 in /usr/local/lib/python3.6/dist-packages (from tensorflow==2.2.0->subtest==0.0.0.18) (1.1.2)\n",
      "Requirement already satisfied: absl-py>=0.7.0 in /usr/local/lib/python3.6/dist-packages (from tensorflow==2.2.0->subtest==0.0.0.18) (0.10.0)\n",
      "Requirement already satisfied: google-pasta>=0.1.8 in /usr/local/lib/python3.6/dist-packages (from tensorflow==2.2.0->subtest==0.0.0.18) (0.2.0)\n",
      "Requirement already satisfied: six>=1.12.0 in /usr/local/lib/python3.6/dist-packages (from tensorflow==2.2.0->subtest==0.0.0.18) (1.15.0)\n",
      "Requirement already satisfied: grpcio>=1.8.6 in /usr/local/lib/python3.6/dist-packages (from tensorflow==2.2.0->subtest==0.0.0.18) (1.32.0)\n",
      "Requirement already satisfied: wheel>=0.26; python_version >= \"3\" in /usr/local/lib/python3.6/dist-packages (from tensorflow==2.2.0->subtest==0.0.0.18) (0.35.1)\n",
      "Requirement already satisfied: wrapt>=1.11.1 in /usr/local/lib/python3.6/dist-packages (from tensorflow==2.2.0->subtest==0.0.0.18) (1.12.1)\n",
      "Requirement already satisfied: termcolor>=1.1.0 in /usr/local/lib/python3.6/dist-packages (from tensorflow==2.2.0->subtest==0.0.0.18) (1.1.0)\n",
      "Requirement already satisfied: tensorflow-estimator<2.3.0,>=2.2.0 in /usr/local/lib/python3.6/dist-packages (from tensorflow==2.2.0->subtest==0.0.0.18) (2.2.0)\n",
      "Requirement already satisfied: protobuf>=3.8.0 in /usr/local/lib/python3.6/dist-packages (from tensorflow==2.2.0->subtest==0.0.0.18) (3.12.4)\n",
      "Requirement already satisfied: h5py<2.11.0,>=2.10.0 in /usr/local/lib/python3.6/dist-packages (from tensorflow==2.2.0->subtest==0.0.0.18) (2.10.0)\n",
      "Requirement already satisfied: tensorboard<2.3.0,>=2.2.0 in /usr/local/lib/python3.6/dist-packages (from tensorflow==2.2.0->subtest==0.0.0.18) (2.2.2)\n",
      "Requirement already satisfied: kiwisolver>=1.0.1 in /usr/local/lib/python3.6/dist-packages (from matplotlib==3.1.3->subtest==0.0.0.18) (1.2.0)\n",
      "Requirement already satisfied: pyparsing!=2.0.4,!=2.1.2,!=2.1.6,>=2.0.1 in /usr/local/lib/python3.6/dist-packages (from matplotlib==3.1.3->subtest==0.0.0.18) (2.4.7)\n",
      "Requirement already satisfied: cycler>=0.10 in /usr/local/lib/python3.6/dist-packages (from matplotlib==3.1.3->subtest==0.0.0.18) (0.10.0)\n",
      "Requirement already satisfied: pyyaml in /usr/local/lib/python3.6/dist-packages (from Keras==2.3.1->subtest==0.0.0.18) (3.13)\n",
      "Requirement already satisfied: keras-applications>=1.0.6 in /usr/local/lib/python3.6/dist-packages (from Keras==2.3.1->subtest==0.0.0.18) (1.0.8)\n",
      "Requirement already satisfied: contextvars==2.4; python_version < \"3.7\" in /usr/local/lib/python3.6/dist-packages (from aiocontextvars>=0.2.0; python_version < \"3.7\"->loguru==0.4.1->subtest==0.0.0.18) (2.4)\n",
      "Requirement already satisfied: appdirs in /usr/local/lib/python3.6/dist-packages (from pooch>=1.0->librosa==0.8.0->subtest==0.0.0.18) (1.4.4)\n",
      "Requirement already satisfied: packaging in /usr/local/lib/python3.6/dist-packages (from pooch>=1.0->librosa==0.8.0->subtest==0.0.0.18) (20.4)\n",
      "Requirement already satisfied: requests in /usr/local/lib/python3.6/dist-packages (from pooch>=1.0->librosa==0.8.0->subtest==0.0.0.18) (2.23.0)\n",
      "Requirement already satisfied: setuptools in /usr/local/lib/python3.6/dist-packages (from numba>=0.43.0->librosa==0.8.0->subtest==0.0.0.18) (50.3.0)\n",
      "Requirement already satisfied: llvmlite<0.32.0,>=0.31.0dev0 in /usr/local/lib/python3.6/dist-packages (from numba>=0.43.0->librosa==0.8.0->subtest==0.0.0.18) (0.31.0)\n",
      "Requirement already satisfied: cffi>=1.0 in /usr/local/lib/python3.6/dist-packages (from soundfile>=0.9.0->librosa==0.8.0->subtest==0.0.0.18) (1.14.2)\n",
      "Requirement already satisfied: tensorboard-plugin-wit>=1.6.0 in /usr/local/lib/python3.6/dist-packages (from tensorboard<2.3.0,>=2.2.0->tensorflow==2.2.0->subtest==0.0.0.18) (1.7.0)\n",
      "Requirement already satisfied: google-auth<2,>=1.6.3 in /usr/local/lib/python3.6/dist-packages (from tensorboard<2.3.0,>=2.2.0->tensorflow==2.2.0->subtest==0.0.0.18) (1.17.2)\n",
      "Requirement already satisfied: werkzeug>=0.11.15 in /usr/local/lib/python3.6/dist-packages (from tensorboard<2.3.0,>=2.2.0->tensorflow==2.2.0->subtest==0.0.0.18) (1.0.1)\n",
      "Requirement already satisfied: markdown>=2.6.8 in /usr/local/lib/python3.6/dist-packages (from tensorboard<2.3.0,>=2.2.0->tensorflow==2.2.0->subtest==0.0.0.18) (3.2.2)\n",
      "Requirement already satisfied: google-auth-oauthlib<0.5,>=0.4.1 in /usr/local/lib/python3.6/dist-packages (from tensorboard<2.3.0,>=2.2.0->tensorflow==2.2.0->subtest==0.0.0.18) (0.4.1)\n",
      "Requirement already satisfied: immutables>=0.9 in /usr/local/lib/python3.6/dist-packages (from contextvars==2.4; python_version < \"3.7\"->aiocontextvars>=0.2.0; python_version < \"3.7\"->loguru==0.4.1->subtest==0.0.0.18) (0.14)\n",
      "Requirement already satisfied: urllib3!=1.25.0,!=1.25.1,<1.26,>=1.21.1 in /usr/local/lib/python3.6/dist-packages (from requests->pooch>=1.0->librosa==0.8.0->subtest==0.0.0.18) (1.24.3)\n",
      "Requirement already satisfied: chardet<4,>=3.0.2 in /usr/local/lib/python3.6/dist-packages (from requests->pooch>=1.0->librosa==0.8.0->subtest==0.0.0.18) (3.0.4)\n",
      "Requirement already satisfied: certifi>=2017.4.17 in /usr/local/lib/python3.6/dist-packages (from requests->pooch>=1.0->librosa==0.8.0->subtest==0.0.0.18) (2020.6.20)\n",
      "Requirement already satisfied: idna<3,>=2.5 in /usr/local/lib/python3.6/dist-packages (from requests->pooch>=1.0->librosa==0.8.0->subtest==0.0.0.18) (2.10)\n",
      "Requirement already satisfied: pycparser in /usr/local/lib/python3.6/dist-packages (from cffi>=1.0->soundfile>=0.9.0->librosa==0.8.0->subtest==0.0.0.18) (2.20)\n",
      "Requirement already satisfied: rsa<5,>=3.1.4; python_version >= \"3\" in /usr/local/lib/python3.6/dist-packages (from google-auth<2,>=1.6.3->tensorboard<2.3.0,>=2.2.0->tensorflow==2.2.0->subtest==0.0.0.18) (4.6)\n",
      "Requirement already satisfied: cachetools<5.0,>=2.0.0 in /usr/local/lib/python3.6/dist-packages (from google-auth<2,>=1.6.3->tensorboard<2.3.0,>=2.2.0->tensorflow==2.2.0->subtest==0.0.0.18) (4.1.1)\n",
      "Requirement already satisfied: pyasn1-modules>=0.2.1 in /usr/local/lib/python3.6/dist-packages (from google-auth<2,>=1.6.3->tensorboard<2.3.0,>=2.2.0->tensorflow==2.2.0->subtest==0.0.0.18) (0.2.8)\n",
      "Requirement already satisfied: importlib-metadata; python_version < \"3.8\" in /usr/local/lib/python3.6/dist-packages (from markdown>=2.6.8->tensorboard<2.3.0,>=2.2.0->tensorflow==2.2.0->subtest==0.0.0.18) (1.7.0)\n",
      "Requirement already satisfied: requests-oauthlib>=0.7.0 in /usr/local/lib/python3.6/dist-packages (from google-auth-oauthlib<0.5,>=0.4.1->tensorboard<2.3.0,>=2.2.0->tensorflow==2.2.0->subtest==0.0.0.18) (1.3.0)\n",
      "Requirement already satisfied: pyasn1>=0.1.3 in /usr/local/lib/python3.6/dist-packages (from rsa<5,>=3.1.4; python_version >= \"3\"->google-auth<2,>=1.6.3->tensorboard<2.3.0,>=2.2.0->tensorflow==2.2.0->subtest==0.0.0.18) (0.4.8)\n",
      "Requirement already satisfied: zipp>=0.5 in /usr/local/lib/python3.6/dist-packages (from importlib-metadata; python_version < \"3.8\"->markdown>=2.6.8->tensorboard<2.3.0,>=2.2.0->tensorflow==2.2.0->subtest==0.0.0.18) (3.1.0)\n",
      "Requirement already satisfied: oauthlib>=3.0.0 in /usr/local/lib/python3.6/dist-packages (from requests-oauthlib>=0.7.0->google-auth-oauthlib<0.5,>=0.4.1->tensorboard<2.3.0,>=2.2.0->tensorflow==2.2.0->subtest==0.0.0.18) (3.1.0)\n",
      "Installing collected packages: subtest\n",
      "Successfully installed subtest-0.0.0.18\n"
     ]
    }
   ],
   "source": [
    "import sys\n",
    "import subprocess\n",
    "\n",
    "requirements = ['librosa==0.8.0',\n",
    " 'Keras==2.3.1',\n",
    " 'matplotlib==3.1.3',\n",
    " 'numpy==1.19.0',\n",
    " 'scipy==1.4.1',\n",
    " 'scikit-learn==0.22.1',\n",
    " 'pandas==1.0.5',\n",
    " 'seaborn==0.10.0',\n",
    " 'loguru==0.4.1',\n",
    " 'tensorflow==2.2.0',\n",
    " 'ruamel.yaml==0.16.10']\n",
    "\n",
    "def pip_install(package_name):\n",
    "    subprocess.call(\n",
    "        [sys.executable, '-m', 'pip', 'install', package_name]\n",
    "    )\n",
    "\n",
    "\n",
    "for package in requirements:\n",
    "    pip_install(package)\n",
    "\n",
    "\n",
    "!pip install -i https://test.pypi.org/simple/ subtest==0.0.0.18\n"
   ]
  },
  {
   "cell_type": "markdown",
   "metadata": {
    "colab": {
     "base_uri": "https://localhost:8080/",
     "height": 178
    },
    "colab_type": "code",
    "id": "Dv0WF-jEddPL",
    "outputId": "727cade2-3b57-45a2-9784-a96afba6ff9d"
   },
   "source": [
    "## 0 - Context \n",
    "\n",
    "In collaborative data science projects partners sometimes need to train a model on multiple datasets, contributed by different data providing partners. In such cases the partners might have to measure how much each dataset involved contributed to the performance of the model. This is useful for example as a basis to agree on how to share the reward of the ML challenge or the future revenues derived from the predictive model, or to detect possible corrupted datasets or partners not playing by the rules. The library explores this question and the opportunity to implement some mechanisms helping partners in such scenarios to measure each dataset's *contributivity* (as *contribution to the performance of the model*).\n",
    "\n",
    "In this tutorial, you will learn how to design your own first scenario, run it, and explore few results. "
   ]
  },
  {
   "cell_type": "markdown",
   "metadata": {
    "colab": {},
    "colab_type": "code",
    "id": "r8ZI1KswddPN"
   },
   "source": [
    "## 1 - Creating your first scenario \n",
    "\n",
    "### The scenario object\n",
    "\n",
    "A scenario mocks a collaborative ML project, where a public dataset is artificially pratitioned in a number of individual datasets. A model will be trained with distributed learning techniques, and different contributivity measurement approaches can be tested.\n",
    "\n",
    "### Create a custom scenario handling mandatory parameters\n",
    "\n",
    "The two mandatory parameters we are interested in are `partner_count` and `amounts_per_partner`. \n",
    "These parameters describe how many partners will be created and how much proportion they will have in the dataset.\n",
    "Here we choose 3 partners, with respectively 20 %, 50% and 30% of the dataset. \n",
    "\n",
    "We can use more advanced sample split options in order to fine tune the data distribution between partners, but it will be the topic of incoming tutorials. \n",
    " "
   ]
  },
  {
   "cell_type": "code",
   "execution_count": 5,
   "metadata": {
    "colab": {
     "base_uri": "https://localhost:8080/",
     "height": 322
    },
    "colab_type": "code",
    "id": "djvTtXYnBiOB",
    "outputId": "f56cc2b7-2c4f-4812-8a7e-7aa4001ca780"
   },
   "outputs": [
    {
     "name": "stderr",
     "output_type": "stream",
     "text": [
      "Using TensorFlow backend.\n",
      "/usr/local/lib/python3.6/dist-packages/sklearn/externals/joblib/__init__.py:15: FutureWarning: sklearn.externals.joblib is deprecated in 0.21 and will be removed in 0.23. Please import this functionality directly from joblib, which can be installed with: pip install joblib. If this warning is raised when loading pickled models, you may need to re-serialize those models with scikit-learn 0.21+.\n",
      "  warnings.warn(msg, category=FutureWarning)\n"
     ]
    },
    {
     "name": "stdout",
     "output_type": "stream",
     "text": [
      "Downloading data from https://s3.amazonaws.com/img-datasets/mnist.npz\n",
      "11493376/11490434 [==============================] - 1s 0us/step\n"
     ]
    },
    {
     "name": "stderr",
     "output_type": "stream",
     "text": [
      "2020-09-17 12:33:48.910 | DEBUG    | subtest.scenario:__init__:88 - Dataset selected: mnist\n",
      "2020-09-17 12:33:48.911 | DEBUG    | subtest.scenario:__init__:101 - Computation use the full dataset for scenario #1\n",
      "2020-09-17 12:33:48.913 | INFO     | subtest.scenario:__init__:262 - ### Description of data scenario configured:\n",
      "2020-09-17 12:33:48.914 | INFO     | subtest.scenario:__init__:263 -    Number of partners defined: 3\n",
      "2020-09-17 12:33:48.915 | INFO     | subtest.scenario:__init__:264 -    Data distribution scenario chosen: random\n",
      "2020-09-17 12:33:48.917 | INFO     | subtest.scenario:__init__:265 -    Multi-partner learning approach: fedavg\n",
      "2020-09-17 12:33:48.918 | INFO     | subtest.scenario:__init__:266 -    Weighting option: uniform\n",
      "2020-09-17 12:33:48.920 | INFO     | subtest.scenario:__init__:267 -    Iterations parameters: 40 epochs > 20 mini-batches > 8 gradient updates per pass\n",
      "2020-09-17 12:33:48.921 | INFO     | subtest.scenario:__init__:273 - ### Data loaded: mnist\n",
      "2020-09-17 12:33:48.923 | INFO     | subtest.scenario:__init__:274 -    54000 train data with 54000 labels\n",
      "2020-09-17 12:33:48.924 | INFO     | subtest.scenario:__init__:275 -    6000 val data with 6000 labels\n",
      "2020-09-17 12:33:48.925 | INFO     | subtest.scenario:__init__:276 -    10000 test data with 10000 labels\n"
     ]
    }
   ],
   "source": [
    "from subtest.scenario import Scenario\n",
    "\n",
    "my_scenario = Scenario(partners_count=3, \n",
    "                       amounts_per_partner=[0.2, 0.5, 0.3])\n"
   ]
  },
  {
   "cell_type": "markdown",
   "metadata": {
    "colab_type": "text",
    "id": "qD3t3vT3ddPS"
   },
   "source": [
    "## 2 - Exploring the default parameters set\n",
    "\n",
    "At this point, you can see that there is plenty of parameters we did not talk about. They are all tunable, and as you will become more familiar with them as you progress in the tutorials.  \n",
    "\n",
    "We will discuss a little bit of some of them here. \n",
    "\n",
    "### The dataset\n",
    "\n",
    "You probably denoted that you did not precise which dataset to use. The easiest way to select a dataset is to select those which are already implemented in subtest. \n",
    "Currently MNIST, CIFAR10, TITANIC and ESC50 are handled and can be selected simply by passing the Scenario's parameter dataset_name to your scenario object. By default, the well-known MNIST is selected. \n",
    "\n",
    "All the info/util about datasets are sumed up in a dataset object. Note that you can create your own dataset object, to work on homemade or not handled dataset. See the [Tutorial 2](https://github.com/SubstraFoundation/distributed-learning-contributivity/blob/master/notebooks/examples/2%20_Sentiment140.ipynb) for more info"
   ]
  },
  {
   "cell_type": "code",
   "execution_count": 7,
   "metadata": {
    "colab": {
     "base_uri": "https://localhost:8080/",
     "height": 294
    },
    "colab_type": "code",
    "id": "tLj1jfZPBiOE",
    "outputId": "d62f6302-2a14-4be0-c8b2-6c5653cf3298"
   },
   "outputs": [
    {
     "name": "stdout",
     "output_type": "stream",
     "text": [
      "Dataset selected : mnist\n"
     ]
    },
    {
     "data": {
      "image/png": "[encoded data removed]",
      "text/plain": [
       "<Figure size 864x360 with 14 Axes>"
      ]
     },
     "metadata": {
      "needs_background": "light",
      "tags": []
     },
     "output_type": "display_data"
    }
   ],
   "source": [
    "print(f'Dataset selected : {my_scenario.dataset.name}')\n",
    "\n",
    "# display 14 random images from the training set\n",
    "import matplotlib.pyplot as plt\n",
    "import numpy as np\n",
    "\n",
    "x_train = my_scenario.dataset.x_train\n",
    "y_train = my_scenario.dataset.y_train\n",
    "rand_14 = np.random.randint(0, x_train.shape[0],14)\n",
    "sample_images = x_train[rand_14]\n",
    "sample_labels = y_train[rand_14]\n",
    "\n",
    "# code to view the images\n",
    "num_rows, num_cols = 2, 7\n",
    "f, ax = plt.subplots(num_rows, num_cols, figsize=(12,5),\n",
    "                     gridspec_kw={'wspace':0.03, 'hspace':0.01}, \n",
    "                     squeeze=True)\n",
    "\n",
    "for r in range(num_rows):\n",
    "    for c in range(num_cols):\n",
    "        image_index = r * 7 + c\n",
    "        ax[r,c].axis(\"off\")\n",
    "        ax[r,c].imshow(sample_images[image_index].reshape(28,28), cmap='gray')\n",
    "        ax[r,c].set_title('No. %d' % sample_labels[image_index])\n",
    "plt.show()\n",
    "plt.close()"
   ]
  },
  {
   "cell_type": "markdown",
   "metadata": {
    "colab_type": "text",
    "id": "ZvdYcVbyBiOG"
   },
   "source": [
    "### Note on validation and test sets\n",
    "\n",
    "The dataset module provides separated train and test sets (referred to as global train set and global test set).\n",
    "The global train set is then further split into a global train set and a global validation set.\n",
    "In the multi-partner learning computations, the global validation set is used for early stopping and the global test set is used for performance evaluation.\n",
    "The global train set is partitioned amongst partner (according to the scenario configuration) to populate the partner's local datasets.\n",
    "Then for each partner, the local dataset can be split into separated train, validation and test sets, depending on the dataset configuration. Currently, the local validation and test set are not used, but they are available for further developments of multi-partner learning and contributivity measurement approaches.\n"
   ]
  },
  {
   "cell_type": "code",
   "execution_count": 8,
   "metadata": {
    "colab": {
     "base_uri": "https://localhost:8080/",
     "height": 67
    },
    "colab_type": "code",
    "id": "WIYKwYw9BiOH",
    "outputId": "c25deaa8-1220-49c6-abd7-2eab0011cea9"
   },
   "outputs": [
    {
     "name": "stdout",
     "output_type": "stream",
     "text": [
      "Train samples : 54000\n",
      "Test samples : 10000\n",
      "Validatin samples : 6000\n"
     ]
    }
   ],
   "source": [
    "print(f'Train samples : {len(my_scenario.dataset.x_train)}')\n",
    "print(f'Test samples : {len(my_scenario.dataset.x_test)}')\n",
    "print(f'Validatin samples : {len(my_scenario.dataset.x_val)}')"
   ]
  },
  {
   "cell_type": "markdown",
   "metadata": {
    "colab_type": "text",
    "id": "yV49nHB6BiOJ"
   },
   "source": [
    "## Model(s)\n",
    "\n",
    "Therefore, you neither define the model that will be used. The dataset holds a methods which generate the model, as in the multipartner learning some approachs need to generate models several times. Every dataset came with it own model, that you can change by generating your own dataset.  "
   ]
  },
  {
   "cell_type": "code",
   "execution_count": null,
   "metadata": {
    "colab": {},
    "colab_type": "code",
    "id": "n3yE0Z_vBiOK",
    "outputId": "006d0f8a-6a48-4a25-cbd9-6f0f6313c53f"
   },
   "outputs": [
    {
     "name": "stdout",
     "output_type": "stream",
     "text": [
      "Model: \"sequential_5\"\n",
      "_________________________________________________________________\n",
      "Layer (type)                 Output Shape              Param #   \n",
      "=================================================================\n",
      "conv2d_9 (Conv2D)            (None, 26, 26, 32)        320       \n",
      "_________________________________________________________________\n",
      "conv2d_10 (Conv2D)           (None, 24, 24, 64)        18496     \n",
      "_________________________________________________________________\n",
      "max_pooling2d_5 (MaxPooling2 (None, 12, 12, 64)        0         \n",
      "_________________________________________________________________\n",
      "flatten_5 (Flatten)          (None, 9216)              0         \n",
      "_________________________________________________________________\n",
      "dense_9 (Dense)              (None, 128)               1179776   \n",
      "_________________________________________________________________\n",
      "dense_10 (Dense)             (None, 10)                1290      \n",
      "=================================================================\n",
      "Total params: 1,199,882\n",
      "Trainable params: 1,199,882\n",
      "Non-trainable params: 0\n",
      "_________________________________________________________________\n"
     ]
    }
   ],
   "source": [
    "model_example = my_scenario.dataset.generate_new_model()\n",
    "model_example.summary()"
   ]
  },
  {
   "cell_type": "markdown",
   "metadata": {
    "colab_type": "text",
    "id": "FdlQm3XvBiOM"
   },
   "source": [
    "### Training parameters \n",
    "\n",
    "There are several parameters influencing how the collaborative and distributed learning is done over the datasets of the partners. The firsts we will be interested in are `epoch_count`, `minibatch_count`, and `gradient_updates_per_pass_count`. The following schema introduces well these definitions : \n",
    "\n",
    "\n",
    "![Schema epochs mini-batches gradient updates](../../img/epoch_minibatch_gradientupdates.png)\n",
    "\n",
    "After a training iteration over a given mini-batch, the individual models of each partner are aggregated in a way that can be parametrized by `aggregation_weighting`. Here, we use the default value `'uniform'`. See the [documentation](../../doc/documentation.md) for more details.\n",
    "\n",
    "The `multi_partner_learning_approach` parameter defines the multi-partner learning approach, among the approcach implemented. The full list and description of the different approachs usable are descripted in the documentation, here we will use the default value `'fedavg'`, which stands for federated averaging. Its functionnement is described by the following schema:\n",
    "![Schema fedavg](../../img/collaborative_rounds_fedavg.png)\n",
    "\n",
    "For tutorial purposes, we will change the default `epoch_count`, `minibatch_count` values to 10 epochs, and 3 minibatches. "
   ]
  },
  {
   "cell_type": "code",
   "execution_count": 9,
   "metadata": {
    "colab": {
     "base_uri": "https://localhost:8080/",
     "height": 218
    },
    "colab_type": "code",
    "id": "iyMTIyinBiOM",
    "outputId": "a6676f6b-50d7-4f3d-98e7-688799895e3f"
   },
   "outputs": [
    {
     "name": "stderr",
     "output_type": "stream",
     "text": [
      "2020-09-17 12:34:11.473 | DEBUG    | subtest.scenario:__init__:88 - Dataset selected: mnist\n",
      "2020-09-17 12:34:11.475 | DEBUG    | subtest.scenario:__init__:101 - Computation use the full dataset for scenario #1\n",
      "2020-09-17 12:34:11.476 | INFO     | subtest.scenario:__init__:262 - ### Description of data scenario configured:\n",
      "2020-09-17 12:34:11.476 | INFO     | subtest.scenario:__init__:263 -    Number of partners defined: 3\n",
      "2020-09-17 12:34:11.477 | INFO     | subtest.scenario:__init__:264 -    Data distribution scenario chosen: random\n",
      "2020-09-17 12:34:11.478 | INFO     | subtest.scenario:__init__:265 -    Multi-partner learning approach: fedavg\n",
      "2020-09-17 12:34:11.479 | INFO     | subtest.scenario:__init__:266 -    Weighting option: uniform\n",
      "2020-09-17 12:34:11.480 | INFO     | subtest.scenario:__init__:267 -    Iterations parameters: 10 epochs > 3 mini-batches > 8 gradient updates per pass\n",
      "2020-09-17 12:34:11.481 | INFO     | subtest.scenario:__init__:273 - ### Data loaded: mnist\n",
      "2020-09-17 12:34:11.482 | INFO     | subtest.scenario:__init__:274 -    54000 train data with 54000 labels\n",
      "2020-09-17 12:34:11.482 | INFO     | subtest.scenario:__init__:275 -    6000 val data with 6000 labels\n",
      "2020-09-17 12:34:11.483 | INFO     | subtest.scenario:__init__:276 -    10000 test data with 10000 labels\n"
     ]
    }
   ],
   "source": [
    "my_scenario = Scenario(partners_count = 3,\n",
    "                            amounts_per_partner = [0.2, 0.5, 0.3],\n",
    "                            epoch_count = 10,\n",
    "                            minibatch_count = 3\n",
    "                            )"
   ]
  },
  {
   "cell_type": "markdown",
   "metadata": {
    "colab_type": "text",
    "id": "rVLFZNorddPk"
   },
   "source": [
    "## 2 - Run your scenario\n",
    "\n",
    "The actual training phase of our federated learning example ! \n",
    "\n",
    "As Subtest relies on tensorflow, you can use GPU, if you have one avaible. "
   ]
  },
  {
   "cell_type": "code",
   "execution_count": 10,
   "metadata": {
    "colab": {
     "base_uri": "https://localhost:8080/",
     "height": 1000
    },
    "colab_type": "code",
    "id": "5HA_xIvsddPl",
    "outputId": "ea66feef-c405-4808-8c0e-82cbe043c348"
   },
   "outputs": [
    {
     "name": "stderr",
     "output_type": "stream",
     "text": [
      "2020-09-17 12:34:15.949 | INFO     | subtest.scenario:split_data:521 - ### Splitting data among partners:\n",
      "2020-09-17 12:34:15.950 | INFO     | subtest.scenario:split_data:522 -    Simple split performed.\n",
      "2020-09-17 12:34:15.951 | INFO     | subtest.scenario:split_data:523 -    Nb of samples split amongst partners: 43740\n",
      "2020-09-17 12:34:15.952 | INFO     | subtest.scenario:split_data:525 -    Partner #0: 8748 samples with labels [0, 1, 2, 3, 4, 5, 6, 7, 8, 9]\n",
      "2020-09-17 12:34:15.953 | INFO     | subtest.scenario:split_data:525 -    Partner #1: 21870 samples with labels [0, 1, 2, 3, 4, 5, 6, 7, 8, 9]\n",
      "2020-09-17 12:34:15.954 | INFO     | subtest.scenario:split_data:525 -    Partner #2: 13122 samples with labels [0, 1, 2, 3, 4, 5, 6, 7, 8, 9]\n",
      "2020-09-17 12:34:16.158 | DEBUG    | subtest.scenario:compute_batch_sizes:569 -    Compute batch sizes, partner #0: 364\n",
      "2020-09-17 12:34:16.159 | DEBUG    | subtest.scenario:compute_batch_sizes:569 -    Compute batch sizes, partner #1: 911\n",
      "2020-09-17 12:34:16.161 | DEBUG    | subtest.scenario:compute_batch_sizes:569 -    Compute batch sizes, partner #2: 546\n",
      "2020-09-17 12:34:16.162 | DEBUG    | subtest.scenario:preprocess_scenarios_data:574 - ## Pre-processing datasets of the scenario for keras CNN:\n",
      "2020-09-17 12:34:16.163 | DEBUG    | subtest.scenario:preprocess_scenarios_data:578 -    Central early stopping validation set: done.\n",
      "2020-09-17 12:34:16.165 | DEBUG    | subtest.scenario:preprocess_scenarios_data:580 -    Central testset: done.\n",
      "2020-09-17 12:34:16.167 | DEBUG    | subtest.scenario:preprocess_scenarios_data:602 -    Partner #0: done.\n",
      "2020-09-17 12:34:16.169 | DEBUG    | subtest.scenario:preprocess_scenarios_data:602 -    Partner #1: done.\n",
      "2020-09-17 12:34:16.170 | DEBUG    | subtest.scenario:preprocess_scenarios_data:602 -    Partner #2: done.\n",
      "2020-09-17 12:34:16.172 | DEBUG    | subtest.multi_partner_learning:__init__:78 - MultiPartnerLearning object instantiated.\n",
      "2020-09-17 12:34:16.173 | INFO     | subtest.multi_partner_learning:compute_test_score:136 - ## Training and evaluating model on partners with ids: ['#0', '#1', '#2']\n",
      "2020-09-17 12:34:16.215 | DEBUG    | subtest.multi_partner_learning:compute_collaborative_round_fedavg:289 - Start new fedavg collaborative round ...\n",
      "2020-09-17 12:34:16.216 | INFO     | subtest.multi_partner_learning:compute_collaborative_round_fedavg:301 - (fedavg) Very first minibatch of epoch n°0, init new models for each partner\n",
      "2020-09-17 12:34:25.980 | DEBUG    | subtest.multi_partner_learning:log_collaborative_round_partner_result:628 - Epoch 00/09 > Minibatch 00/02 > Partner id #0 (0/2) > val_acc: 0.79\n",
      "2020-09-17 12:34:27.139 | DEBUG    | subtest.multi_partner_learning:log_collaborative_round_partner_result:628 - Epoch 00/09 > Minibatch 00/02 > Partner id #1 (1/2) > val_acc: 0.78\n",
      "2020-09-17 12:34:28.021 | DEBUG    | subtest.multi_partner_learning:log_collaborative_round_partner_result:628 - Epoch 00/09 > Minibatch 00/02 > Partner id #2 (2/2) > val_acc: 0.78\n",
      "2020-09-17 12:34:28.036 | DEBUG    | subtest.multi_partner_learning:compute_collaborative_round_fedavg:336 - End of fedavg collaborative round.\n",
      "2020-09-17 12:34:28.037 | DEBUG    | subtest.multi_partner_learning:compute_collaborative_round_fedavg:289 - Start new fedavg collaborative round ...\n",
      "2020-09-17 12:34:28.038 | INFO     | subtest.multi_partner_learning:compute_collaborative_round_fedavg:304 - (fedavg) Minibatch n°1 of epoch n°0, init aggregated model for each partner with models from previous round\n",
      "2020-09-17 12:34:29.173 | DEBUG    | subtest.multi_partner_learning:log_collaborative_round_partner_result:628 - Epoch 00/09 > Minibatch 01/02 > Partner id #0 (0/2) > val_acc: 0.85\n",
      "2020-09-17 12:34:29.947 | DEBUG    | subtest.multi_partner_learning:log_collaborative_round_partner_result:628 - Epoch 00/09 > Minibatch 01/02 > Partner id #1 (1/2) > val_acc: 0.82\n",
      "2020-09-17 12:34:30.689 | DEBUG    | subtest.multi_partner_learning:log_collaborative_round_partner_result:628 - Epoch 00/09 > Minibatch 01/02 > Partner id #2 (2/2) > val_acc: 0.83\n",
      "2020-09-17 12:34:30.702 | DEBUG    | subtest.multi_partner_learning:compute_collaborative_round_fedavg:336 - End of fedavg collaborative round.\n",
      "2020-09-17 12:34:30.703 | DEBUG    | subtest.multi_partner_learning:compute_collaborative_round_fedavg:289 - Start new fedavg collaborative round ...\n",
      "2020-09-17 12:34:30.710 | INFO     | subtest.multi_partner_learning:compute_collaborative_round_fedavg:304 - (fedavg) Minibatch n°2 of epoch n°0, init aggregated model for each partner with models from previous round\n",
      "2020-09-17 12:34:31.870 | DEBUG    | subtest.multi_partner_learning:log_collaborative_round_partner_result:628 - Epoch 00/09 > Minibatch 02/02 > Partner id #0 (0/2) > val_acc: 0.88\n",
      "2020-09-17 12:34:32.629 | DEBUG    | subtest.multi_partner_learning:log_collaborative_round_partner_result:628 - Epoch 00/09 > Minibatch 02/02 > Partner id #1 (1/2) > val_acc: 0.9\n",
      "2020-09-17 12:34:33.389 | DEBUG    | subtest.multi_partner_learning:log_collaborative_round_partner_result:628 - Epoch 00/09 > Minibatch 02/02 > Partner id #2 (2/2) > val_acc: 0.84\n",
      "2020-09-17 12:34:33.398 | DEBUG    | subtest.multi_partner_learning:compute_collaborative_round_fedavg:336 - End of fedavg collaborative round.\n",
      "2020-09-17 12:34:33.680 | INFO     | subtest.multi_partner_learning:compute_test_score:188 -    Model evaluation at the end of the epoch: ['0.397', '0.892']\n",
      "2020-09-17 12:34:33.681 | DEBUG    | subtest.multi_partner_learning:compute_test_score:191 -       Checking if early stopping criteria are met:\n",
      "2020-09-17 12:34:33.682 | DEBUG    | subtest.multi_partner_learning:compute_test_score:201 -          -> Early stopping criteria are not met, continuing with training.\n",
      "2020-09-17 12:34:33.761 | DEBUG    | subtest.multi_partner_learning:compute_collaborative_round_fedavg:289 - Start new fedavg collaborative round ...\n",
      "2020-09-17 12:34:33.763 | INFO     | subtest.multi_partner_learning:compute_collaborative_round_fedavg:304 - (fedavg) Minibatch n°0 of epoch n°1, init aggregated model for each partner with models from previous round\n",
      "2020-09-17 12:34:34.881 | DEBUG    | subtest.multi_partner_learning:log_collaborative_round_partner_result:628 - Epoch 01/09 > Minibatch 00/02 > Partner id #0 (0/2) > val_acc: 0.87\n",
      "2020-09-17 12:34:35.948 | DEBUG    | subtest.multi_partner_learning:log_collaborative_round_partner_result:628 - Epoch 01/09 > Minibatch 00/02 > Partner id #1 (1/2) > val_acc: 0.9\n",
      "2020-09-17 12:34:36.706 | DEBUG    | subtest.multi_partner_learning:log_collaborative_round_partner_result:628 - Epoch 01/09 > Minibatch 00/02 > Partner id #2 (2/2) > val_acc: 0.88\n",
      "2020-09-17 12:34:36.716 | DEBUG    | subtest.multi_partner_learning:compute_collaborative_round_fedavg:336 - End of fedavg collaborative round.\n",
      "2020-09-17 12:34:36.717 | DEBUG    | subtest.multi_partner_learning:compute_collaborative_round_fedavg:289 - Start new fedavg collaborative round ...\n",
      "2020-09-17 12:34:36.721 | INFO     | subtest.multi_partner_learning:compute_collaborative_round_fedavg:304 - (fedavg) Minibatch n°1 of epoch n°1, init aggregated model for each partner with models from previous round\n",
      "2020-09-17 12:34:37.837 | DEBUG    | subtest.multi_partner_learning:log_collaborative_round_partner_result:628 - Epoch 01/09 > Minibatch 01/02 > Partner id #0 (0/2) > val_acc: 0.91\n",
      "2020-09-17 12:34:38.624 | DEBUG    | subtest.multi_partner_learning:log_collaborative_round_partner_result:628 - Epoch 01/09 > Minibatch 01/02 > Partner id #1 (1/2) > val_acc: 0.92\n",
      "2020-09-17 12:34:39.379 | DEBUG    | subtest.multi_partner_learning:log_collaborative_round_partner_result:628 - Epoch 01/09 > Minibatch 01/02 > Partner id #2 (2/2) > val_acc: 0.9\n",
      "2020-09-17 12:34:39.389 | DEBUG    | subtest.multi_partner_learning:compute_collaborative_round_fedavg:336 - End of fedavg collaborative round.\n",
      "2020-09-17 12:34:39.390 | DEBUG    | subtest.multi_partner_learning:compute_collaborative_round_fedavg:289 - Start new fedavg collaborative round ...\n",
      "2020-09-17 12:34:39.393 | INFO     | subtest.multi_partner_learning:compute_collaborative_round_fedavg:304 - (fedavg) Minibatch n°2 of epoch n°1, init aggregated model for each partner with models from previous round\n",
      "2020-09-17 12:34:40.493 | DEBUG    | subtest.multi_partner_learning:log_collaborative_round_partner_result:628 - Epoch 01/09 > Minibatch 02/02 > Partner id #0 (0/2) > val_acc: 0.94\n",
      "2020-09-17 12:34:41.260 | DEBUG    | subtest.multi_partner_learning:log_collaborative_round_partner_result:628 - Epoch 01/09 > Minibatch 02/02 > Partner id #1 (1/2) > val_acc: 0.94\n",
      "2020-09-17 12:34:42.011 | DEBUG    | subtest.multi_partner_learning:log_collaborative_round_partner_result:628 - Epoch 01/09 > Minibatch 02/02 > Partner id #2 (2/2) > val_acc: 0.94\n",
      "2020-09-17 12:34:42.021 | DEBUG    | subtest.multi_partner_learning:compute_collaborative_round_fedavg:336 - End of fedavg collaborative round.\n",
      "2020-09-17 12:34:42.285 | INFO     | subtest.multi_partner_learning:compute_test_score:188 -    Model evaluation at the end of the epoch: ['0.191', '0.944']\n",
      "2020-09-17 12:34:42.286 | DEBUG    | subtest.multi_partner_learning:compute_test_score:191 -       Checking if early stopping criteria are met:\n",
      "2020-09-17 12:34:42.287 | DEBUG    | subtest.multi_partner_learning:compute_test_score:201 -          -> Early stopping criteria are not met, continuing with training.\n",
      "2020-09-17 12:34:42.356 | DEBUG    | subtest.multi_partner_learning:compute_collaborative_round_fedavg:289 - Start new fedavg collaborative round ...\n",
      "2020-09-17 12:34:42.357 | INFO     | subtest.multi_partner_learning:compute_collaborative_round_fedavg:304 - (fedavg) Minibatch n°0 of epoch n°2, init aggregated model for each partner with models from previous round\n",
      "2020-09-17 12:34:43.451 | DEBUG    | subtest.multi_partner_learning:log_collaborative_round_partner_result:628 - Epoch 02/09 > Minibatch 00/02 > Partner id #0 (0/2) > val_acc: 0.95\n",
      "2020-09-17 12:34:44.269 | DEBUG    | subtest.multi_partner_learning:log_collaborative_round_partner_result:628 - Epoch 02/09 > Minibatch 00/02 > Partner id #1 (1/2) > val_acc: 0.95\n",
      "2020-09-17 12:34:45.421 | DEBUG    | subtest.multi_partner_learning:log_collaborative_round_partner_result:628 - Epoch 02/09 > Minibatch 00/02 > Partner id #2 (2/2) > val_acc: 0.94\n",
      "2020-09-17 12:34:45.431 | DEBUG    | subtest.multi_partner_learning:compute_collaborative_round_fedavg:336 - End of fedavg collaborative round.\n",
      "2020-09-17 12:34:45.436 | DEBUG    | subtest.multi_partner_learning:compute_collaborative_round_fedavg:289 - Start new fedavg collaborative round ...\n",
      "2020-09-17 12:34:45.438 | INFO     | subtest.multi_partner_learning:compute_collaborative_round_fedavg:304 - (fedavg) Minibatch n°1 of epoch n°2, init aggregated model for each partner with models from previous round\n",
      "2020-09-17 12:34:46.641 | DEBUG    | subtest.multi_partner_learning:log_collaborative_round_partner_result:628 - Epoch 02/09 > Minibatch 01/02 > Partner id #0 (0/2) > val_acc: 0.95\n",
      "2020-09-17 12:34:47.424 | DEBUG    | subtest.multi_partner_learning:log_collaborative_round_partner_result:628 - Epoch 02/09 > Minibatch 01/02 > Partner id #1 (1/2) > val_acc: 0.96\n",
      "2020-09-17 12:34:48.245 | DEBUG    | subtest.multi_partner_learning:log_collaborative_round_partner_result:628 - Epoch 02/09 > Minibatch 01/02 > Partner id #2 (2/2) > val_acc: 0.96\n",
      "2020-09-17 12:34:48.255 | DEBUG    | subtest.multi_partner_learning:compute_collaborative_round_fedavg:336 - End of fedavg collaborative round.\n",
      "2020-09-17 12:34:48.256 | DEBUG    | subtest.multi_partner_learning:compute_collaborative_round_fedavg:289 - Start new fedavg collaborative round ...\n",
      "2020-09-17 12:34:48.258 | INFO     | subtest.multi_partner_learning:compute_collaborative_round_fedavg:304 - (fedavg) Minibatch n°2 of epoch n°2, init aggregated model for each partner with models from previous round\n",
      "2020-09-17 12:34:49.440 | DEBUG    | subtest.multi_partner_learning:log_collaborative_round_partner_result:628 - Epoch 02/09 > Minibatch 02/02 > Partner id #0 (0/2) > val_acc: 0.96\n",
      "2020-09-17 12:34:50.269 | DEBUG    | subtest.multi_partner_learning:log_collaborative_round_partner_result:628 - Epoch 02/09 > Minibatch 02/02 > Partner id #1 (1/2) > val_acc: 0.95\n",
      "2020-09-17 12:34:51.045 | DEBUG    | subtest.multi_partner_learning:log_collaborative_round_partner_result:628 - Epoch 02/09 > Minibatch 02/02 > Partner id #2 (2/2) > val_acc: 0.95\n",
      "2020-09-17 12:34:51.054 | DEBUG    | subtest.multi_partner_learning:compute_collaborative_round_fedavg:336 - End of fedavg collaborative round.\n",
      "2020-09-17 12:34:51.330 | INFO     | subtest.multi_partner_learning:compute_test_score:188 -    Model evaluation at the end of the epoch: ['0.116', '0.967']\n",
      "2020-09-17 12:34:51.331 | DEBUG    | subtest.multi_partner_learning:compute_test_score:191 -       Checking if early stopping criteria are met:\n",
      "2020-09-17 12:34:51.332 | DEBUG    | subtest.multi_partner_learning:compute_test_score:201 -          -> Early stopping criteria are not met, continuing with training.\n",
      "2020-09-17 12:34:51.385 | DEBUG    | subtest.multi_partner_learning:compute_collaborative_round_fedavg:289 - Start new fedavg collaborative round ...\n",
      "2020-09-17 12:34:51.387 | INFO     | subtest.multi_partner_learning:compute_collaborative_round_fedavg:304 - (fedavg) Minibatch n°0 of epoch n°3, init aggregated model for each partner with models from previous round\n",
      "2020-09-17 12:34:52.469 | DEBUG    | subtest.multi_partner_learning:log_collaborative_round_partner_result:628 - Epoch 03/09 > Minibatch 00/02 > Partner id #0 (0/2) > val_acc: 0.96\n",
      "2020-09-17 12:34:53.259 | DEBUG    | subtest.multi_partner_learning:log_collaborative_round_partner_result:628 - Epoch 03/09 > Minibatch 00/02 > Partner id #1 (1/2) > val_acc: 0.97\n",
      "2020-09-17 12:34:53.983 | DEBUG    | subtest.multi_partner_learning:log_collaborative_round_partner_result:628 - Epoch 03/09 > Minibatch 00/02 > Partner id #2 (2/2) > val_acc: 0.96\n",
      "2020-09-17 12:34:53.992 | DEBUG    | subtest.multi_partner_learning:compute_collaborative_round_fedavg:336 - End of fedavg collaborative round.\n",
      "2020-09-17 12:34:53.996 | DEBUG    | subtest.multi_partner_learning:compute_collaborative_round_fedavg:289 - Start new fedavg collaborative round ...\n",
      "2020-09-17 12:34:53.997 | INFO     | subtest.multi_partner_learning:compute_collaborative_round_fedavg:304 - (fedavg) Minibatch n°1 of epoch n°3, init aggregated model for each partner with models from previous round\n",
      "2020-09-17 12:34:55.477 | DEBUG    | subtest.multi_partner_learning:log_collaborative_round_partner_result:628 - Epoch 03/09 > Minibatch 01/02 > Partner id #0 (0/2) > val_acc: 0.97\n",
      "2020-09-17 12:34:56.269 | DEBUG    | subtest.multi_partner_learning:log_collaborative_round_partner_result:628 - Epoch 03/09 > Minibatch 01/02 > Partner id #1 (1/2) > val_acc: 0.97\n",
      "2020-09-17 12:34:57.025 | DEBUG    | subtest.multi_partner_learning:log_collaborative_round_partner_result:628 - Epoch 03/09 > Minibatch 01/02 > Partner id #2 (2/2) > val_acc: 0.97\n",
      "2020-09-17 12:34:57.036 | DEBUG    | subtest.multi_partner_learning:compute_collaborative_round_fedavg:336 - End of fedavg collaborative round.\n",
      "2020-09-17 12:34:57.037 | DEBUG    | subtest.multi_partner_learning:compute_collaborative_round_fedavg:289 - Start new fedavg collaborative round ...\n",
      "2020-09-17 12:34:57.040 | INFO     | subtest.multi_partner_learning:compute_collaborative_round_fedavg:304 - (fedavg) Minibatch n°2 of epoch n°3, init aggregated model for each partner with models from previous round\n",
      "2020-09-17 12:34:58.209 | DEBUG    | subtest.multi_partner_learning:log_collaborative_round_partner_result:628 - Epoch 03/09 > Minibatch 02/02 > Partner id #0 (0/2) > val_acc: 0.97\n",
      "2020-09-17 12:34:58.983 | DEBUG    | subtest.multi_partner_learning:log_collaborative_round_partner_result:628 - Epoch 03/09 > Minibatch 02/02 > Partner id #1 (1/2) > val_acc: 0.98\n",
      "2020-09-17 12:34:59.730 | DEBUG    | subtest.multi_partner_learning:log_collaborative_round_partner_result:628 - Epoch 03/09 > Minibatch 02/02 > Partner id #2 (2/2) > val_acc: 0.97\n",
      "2020-09-17 12:34:59.741 | DEBUG    | subtest.multi_partner_learning:compute_collaborative_round_fedavg:336 - End of fedavg collaborative round.\n",
      "2020-09-17 12:34:59.996 | INFO     | subtest.multi_partner_learning:compute_test_score:188 -    Model evaluation at the end of the epoch: ['0.084', '0.977']\n",
      "2020-09-17 12:34:59.997 | DEBUG    | subtest.multi_partner_learning:compute_test_score:191 -       Checking if early stopping criteria are met:\n",
      "2020-09-17 12:35:00.002 | DEBUG    | subtest.multi_partner_learning:compute_test_score:201 -          -> Early stopping criteria are not met, continuing with training.\n",
      "2020-09-17 12:35:00.080 | DEBUG    | subtest.multi_partner_learning:compute_collaborative_round_fedavg:289 - Start new fedavg collaborative round ...\n",
      "2020-09-17 12:35:00.081 | INFO     | subtest.multi_partner_learning:compute_collaborative_round_fedavg:304 - (fedavg) Minibatch n°0 of epoch n°4, init aggregated model for each partner with models from previous round\n",
      "2020-09-17 12:35:01.256 | DEBUG    | subtest.multi_partner_learning:log_collaborative_round_partner_result:628 - Epoch 04/09 > Minibatch 00/02 > Partner id #0 (0/2) > val_acc: 0.97\n",
      "2020-09-17 12:35:02.028 | DEBUG    | subtest.multi_partner_learning:log_collaborative_round_partner_result:628 - Epoch 04/09 > Minibatch 00/02 > Partner id #1 (1/2) > val_acc: 0.97\n",
      "2020-09-17 12:35:02.793 | DEBUG    | subtest.multi_partner_learning:log_collaborative_round_partner_result:628 - Epoch 04/09 > Minibatch 00/02 > Partner id #2 (2/2) > val_acc: 0.97\n",
      "2020-09-17 12:35:02.802 | DEBUG    | subtest.multi_partner_learning:compute_collaborative_round_fedavg:336 - End of fedavg collaborative round.\n",
      "2020-09-17 12:35:02.805 | DEBUG    | subtest.multi_partner_learning:compute_collaborative_round_fedavg:289 - Start new fedavg collaborative round ...\n",
      "2020-09-17 12:35:02.806 | INFO     | subtest.multi_partner_learning:compute_collaborative_round_fedavg:304 - (fedavg) Minibatch n°1 of epoch n°4, init aggregated model for each partner with models from previous round\n",
      "2020-09-17 12:35:03.924 | DEBUG    | subtest.multi_partner_learning:log_collaborative_round_partner_result:628 - Epoch 04/09 > Minibatch 01/02 > Partner id #0 (0/2) > val_acc: 0.98\n",
      "2020-09-17 12:35:04.694 | DEBUG    | subtest.multi_partner_learning:log_collaborative_round_partner_result:628 - Epoch 04/09 > Minibatch 01/02 > Partner id #1 (1/2) > val_acc: 0.97\n",
      "2020-09-17 12:35:05.818 | DEBUG    | subtest.multi_partner_learning:log_collaborative_round_partner_result:628 - Epoch 04/09 > Minibatch 01/02 > Partner id #2 (2/2) > val_acc: 0.97\n",
      "2020-09-17 12:35:05.828 | DEBUG    | subtest.multi_partner_learning:compute_collaborative_round_fedavg:336 - End of fedavg collaborative round.\n",
      "2020-09-17 12:35:05.831 | DEBUG    | subtest.multi_partner_learning:compute_collaborative_round_fedavg:289 - Start new fedavg collaborative round ...\n",
      "2020-09-17 12:35:05.833 | INFO     | subtest.multi_partner_learning:compute_collaborative_round_fedavg:304 - (fedavg) Minibatch n°2 of epoch n°4, init aggregated model for each partner with models from previous round\n",
      "2020-09-17 12:35:06.944 | DEBUG    | subtest.multi_partner_learning:log_collaborative_round_partner_result:628 - Epoch 04/09 > Minibatch 02/02 > Partner id #0 (0/2) > val_acc: 0.97\n",
      "2020-09-17 12:35:07.718 | DEBUG    | subtest.multi_partner_learning:log_collaborative_round_partner_result:628 - Epoch 04/09 > Minibatch 02/02 > Partner id #1 (1/2) > val_acc: 0.97\n",
      "2020-09-17 12:35:08.513 | DEBUG    | subtest.multi_partner_learning:log_collaborative_round_partner_result:628 - Epoch 04/09 > Minibatch 02/02 > Partner id #2 (2/2) > val_acc: 0.97\n",
      "2020-09-17 12:35:08.520 | DEBUG    | subtest.multi_partner_learning:compute_collaborative_round_fedavg:336 - End of fedavg collaborative round.\n",
      "2020-09-17 12:35:08.766 | INFO     | subtest.multi_partner_learning:compute_test_score:188 -    Model evaluation at the end of the epoch: ['0.066', '0.981']\n",
      "2020-09-17 12:35:08.767 | DEBUG    | subtest.multi_partner_learning:compute_test_score:191 -       Checking if early stopping criteria are met:\n",
      "2020-09-17 12:35:08.772 | DEBUG    | subtest.multi_partner_learning:compute_test_score:201 -          -> Early stopping criteria are not met, continuing with training.\n",
      "2020-09-17 12:35:08.817 | DEBUG    | subtest.multi_partner_learning:compute_collaborative_round_fedavg:289 - Start new fedavg collaborative round ...\n",
      "2020-09-17 12:35:08.818 | INFO     | subtest.multi_partner_learning:compute_collaborative_round_fedavg:304 - (fedavg) Minibatch n°0 of epoch n°5, init aggregated model for each partner with models from previous round\n",
      "2020-09-17 12:35:09.897 | DEBUG    | subtest.multi_partner_learning:log_collaborative_round_partner_result:628 - Epoch 05/09 > Minibatch 00/02 > Partner id #0 (0/2) > val_acc: 0.97\n",
      "2020-09-17 12:35:10.697 | DEBUG    | subtest.multi_partner_learning:log_collaborative_round_partner_result:628 - Epoch 05/09 > Minibatch 00/02 > Partner id #1 (1/2) > val_acc: 0.98\n",
      "2020-09-17 12:35:11.433 | DEBUG    | subtest.multi_partner_learning:log_collaborative_round_partner_result:628 - Epoch 05/09 > Minibatch 00/02 > Partner id #2 (2/2) > val_acc: 0.97\n",
      "2020-09-17 12:35:11.443 | DEBUG    | subtest.multi_partner_learning:compute_collaborative_round_fedavg:336 - End of fedavg collaborative round.\n",
      "2020-09-17 12:35:11.445 | DEBUG    | subtest.multi_partner_learning:compute_collaborative_round_fedavg:289 - Start new fedavg collaborative round ...\n",
      "2020-09-17 12:35:11.448 | INFO     | subtest.multi_partner_learning:compute_collaborative_round_fedavg:304 - (fedavg) Minibatch n°1 of epoch n°5, init aggregated model for each partner with models from previous round\n",
      "2020-09-17 12:35:12.555 | DEBUG    | subtest.multi_partner_learning:log_collaborative_round_partner_result:628 - Epoch 05/09 > Minibatch 01/02 > Partner id #0 (0/2) > val_acc: 0.97\n",
      "2020-09-17 12:35:13.344 | DEBUG    | subtest.multi_partner_learning:log_collaborative_round_partner_result:628 - Epoch 05/09 > Minibatch 01/02 > Partner id #1 (1/2) > val_acc: 0.98\n",
      "2020-09-17 12:35:14.105 | DEBUG    | subtest.multi_partner_learning:log_collaborative_round_partner_result:628 - Epoch 05/09 > Minibatch 01/02 > Partner id #2 (2/2) > val_acc: 0.98\n",
      "2020-09-17 12:35:14.112 | DEBUG    | subtest.multi_partner_learning:compute_collaborative_round_fedavg:336 - End of fedavg collaborative round.\n",
      "2020-09-17 12:35:14.114 | DEBUG    | subtest.multi_partner_learning:compute_collaborative_round_fedavg:289 - Start new fedavg collaborative round ...\n",
      "2020-09-17 12:35:14.114 | INFO     | subtest.multi_partner_learning:compute_collaborative_round_fedavg:304 - (fedavg) Minibatch n°2 of epoch n°5, init aggregated model for each partner with models from previous round\n",
      "2020-09-17 12:35:15.614 | DEBUG    | subtest.multi_partner_learning:log_collaborative_round_partner_result:628 - Epoch 05/09 > Minibatch 02/02 > Partner id #0 (0/2) > val_acc: 0.98\n",
      "2020-09-17 12:35:16.407 | DEBUG    | subtest.multi_partner_learning:log_collaborative_round_partner_result:628 - Epoch 05/09 > Minibatch 02/02 > Partner id #1 (1/2) > val_acc: 0.98\n",
      "2020-09-17 12:35:17.163 | DEBUG    | subtest.multi_partner_learning:log_collaborative_round_partner_result:628 - Epoch 05/09 > Minibatch 02/02 > Partner id #2 (2/2) > val_acc: 0.98\n",
      "2020-09-17 12:35:17.173 | DEBUG    | subtest.multi_partner_learning:compute_collaborative_round_fedavg:336 - End of fedavg collaborative round.\n",
      "2020-09-17 12:35:17.429 | INFO     | subtest.multi_partner_learning:compute_test_score:188 -    Model evaluation at the end of the epoch: ['0.055', '0.985']\n",
      "2020-09-17 12:35:17.430 | DEBUG    | subtest.multi_partner_learning:compute_test_score:191 -       Checking if early stopping criteria are met:\n",
      "2020-09-17 12:35:17.431 | DEBUG    | subtest.multi_partner_learning:compute_test_score:201 -          -> Early stopping criteria are not met, continuing with training.\n",
      "2020-09-17 12:35:17.480 | DEBUG    | subtest.multi_partner_learning:compute_collaborative_round_fedavg:289 - Start new fedavg collaborative round ...\n",
      "2020-09-17 12:35:17.481 | INFO     | subtest.multi_partner_learning:compute_collaborative_round_fedavg:304 - (fedavg) Minibatch n°0 of epoch n°6, init aggregated model for each partner with models from previous round\n",
      "2020-09-17 12:35:18.592 | DEBUG    | subtest.multi_partner_learning:log_collaborative_round_partner_result:628 - Epoch 06/09 > Minibatch 00/02 > Partner id #0 (0/2) > val_acc: 0.98\n",
      "2020-09-17 12:35:19.381 | DEBUG    | subtest.multi_partner_learning:log_collaborative_round_partner_result:628 - Epoch 06/09 > Minibatch 00/02 > Partner id #1 (1/2) > val_acc: 0.97\n",
      "2020-09-17 12:35:20.117 | DEBUG    | subtest.multi_partner_learning:log_collaborative_round_partner_result:628 - Epoch 06/09 > Minibatch 00/02 > Partner id #2 (2/2) > val_acc: 0.98\n",
      "2020-09-17 12:35:20.127 | DEBUG    | subtest.multi_partner_learning:compute_collaborative_round_fedavg:336 - End of fedavg collaborative round.\n",
      "2020-09-17 12:35:20.128 | DEBUG    | subtest.multi_partner_learning:compute_collaborative_round_fedavg:289 - Start new fedavg collaborative round ...\n",
      "2020-09-17 12:35:20.131 | INFO     | subtest.multi_partner_learning:compute_collaborative_round_fedavg:304 - (fedavg) Minibatch n°1 of epoch n°6, init aggregated model for each partner with models from previous round\n",
      "2020-09-17 12:35:21.202 | DEBUG    | subtest.multi_partner_learning:log_collaborative_round_partner_result:628 - Epoch 06/09 > Minibatch 01/02 > Partner id #0 (0/2) > val_acc: 0.97\n",
      "2020-09-17 12:35:22.033 | DEBUG    | subtest.multi_partner_learning:log_collaborative_round_partner_result:628 - Epoch 06/09 > Minibatch 01/02 > Partner id #1 (1/2) > val_acc: 0.97\n",
      "2020-09-17 12:35:22.833 | DEBUG    | subtest.multi_partner_learning:log_collaborative_round_partner_result:628 - Epoch 06/09 > Minibatch 01/02 > Partner id #2 (2/2) > val_acc: 0.98\n",
      "2020-09-17 12:35:22.844 | DEBUG    | subtest.multi_partner_learning:compute_collaborative_round_fedavg:336 - End of fedavg collaborative round.\n",
      "2020-09-17 12:35:22.850 | DEBUG    | subtest.multi_partner_learning:compute_collaborative_round_fedavg:289 - Start new fedavg collaborative round ...\n",
      "2020-09-17 12:35:22.851 | INFO     | subtest.multi_partner_learning:compute_collaborative_round_fedavg:304 - (fedavg) Minibatch n°2 of epoch n°6, init aggregated model for each partner with models from previous round\n",
      "2020-09-17 12:35:23.937 | DEBUG    | subtest.multi_partner_learning:log_collaborative_round_partner_result:628 - Epoch 06/09 > Minibatch 02/02 > Partner id #0 (0/2) > val_acc: 0.98\n",
      "2020-09-17 12:35:24.718 | DEBUG    | subtest.multi_partner_learning:log_collaborative_round_partner_result:628 - Epoch 06/09 > Minibatch 02/02 > Partner id #1 (1/2) > val_acc: 0.98\n",
      "2020-09-17 12:35:25.878 | DEBUG    | subtest.multi_partner_learning:log_collaborative_round_partner_result:628 - Epoch 06/09 > Minibatch 02/02 > Partner id #2 (2/2) > val_acc: 0.98\n",
      "2020-09-17 12:35:25.888 | DEBUG    | subtest.multi_partner_learning:compute_collaborative_round_fedavg:336 - End of fedavg collaborative round.\n",
      "2020-09-17 12:35:26.147 | INFO     | subtest.multi_partner_learning:compute_test_score:188 -    Model evaluation at the end of the epoch: ['0.046', '0.987']\n",
      "2020-09-17 12:35:26.148 | DEBUG    | subtest.multi_partner_learning:compute_test_score:191 -       Checking if early stopping criteria are met:\n",
      "2020-09-17 12:35:26.148 | DEBUG    | subtest.multi_partner_learning:compute_test_score:201 -          -> Early stopping criteria are not met, continuing with training.\n",
      "2020-09-17 12:35:26.198 | DEBUG    | subtest.multi_partner_learning:compute_collaborative_round_fedavg:289 - Start new fedavg collaborative round ...\n",
      "2020-09-17 12:35:26.199 | INFO     | subtest.multi_partner_learning:compute_collaborative_round_fedavg:304 - (fedavg) Minibatch n°0 of epoch n°7, init aggregated model for each partner with models from previous round\n",
      "2020-09-17 12:35:27.297 | DEBUG    | subtest.multi_partner_learning:log_collaborative_round_partner_result:628 - Epoch 07/09 > Minibatch 00/02 > Partner id #0 (0/2) > val_acc: 0.98\n",
      "2020-09-17 12:35:28.095 | DEBUG    | subtest.multi_partner_learning:log_collaborative_round_partner_result:628 - Epoch 07/09 > Minibatch 00/02 > Partner id #1 (1/2) > val_acc: 0.98\n",
      "2020-09-17 12:35:28.869 | DEBUG    | subtest.multi_partner_learning:log_collaborative_round_partner_result:628 - Epoch 07/09 > Minibatch 00/02 > Partner id #2 (2/2) > val_acc: 0.98\n",
      "2020-09-17 12:35:28.876 | DEBUG    | subtest.multi_partner_learning:compute_collaborative_round_fedavg:336 - End of fedavg collaborative round.\n",
      "2020-09-17 12:35:28.878 | DEBUG    | subtest.multi_partner_learning:compute_collaborative_round_fedavg:289 - Start new fedavg collaborative round ...\n",
      "2020-09-17 12:35:28.879 | INFO     | subtest.multi_partner_learning:compute_collaborative_round_fedavg:304 - (fedavg) Minibatch n°1 of epoch n°7, init aggregated model for each partner with models from previous round\n",
      "2020-09-17 12:35:29.994 | DEBUG    | subtest.multi_partner_learning:log_collaborative_round_partner_result:628 - Epoch 07/09 > Minibatch 01/02 > Partner id #0 (0/2) > val_acc: 0.98\n",
      "2020-09-17 12:35:30.777 | DEBUG    | subtest.multi_partner_learning:log_collaborative_round_partner_result:628 - Epoch 07/09 > Minibatch 01/02 > Partner id #1 (1/2) > val_acc: 0.99\n",
      "2020-09-17 12:35:31.524 | DEBUG    | subtest.multi_partner_learning:log_collaborative_round_partner_result:628 - Epoch 07/09 > Minibatch 01/02 > Partner id #2 (2/2) > val_acc: 0.98\n",
      "2020-09-17 12:35:31.533 | DEBUG    | subtest.multi_partner_learning:compute_collaborative_round_fedavg:336 - End of fedavg collaborative round.\n",
      "2020-09-17 12:35:31.537 | DEBUG    | subtest.multi_partner_learning:compute_collaborative_round_fedavg:289 - Start new fedavg collaborative round ...\n",
      "2020-09-17 12:35:31.538 | INFO     | subtest.multi_partner_learning:compute_collaborative_round_fedavg:304 - (fedavg) Minibatch n°2 of epoch n°7, init aggregated model for each partner with models from previous round\n",
      "2020-09-17 12:35:32.663 | DEBUG    | subtest.multi_partner_learning:log_collaborative_round_partner_result:628 - Epoch 07/09 > Minibatch 02/02 > Partner id #0 (0/2) > val_acc: 0.98\n",
      "2020-09-17 12:35:33.451 | DEBUG    | subtest.multi_partner_learning:log_collaborative_round_partner_result:628 - Epoch 07/09 > Minibatch 02/02 > Partner id #1 (1/2) > val_acc: 0.98\n",
      "2020-09-17 12:35:34.210 | DEBUG    | subtest.multi_partner_learning:log_collaborative_round_partner_result:628 - Epoch 07/09 > Minibatch 02/02 > Partner id #2 (2/2) > val_acc: 0.98\n",
      "2020-09-17 12:35:34.222 | DEBUG    | subtest.multi_partner_learning:compute_collaborative_round_fedavg:336 - End of fedavg collaborative round.\n",
      "2020-09-17 12:35:34.474 | INFO     | subtest.multi_partner_learning:compute_test_score:188 -    Model evaluation at the end of the epoch: ['0.046', '0.987']\n",
      "2020-09-17 12:35:34.475 | DEBUG    | subtest.multi_partner_learning:compute_test_score:191 -       Checking if early stopping criteria are met:\n",
      "2020-09-17 12:35:34.480 | DEBUG    | subtest.multi_partner_learning:compute_test_score:201 -          -> Early stopping criteria are not met, continuing with training.\n",
      "2020-09-17 12:35:34.527 | DEBUG    | subtest.multi_partner_learning:compute_collaborative_round_fedavg:289 - Start new fedavg collaborative round ...\n",
      "2020-09-17 12:35:34.528 | INFO     | subtest.multi_partner_learning:compute_collaborative_round_fedavg:304 - (fedavg) Minibatch n°0 of epoch n°8, init aggregated model for each partner with models from previous round\n",
      "2020-09-17 12:35:36.148 | DEBUG    | subtest.multi_partner_learning:log_collaborative_round_partner_result:628 - Epoch 08/09 > Minibatch 00/02 > Partner id #0 (0/2) > val_acc: 0.98\n",
      "2020-09-17 12:35:36.928 | DEBUG    | subtest.multi_partner_learning:log_collaborative_round_partner_result:628 - Epoch 08/09 > Minibatch 00/02 > Partner id #1 (1/2) > val_acc: 0.98\n",
      "2020-09-17 12:35:37.689 | DEBUG    | subtest.multi_partner_learning:log_collaborative_round_partner_result:628 - Epoch 08/09 > Minibatch 00/02 > Partner id #2 (2/2) > val_acc: 0.98\n",
      "2020-09-17 12:35:37.699 | DEBUG    | subtest.multi_partner_learning:compute_collaborative_round_fedavg:336 - End of fedavg collaborative round.\n",
      "2020-09-17 12:35:37.702 | DEBUG    | subtest.multi_partner_learning:compute_collaborative_round_fedavg:289 - Start new fedavg collaborative round ...\n",
      "2020-09-17 12:35:37.703 | INFO     | subtest.multi_partner_learning:compute_collaborative_round_fedavg:304 - (fedavg) Minibatch n°1 of epoch n°8, init aggregated model for each partner with models from previous round\n",
      "2020-09-17 12:35:38.801 | DEBUG    | subtest.multi_partner_learning:log_collaborative_round_partner_result:628 - Epoch 08/09 > Minibatch 01/02 > Partner id #0 (0/2) > val_acc: 0.98\n",
      "2020-09-17 12:35:39.623 | DEBUG    | subtest.multi_partner_learning:log_collaborative_round_partner_result:628 - Epoch 08/09 > Minibatch 01/02 > Partner id #1 (1/2) > val_acc: 0.98\n",
      "2020-09-17 12:35:40.425 | DEBUG    | subtest.multi_partner_learning:log_collaborative_round_partner_result:628 - Epoch 08/09 > Minibatch 01/02 > Partner id #2 (2/2) > val_acc: 0.98\n",
      "2020-09-17 12:35:40.440 | DEBUG    | subtest.multi_partner_learning:compute_collaborative_round_fedavg:336 - End of fedavg collaborative round.\n",
      "2020-09-17 12:35:40.441 | DEBUG    | subtest.multi_partner_learning:compute_collaborative_round_fedavg:289 - Start new fedavg collaborative round ...\n",
      "2020-09-17 12:35:40.444 | INFO     | subtest.multi_partner_learning:compute_collaborative_round_fedavg:304 - (fedavg) Minibatch n°2 of epoch n°8, init aggregated model for each partner with models from previous round\n",
      "2020-09-17 12:35:41.591 | DEBUG    | subtest.multi_partner_learning:log_collaborative_round_partner_result:628 - Epoch 08/09 > Minibatch 02/02 > Partner id #0 (0/2) > val_acc: 0.98\n",
      "2020-09-17 12:35:42.389 | DEBUG    | subtest.multi_partner_learning:log_collaborative_round_partner_result:628 - Epoch 08/09 > Minibatch 02/02 > Partner id #1 (1/2) > val_acc: 0.98\n",
      "2020-09-17 12:35:43.149 | DEBUG    | subtest.multi_partner_learning:log_collaborative_round_partner_result:628 - Epoch 08/09 > Minibatch 02/02 > Partner id #2 (2/2) > val_acc: 0.98\n",
      "2020-09-17 12:35:43.157 | DEBUG    | subtest.multi_partner_learning:compute_collaborative_round_fedavg:336 - End of fedavg collaborative round.\n",
      "2020-09-17 12:35:43.416 | INFO     | subtest.multi_partner_learning:compute_test_score:188 -    Model evaluation at the end of the epoch: ['0.048', '0.986']\n",
      "2020-09-17 12:35:43.417 | DEBUG    | subtest.multi_partner_learning:compute_test_score:191 -       Checking if early stopping criteria are met:\n",
      "2020-09-17 12:35:43.418 | DEBUG    | subtest.multi_partner_learning:compute_test_score:201 -          -> Early stopping criteria are not met, continuing with training.\n",
      "2020-09-17 12:35:43.469 | DEBUG    | subtest.multi_partner_learning:compute_collaborative_round_fedavg:289 - Start new fedavg collaborative round ...\n",
      "2020-09-17 12:35:43.470 | INFO     | subtest.multi_partner_learning:compute_collaborative_round_fedavg:304 - (fedavg) Minibatch n°0 of epoch n°9, init aggregated model for each partner with models from previous round\n",
      "2020-09-17 12:35:44.965 | DEBUG    | subtest.multi_partner_learning:log_collaborative_round_partner_result:628 - Epoch 09/09 > Minibatch 00/02 > Partner id #0 (0/2) > val_acc: 0.98\n",
      "2020-09-17 12:35:45.818 | DEBUG    | subtest.multi_partner_learning:log_collaborative_round_partner_result:628 - Epoch 09/09 > Minibatch 00/02 > Partner id #1 (1/2) > val_acc: 0.99\n",
      "2020-09-17 12:35:46.603 | DEBUG    | subtest.multi_partner_learning:log_collaborative_round_partner_result:628 - Epoch 09/09 > Minibatch 00/02 > Partner id #2 (2/2) > val_acc: 0.98\n",
      "2020-09-17 12:35:46.613 | DEBUG    | subtest.multi_partner_learning:compute_collaborative_round_fedavg:336 - End of fedavg collaborative round.\n",
      "2020-09-17 12:35:46.616 | DEBUG    | subtest.multi_partner_learning:compute_collaborative_round_fedavg:289 - Start new fedavg collaborative round ...\n",
      "2020-09-17 12:35:46.618 | INFO     | subtest.multi_partner_learning:compute_collaborative_round_fedavg:304 - (fedavg) Minibatch n°1 of epoch n°9, init aggregated model for each partner with models from previous round\n",
      "2020-09-17 12:35:47.760 | DEBUG    | subtest.multi_partner_learning:log_collaborative_round_partner_result:628 - Epoch 09/09 > Minibatch 01/02 > Partner id #0 (0/2) > val_acc: 0.98\n",
      "2020-09-17 12:35:48.558 | DEBUG    | subtest.multi_partner_learning:log_collaborative_round_partner_result:628 - Epoch 09/09 > Minibatch 01/02 > Partner id #1 (1/2) > val_acc: 0.98\n",
      "2020-09-17 12:35:49.323 | DEBUG    | subtest.multi_partner_learning:log_collaborative_round_partner_result:628 - Epoch 09/09 > Minibatch 01/02 > Partner id #2 (2/2) > val_acc: 0.98\n",
      "2020-09-17 12:35:49.332 | DEBUG    | subtest.multi_partner_learning:compute_collaborative_round_fedavg:336 - End of fedavg collaborative round.\n",
      "2020-09-17 12:35:49.336 | DEBUG    | subtest.multi_partner_learning:compute_collaborative_round_fedavg:289 - Start new fedavg collaborative round ...\n",
      "2020-09-17 12:35:49.337 | INFO     | subtest.multi_partner_learning:compute_collaborative_round_fedavg:304 - (fedavg) Minibatch n°2 of epoch n°9, init aggregated model for each partner with models from previous round\n",
      "2020-09-17 12:35:50.451 | DEBUG    | subtest.multi_partner_learning:log_collaborative_round_partner_result:628 - Epoch 09/09 > Minibatch 02/02 > Partner id #0 (0/2) > val_acc: 0.98\n",
      "2020-09-17 12:35:51.239 | DEBUG    | subtest.multi_partner_learning:log_collaborative_round_partner_result:628 - Epoch 09/09 > Minibatch 02/02 > Partner id #1 (1/2) > val_acc: 0.98\n",
      "2020-09-17 12:35:52.055 | DEBUG    | subtest.multi_partner_learning:log_collaborative_round_partner_result:628 - Epoch 09/09 > Minibatch 02/02 > Partner id #2 (2/2) > val_acc: 0.98\n",
      "2020-09-17 12:35:52.064 | DEBUG    | subtest.multi_partner_learning:compute_collaborative_round_fedavg:336 - End of fedavg collaborative round.\n",
      "2020-09-17 12:35:52.310 | INFO     | subtest.multi_partner_learning:compute_test_score:188 -    Model evaluation at the end of the epoch: ['0.045', '0.988']\n",
      "2020-09-17 12:35:52.311 | DEBUG    | subtest.multi_partner_learning:compute_test_score:191 -       Checking if early stopping criteria are met:\n",
      "2020-09-17 12:35:52.312 | DEBUG    | subtest.multi_partner_learning:compute_test_score:201 -          -> Early stopping criteria are not met, continuing with training.\n",
      "2020-09-17 12:35:52.315 | INFO     | subtest.multi_partner_learning:compute_test_score:204 - ### Evaluating model on test data:\n",
      "2020-09-17 12:35:52.465 | INFO     | subtest.multi_partner_learning:compute_test_score:206 -    Model metrics names: ['loss', 'accuracy']\n",
      "2020-09-17 12:35:52.466 | INFO     | subtest.multi_partner_learning:compute_test_score:207 -    Model metrics values: ['0.038', '0.988']\n",
      "2020-09-17 12:35:52.773 | INFO     | subtest.multi_partner_learning:compute_test_score:218 - Training and evaluation on multiple partners: done.\n"
     ]
    },
    {
     "data": {
      "text/plain": [
       "0"
      ]
     },
     "execution_count": 10,
     "metadata": {
      "tags": []
     },
     "output_type": "execute_result"
    }
   ],
   "source": [
    "from subtest.utils import init_gpu_config\n",
    "init_gpu_config()\n",
    "\n",
    "my_scenario.run()"
   ]
  },
  {
   "cell_type": "markdown",
   "metadata": {
    "colab_type": "text",
    "id": "MeWcWlC5ddPn"
   },
   "source": [
    "## Explore the results\n",
    "\n",
    "A scenario can be exported to dataframe format, to see the different parameters, and some results. "
   ]
  },
  {
   "cell_type": "code",
   "execution_count": 12,
   "metadata": {
    "colab": {
     "base_uri": "https://localhost:8080/",
     "height": 114
    },
    "colab_type": "code",
    "id": "X67YaGm3ddPn",
    "outputId": "b4f5fe49-64f8-4ddb-f6a4-12a48672c508"
   },
   "outputs": [
    {
     "data": {
      "text/html": [
       "<div>\n",
       "<style scoped>\n",
       "    .dataframe tbody tr th:only-of-type {\n",
       "        vertical-align: middle;\n",
       "    }\n",
       "\n",
       "    .dataframe tbody tr th {\n",
       "        vertical-align: top;\n",
       "    }\n",
       "\n",
       "    .dataframe thead th {\n",
       "        text-align: right;\n",
       "    }\n",
       "</style>\n",
       "<table border=\"1\" class=\"dataframe\">\n",
       "  <thead>\n",
       "    <tr style=\"text-align: right;\">\n",
       "      <th></th>\n",
       "      <th>aggregation_weighting</th>\n",
       "      <th>dataset_fraction_per_partner</th>\n",
       "      <th>dataset_name</th>\n",
       "      <th>epoch_count</th>\n",
       "      <th>final_relative_nb_samples</th>\n",
       "      <th>gradient_updates_per_pass_count</th>\n",
       "      <th>is_early_stopping</th>\n",
       "      <th>learning_computation_time_sec</th>\n",
       "      <th>minibatch_count</th>\n",
       "      <th>mpl_nb_epochs_done</th>\n",
       "      <th>mpl_test_score</th>\n",
       "      <th>multi_partner_learning_approach</th>\n",
       "      <th>nb_samples_used</th>\n",
       "      <th>partners_count</th>\n",
       "      <th>samples_split_description</th>\n",
       "      <th>scenario_name</th>\n",
       "      <th>short_scenario_name</th>\n",
       "      <th>test_data_samples_count</th>\n",
       "      <th>train_data_samples_count</th>\n",
       "    </tr>\n",
       "  </thead>\n",
       "  <tbody>\n",
       "    <tr>\n",
       "      <th>0</th>\n",
       "      <td>uniform</td>\n",
       "      <td>[0.2, 0.5, 0.3]</td>\n",
       "      <td>mnist</td>\n",
       "      <td>10.0</td>\n",
       "      <td>[0.2, 0.5, 0.3]</td>\n",
       "      <td>8.0</td>\n",
       "      <td>1.0</td>\n",
       "      <td>96.601551</td>\n",
       "      <td>3.0</td>\n",
       "      <td>10.0</td>\n",
       "      <td>0.9876</td>\n",
       "      <td>fedavg</td>\n",
       "      <td>43740.0</td>\n",
       "      <td>3.0</td>\n",
       "      <td>random</td>\n",
       "      <td>scenario_1_repeat_1_2020-09-17_12h34_79b</td>\n",
       "      <td>3 [0.2, 0.5, 0.3]</td>\n",
       "      <td>10000.0</td>\n",
       "      <td>54000.0</td>\n",
       "    </tr>\n",
       "  </tbody>\n",
       "</table>\n",
       "</div>"
      ],
      "text/plain": [
       "  aggregation_weighting  ... train_data_samples_count\n",
       "0               uniform  ...                  54000.0\n",
       "\n",
       "[1 rows x 19 columns]"
      ]
     },
     "execution_count": 12,
     "metadata": {
      "tags": []
     },
     "output_type": "execute_result"
    }
   ],
   "source": [
    "df_results = my_scenario.to_dataframe()\n",
    "df_results.head()"
   ]
  },
  {
   "cell_type": "markdown",
   "metadata": {
    "colab_type": "text",
    "id": "XW_EH1fxddPp"
   },
   "source": [
    "#### Our score :"
   ]
  },
  {
   "cell_type": "code",
   "execution_count": 14,
   "metadata": {
    "colab": {
     "base_uri": "https://localhost:8080/",
     "height": 50
    },
    "colab_type": "code",
    "id": "hUBKGXfXddPp",
    "outputId": "0bf25f09-9a27-4097-c9f2-ddb84766e21a"
   },
   "outputs": [
    {
     "name": "stdout",
     "output_type": "stream",
     "text": [
      "Approach used : fedavg\n",
      "Model accuracy : 0.9876000285148621\n"
     ]
    }
   ],
   "source": [
    "print(\"Approach used :\", df_results.multi_partner_learning_approach[0])\n",
    "print(\"Model accuracy :\", df_results.mpl_test_score[0])"
   ]
  },
  {
   "cell_type": "markdown",
   "metadata": {
    "colab_type": "text",
    "id": "99jaKK2LddPr"
   },
   "source": [
    "## Extract model \n",
    "\n",
    "We can extract our model and save it for later"
   ]
  },
  {
   "cell_type": "code",
   "execution_count": null,
   "metadata": {
    "colab": {},
    "colab_type": "code",
    "id": "9wIdoS_bddPr"
   },
   "outputs": [],
   "source": [
    "model = my_scenario.mpl.get_model()"
   ]
  },
  {
   "cell_type": "code",
   "execution_count": null,
   "metadata": {
    "colab": {
     "base_uri": "https://localhost:8080/",
     "height": 52
    },
    "colab_type": "code",
    "id": "M4azOyxqddPu",
    "outputId": "3a4a8904-f156-4e96-b29b-1ff5c7faa60b"
   },
   "outputs": [
    {
     "name": "stdout",
     "output_type": "stream",
     "text": [
      "10000/10000 [==============================] - 1s 65us/step\n"
     ]
    },
    {
     "data": {
      "text/plain": [
       "[0.05563341381018981, 0.9811000227928162]"
      ]
     },
     "execution_count": 16,
     "metadata": {
      "tags": []
     },
     "output_type": "execute_result"
    }
   ],
   "source": [
    "x_test = my_scenario.dataset.x_test\n",
    "y_test = my_scenario.dataset.y_test\n",
    "model.evaluate(x_test, y_test)"
   ]
  },
  {
   "cell_type": "markdown",
   "metadata": {
    "colab_type": "text",
    "id": "VheE9NyxddPw"
   },
   "source": [
    "# That's it !\n",
    "\n",
    "Now you can explore our other tutorials for a better snapshot of what can be done with our library!"
   ]
  }
 ],
 "metadata": {
  "accelerator": "GPU",
  "colab": {
   "collapsed_sections": [],
   "name": "1 _INTRO_MNIST.ipynb",
   "provenance": []
  },
  "kernelspec": {
   "display_name": "Python 3",
   "language": "python",
   "name": "python3"
  },
  "language_info": {
   "codemirror_mode": {
    "name": "ipython",
    "version": 3
   },
   "file_extension": ".py",
   "mimetype": "text/x-python",
   "name": "python",
   "nbconvert_exporter": "python",
   "pygments_lexer": "ipython3",
   "version": "3.7.6"
  },
  "pycharm": {
   "stem_cell": {
    "cell_type": "raw",
    "source": [],
    "metadata": {
     "collapsed": false
    }
   }
  }
 },
 "nbformat": 4,
 "nbformat_minor": 1
}